{
 "cells": [
  {
   "cell_type": "code",
   "execution_count": 1,
   "metadata": {},
   "outputs": [],
   "source": [
    "import numpy as np\n",
    "import scipy.fftpack\n",
    "from scipy import ndimage\n",
    "import seaborn as sns\n",
    "import pandas as pd\n",
    "import matplotlib.pyplot as plt\n",
    "import math\n",
    "import sys\n",
    "import os\n",
    "from scipy.stats import norm\n",
    "#import matplotlib.mlab as mlab\n",
    "from SBR import sosf,acf,ps,sosfnorm#packagephd"
   ]
  },
  {
   "cell_type": "code",
   "execution_count": 2,
   "metadata": {},
   "outputs": [],
   "source": [
    "input_file_1='datosNGC604r.txt'#astronomicalobsevations\n",
    "input_file_2='datosNGC595r.txt'"
   ]
  },
  {
   "cell_type": "code",
   "execution_count": 3,
   "metadata": {},
   "outputs": [],
   "source": [
    "data_1=pd.read_table(input_file_1)#PandasDataFrameOriginalData\n",
    "data1=data_1.copy()#DataFrameForCalculations"
   ]
  },
  {
   "cell_type": "code",
   "execution_count": 4,
   "metadata": {},
   "outputs": [],
   "source": [
    "data_2=pd.read_table(input_file_2)#PandasDataFrameOriginalData\n",
    "data2=data_2.copy()#DataFrameForCalculations"
   ]
  },
  {
   "cell_type": "code",
   "execution_count": 5,
   "metadata": {},
   "outputs": [],
   "source": [
    "m1=(data_1.RA<125)&(data_1.RA>85)\n",
    "data1=data_1[m1]\n"
   ]
  },
  {
   "cell_type": "code",
   "execution_count": 6,
   "metadata": {},
   "outputs": [
    {
     "data": {
      "text/html": [
       "<div>\n",
       "<style scoped>\n",
       "    .dataframe tbody tr th:only-of-type {\n",
       "        vertical-align: middle;\n",
       "    }\n",
       "\n",
       "    .dataframe tbody tr th {\n",
       "        vertical-align: top;\n",
       "    }\n",
       "\n",
       "    .dataframe thead th {\n",
       "        text-align: right;\n",
       "    }\n",
       "</style>\n",
       "<table border=\"1\" class=\"dataframe\">\n",
       "  <thead>\n",
       "    <tr style=\"text-align: right;\">\n",
       "      <th></th>\n",
       "      <th>X</th>\n",
       "      <th>Y</th>\n",
       "      <th>RV</th>\n",
       "    </tr>\n",
       "  </thead>\n",
       "  <tbody>\n",
       "    <tr>\n",
       "      <td>count</td>\n",
       "      <td>300.00000</td>\n",
       "      <td>300.000000</td>\n",
       "      <td>300.000000</td>\n",
       "    </tr>\n",
       "    <tr>\n",
       "      <td>mean</td>\n",
       "      <td>105.26850</td>\n",
       "      <td>9.390000</td>\n",
       "      <td>-274.647015</td>\n",
       "    </tr>\n",
       "    <tr>\n",
       "      <td>std</td>\n",
       "      <td>11.62634</td>\n",
       "      <td>6.261276</td>\n",
       "      <td>9.243500</td>\n",
       "    </tr>\n",
       "    <tr>\n",
       "      <td>min</td>\n",
       "      <td>85.82400</td>\n",
       "      <td>0.000000</td>\n",
       "      <td>-296.649181</td>\n",
       "    </tr>\n",
       "    <tr>\n",
       "      <td>25%</td>\n",
       "      <td>95.21100</td>\n",
       "      <td>4.000000</td>\n",
       "      <td>-280.900828</td>\n",
       "    </tr>\n",
       "    <tr>\n",
       "      <td>50%</td>\n",
       "      <td>105.26850</td>\n",
       "      <td>9.000000</td>\n",
       "      <td>-275.362067</td>\n",
       "    </tr>\n",
       "    <tr>\n",
       "      <td>75%</td>\n",
       "      <td>115.32600</td>\n",
       "      <td>15.000000</td>\n",
       "      <td>-269.766206</td>\n",
       "    </tr>\n",
       "    <tr>\n",
       "      <td>max</td>\n",
       "      <td>124.71300</td>\n",
       "      <td>19.600000</td>\n",
       "      <td>-231.143341</td>\n",
       "    </tr>\n",
       "  </tbody>\n",
       "</table>\n",
       "</div>"
      ],
      "text/plain": [
       "               X           Y          RV\n",
       "count  300.00000  300.000000  300.000000\n",
       "mean   105.26850    9.390000 -274.647015\n",
       "std     11.62634    6.261276    9.243500\n",
       "min     85.82400    0.000000 -296.649181\n",
       "25%     95.21100    4.000000 -280.900828\n",
       "50%    105.26850    9.000000 -275.362067\n",
       "75%    115.32600   15.000000 -269.766206\n",
       "max    124.71300   19.600000 -231.143341"
      ]
     },
     "execution_count": 6,
     "metadata": {},
     "output_type": "execute_result"
    }
   ],
   "source": [
    "a=[data1.RA,data1.DE,data1['RVHalpha']]\n",
    "data1stat=pd.DataFrame(a).T\n",
    "data1stat.columns=['X','Y','RV']\n",
    "data1stat.describe()"
   ]
  },
  {
   "cell_type": "code",
   "execution_count": 17,
   "metadata": {},
   "outputs": [
    {
     "data": {
      "image/png": "[encoded data removed]",
      "text/plain": [
       "<Figure size 432x288 with 1 Axes>"
      ]
     },
     "metadata": {
      "needs_background": "light"
     },
     "output_type": "display_data"
    }
   ],
   "source": [
    "sfn_h1=sosfnorm(data1stat)"
   ]
  },
  {
   "cell_type": "code",
   "execution_count": 13,
   "metadata": {},
   "outputs": [
    {
     "data": {
      "image/png": "[encoded data removed]",
      "text/plain": [
       "<Figure size 432x288 with 1 Axes>"
      ]
     },
     "metadata": {
      "needs_background": "light"
     },
     "output_type": "display_data"
    }
   ],
   "source": [
    "af_h1=acf(data1stat)"
   ]
  },
  {
   "cell_type": "code",
   "execution_count": 8,
   "metadata": {},
   "outputs": [],
   "source": [
    "m2=(data2.RA<125)&(data2.RA>75)\n",
    "data2=data2[m2]"
   ]
  },
  {
   "cell_type": "code",
   "execution_count": 9,
   "metadata": {},
   "outputs": [
    {
     "data": {
      "text/html": [
       "<div>\n",
       "<style scoped>\n",
       "    .dataframe tbody tr th:only-of-type {\n",
       "        vertical-align: middle;\n",
       "    }\n",
       "\n",
       "    .dataframe tbody tr th {\n",
       "        vertical-align: top;\n",
       "    }\n",
       "\n",
       "    .dataframe thead th {\n",
       "        text-align: right;\n",
       "    }\n",
       "</style>\n",
       "<table border=\"1\" class=\"dataframe\">\n",
       "  <thead>\n",
       "    <tr style=\"text-align: right;\">\n",
       "      <th></th>\n",
       "      <th>X</th>\n",
       "      <th>Y</th>\n",
       "      <th>RV</th>\n",
       "    </tr>\n",
       "  </thead>\n",
       "  <tbody>\n",
       "    <tr>\n",
       "      <td>count</td>\n",
       "      <td>341.000000</td>\n",
       "      <td>341.000000</td>\n",
       "      <td>341.000000</td>\n",
       "    </tr>\n",
       "    <tr>\n",
       "      <td>mean</td>\n",
       "      <td>99.875513</td>\n",
       "      <td>10.571848</td>\n",
       "      <td>-232.335572</td>\n",
       "    </tr>\n",
       "    <tr>\n",
       "      <td>std</td>\n",
       "      <td>14.737914</td>\n",
       "      <td>7.007872</td>\n",
       "      <td>13.169220</td>\n",
       "    </tr>\n",
       "    <tr>\n",
       "      <td>min</td>\n",
       "      <td>75.100000</td>\n",
       "      <td>0.000000</td>\n",
       "      <td>-264.950000</td>\n",
       "    </tr>\n",
       "    <tr>\n",
       "      <td>25%</td>\n",
       "      <td>87.170000</td>\n",
       "      <td>5.000000</td>\n",
       "      <td>-239.500000</td>\n",
       "    </tr>\n",
       "    <tr>\n",
       "      <td>50%</td>\n",
       "      <td>99.230000</td>\n",
       "      <td>11.000000</td>\n",
       "      <td>-231.420000</td>\n",
       "    </tr>\n",
       "    <tr>\n",
       "      <td>75%</td>\n",
       "      <td>112.640000</td>\n",
       "      <td>15.000000</td>\n",
       "      <td>-222.420000</td>\n",
       "    </tr>\n",
       "    <tr>\n",
       "      <td>max</td>\n",
       "      <td>124.710000</td>\n",
       "      <td>22.000000</td>\n",
       "      <td>-207.300000</td>\n",
       "    </tr>\n",
       "  </tbody>\n",
       "</table>\n",
       "</div>"
      ],
      "text/plain": [
       "                X           Y          RV\n",
       "count  341.000000  341.000000  341.000000\n",
       "mean    99.875513   10.571848 -232.335572\n",
       "std     14.737914    7.007872   13.169220\n",
       "min     75.100000    0.000000 -264.950000\n",
       "25%     87.170000    5.000000 -239.500000\n",
       "50%     99.230000   11.000000 -231.420000\n",
       "75%    112.640000   15.000000 -222.420000\n",
       "max    124.710000   22.000000 -207.300000"
      ]
     },
     "execution_count": 9,
     "metadata": {},
     "output_type": "execute_result"
    }
   ],
   "source": [
    "a=[data2.RA,data2.DE,data2.RVHalpha]\n",
    "data2stat=pd.DataFrame(a).T\n",
    "data2stat.columns=['X','Y','RV']\n",
    "data2stat.describe()"
   ]
  },
  {
   "cell_type": "code",
   "execution_count": 14,
   "metadata": {},
   "outputs": [
    {
     "data": {
      "image/png": "[encoded data removed]",
      "text/plain": [
       "<Figure size 432x288 with 1 Axes>"
      ]
     },
     "metadata": {
      "needs_background": "light"
     },
     "output_type": "display_data"
    }
   ],
   "source": [
    "sfn_h2=sosfnorm(data2stat)"
   ]
  },
  {
   "cell_type": "code",
   "execution_count": 15,
   "metadata": {},
   "outputs": [
    {
     "data": {
      "image/png": "[encoded data removed]",
      "text/plain": [
       "<Figure size 432x288 with 1 Axes>"
      ]
     },
     "metadata": {
      "needs_background": "light"
     },
     "output_type": "display_data"
    }
   ],
   "source": [
    "af_h2=acf(data2stat)"
   ]
  },
  {
   "cell_type": "code",
   "execution_count": 27,
   "metadata": {},
   "outputs": [
    {
     "data": {
      "text/plain": [
       "<matplotlib.legend.Legend at 0x7fba69c825d0>"
      ]
     },
     "execution_count": 27,
     "metadata": {},
     "output_type": "execute_result"
    },
    {
     "data": {
      "image/png": "[encoded data removed]",
      "text/plain": [
       "<Figure size 432x288 with 1 Axes>"
      ]
     },
     "metadata": {
      "needs_background": "light"
     },
     "output_type": "display_data"
    }
   ],
   "source": [
    "fig, ax=plt.subplots()\n",
    "ax.errorbar(sfn_h1['Lag'],sfn_h1['Nmqvd'],xerr=sfn_h1.ErrX,yerr=sfn_h1.ErrY, fmt=\"o--\", color='k', ecolor='k', alpha=0.5, label=\"NGC 604\")\n",
    "ax.errorbar(af_h1['Lag pc'],af_h1['Nmqvd'],xerr=af_h1.ErrX,yerr=af_h1.ErrY, fmt=\"o-\", color='k', ecolor='k', alpha=0.5)\n",
    "ax.errorbar(sfn_h2['Lag'],sfn_h2['Nmqvd'],xerr=sfn_h2.ErrX,yerr=sfn_h2.ErrY, fmt=\"*--\", color='r', ecolor='r', alpha=0.5, label=\"NGC 595\")\n",
    "ax.errorbar(af_h2['Lag pc'],af_h2['Nmqvd'],xerr=af_h2.ErrX,yerr=af_h2.ErrY, fmt=\"*-\", color='r', ecolor='r', alpha=0.5)\n",
    "ax.set(xscale='log')\n",
    "ax.axhline(y=2, color='k', linestyle='--')\n",
    "ax.axhline(y=0, color='k', linestyle='--')\n",
    "ax.set(xlabel='lag, arcsec', ylabel='R(l),S(l)')\n",
    "plt.legend(loc='upper left')\n"
   ]
  },
  {
   "cell_type": "code",
   "execution_count": null,
   "metadata": {},
   "outputs": [],
   "source": []
  },
  {
   "cell_type": "code",
   "execution_count": null,
   "metadata": {},
   "outputs": [],
   "source": []
  },
  {
   "cell_type": "code",
   "execution_count": null,
   "metadata": {},
   "outputs": [],
   "source": []
  }
 ],
 "metadata": {
  "kernelspec": {
   "display_name": "Python 3",
   "language": "python",
   "name": "python3"
  },
  "language_info": {
   "codemirror_mode": {
    "name": "ipython",
    "version": 3
   },
   "file_extension": ".py",
   "mimetype": "text/x-python",
   "name": "python",
   "nbconvert_exporter": "python",
   "pygments_lexer": "ipython3",
   "version": "3.7.4"
  }
 },
 "nbformat": 4,
 "nbformat_minor": 2
}
