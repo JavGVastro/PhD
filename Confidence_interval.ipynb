{
 "cells": [
  {
   "cell_type": "code",
   "execution_count": 1,
   "metadata": {},
   "outputs": [],
   "source": [
    "import time\n",
    "start_time=time.time()"
   ]
  },
  {
   "cell_type": "code",
   "execution_count": 2,
   "metadata": {},
   "outputs": [],
   "source": [
    "import sys\n",
    "import json\n",
    "import numpy as np\n",
    "import matplotlib.pyplot as plt\n",
    "import time\n",
    "import pandas as pd\n",
    "import seaborn as sns\n",
    "import lmfit\n"
   ]
  },
  {
   "cell_type": "markdown",
   "metadata": {},
   "source": [
    "604"
   ]
  },
  {
   "cell_type": "code",
   "execution_count": 3,
   "metadata": {},
   "outputs": [],
   "source": [
    "def bfunc(r, r0, sig2, m, s0):\n",
    "    \"Theoretical structure function\"\n",
    "    C = 1.0 / (1.0 + (r/r0)**m)\n",
    "    a = (np.tanh((r/s0)**2))**2\n",
    "    return 2.0*a*sig2*(1 - C)\n",
    "\n",
    "data = json.load(open(\"SFdata//604.json\"))\n",
    "\n",
    "sns.set_color_codes()\n",
    "\n",
    "\n",
    "pixscale = 0.26 # arcsec\n",
    "pixscale *= 4.09              # parsec\n",
    "r = pixscale * 10**np.array(data[\"log10 r\"])\n",
    "B = np.array(data[\"Unweighted B(r)\"])\n",
    "sig2 = data[\"Unweighted sigma^2\"]\n",
    "B_w = np.array(data[\"Weighted B(r)\"])\n",
    "sig2_w = data[\"Weighted sigma^2\"]\n",
    "s0 = 4.09/2.355                    # parsec\n",
    "\n",
    "\n"
   ]
  },
  {
   "cell_type": "code",
   "execution_count": 4,
   "metadata": {},
   "outputs": [
    {
     "data": {
      "text/plain": [
       "array([  1.0634    ,   1.50209242,   2.12176195,   2.99706841,\n",
       "         4.23347165,   5.97993765,   8.44688645,  11.93154424,\n",
       "        16.85375421,  23.80656059,  33.62766064,  47.50033319,\n",
       "        67.09600401,  94.77562476, 133.87412829])"
      ]
     },
     "execution_count": 4,
     "metadata": {},
     "output_type": "execute_result"
    }
   ],
   "source": [
    "r"
   ]
  },
  {
   "cell_type": "code",
   "execution_count": 5,
   "metadata": {},
   "outputs": [
    {
     "data": {
      "text/plain": [
       "array([  1.9057852 ,   3.90697386,   7.22286646,  13.48128552,\n",
       "        23.47866655,  36.72422086,  52.04679308,  65.95774045,\n",
       "        75.41742209,  93.83361035, 123.03824318, 140.89454558,\n",
       "       120.49165553,  87.17814977,  59.48587133])"
      ]
     },
     "execution_count": 5,
     "metadata": {},
     "output_type": "execute_result"
    }
   ],
   "source": [
    "B"
   ]
  },
  {
   "cell_type": "code",
   "execution_count": 6,
   "metadata": {},
   "outputs": [
    {
     "data": {
      "text/plain": [
       "<matplotlib.legend.Legend at 0x2264f8b5c70>"
      ]
     },
     "execution_count": 6,
     "metadata": {},
     "output_type": "execute_result"
    },
    {
     "data": {
      "image/png": "[encoded data removed]",
      "text/plain": [
       "<Figure size 432x288 with 1 Axes>"
      ]
     },
     "metadata": {
      "needs_background": "light"
     },
     "output_type": "display_data"
    }
   ],
   "source": [
    "plt.scatter(r,B)\n",
    "\n",
    "lo=10.56\n",
    "n=1.15\n",
    "xx=np.linspace(0,100,100)\n",
    "a = (np.tanh((xx/s0)**2))**2\n",
    "c=1/(1+(xx/lo)**n)\n",
    "yy=2*a*(1-c)*sig2\n",
    "\n",
    "plt.loglog(xx,yy,color='k', linestyle='-',label='fit')\n",
    "\n",
    "lo=9.09\n",
    "n=1.7\n",
    "xx=np.linspace(0,100,100)\n",
    "a = (np.tanh((xx/s0)**2))**2\n",
    "c=1/(1+(xx/lo)**n)\n",
    "yy=2*a*(1-c)*sig2\n",
    "\n",
    "plt.loglog(xx,yy,color='r', linestyle='-',label='eye')\n",
    "\n",
    "plt.legend()"
   ]
  },
  {
   "cell_type": "code",
   "execution_count": null,
   "metadata": {},
   "outputs": [],
   "source": []
  },
  {
   "cell_type": "code",
   "execution_count": null,
   "metadata": {},
   "outputs": [],
   "source": []
  },
  {
   "cell_type": "markdown",
   "metadata": {},
   "source": [
    "Parameters a and b obtained by eye"
   ]
  },
  {
   "cell_type": "code",
   "execution_count": 7,
   "metadata": {},
   "outputs": [],
   "source": [
    "pars = lmfit.Parameters()\n",
    "pars.add_many(('a', 9.09), ('b', 1.7))\n",
    "def residual(p):\n",
    "    C=1.0 / (1.0 + (r/p['a'])**p['b'])\n",
    "    a = (np.tanh((r/s0)**2))**2\n",
    "    return np.log10(2.0*a*sig2*(1 - C))- np.log10(B)\n",
    "    #return 2.0*a*sig2*(1 - C)- B"
   ]
  },
  {
   "cell_type": "code",
   "execution_count": 8,
   "metadata": {},
   "outputs": [
    {
     "name": "stdout",
     "output_type": "stream",
     "text": [
      "[[Variables]]\n",
      "    a:  10.5605626 +/- 2.62284000 (24.84%) (init = 9.09)\n",
      "    b:  1.15602536 +/- 0.18699964 (16.18%) (init = 1.7)\n",
      "[[Correlations]] (unreported correlations are < 0.100)\n",
      "    C(a, b) = -0.819\n"
     ]
    }
   ],
   "source": [
    "mini = lmfit.Minimizer(residual, pars)\n",
    "result = mini.minimize()\n",
    "print(lmfit.fit_report(result.params))"
   ]
  },
  {
   "cell_type": "code",
   "execution_count": 9,
   "metadata": {},
   "outputs": [
    {
     "name": "stdout",
     "output_type": "stream",
     "text": [
      "      99.73%    95.45%    68.27%    _BEST_    68.27%    95.45%    99.73%\n",
      " a:  -5.49203  -3.88809  -2.12726  10.56056  +2.95214  +7.91687 +19.21838\n",
      " b:  -0.53940  -0.34260  -0.16963   1.15603  +0.18793  +0.42691  +0.78301\n"
     ]
    }
   ],
   "source": [
    "ci = lmfit.conf_interval(mini, result)\n",
    "lmfit.printfuncs.report_ci(ci)"
   ]
  },
  {
   "cell_type": "code",
   "execution_count": null,
   "metadata": {},
   "outputs": [],
   "source": []
  },
  {
   "cell_type": "code",
   "execution_count": 10,
   "metadata": {},
   "outputs": [
    {
     "name": "stdout",
     "output_type": "stream",
     "text": [
      "--- 3.102210521697998 seconds ---\n"
     ]
    }
   ],
   "source": [
    "print(\"--- %s seconds ---\" % (time.time()-start_time))"
   ]
  }
 ],
 "metadata": {
  "kernelspec": {
   "display_name": "Python 3",
   "language": "python",
   "name": "python3"
  },
  "language_info": {
   "codemirror_mode": {
    "name": "ipython",
    "version": 3
   },
   "file_extension": ".py",
   "mimetype": "text/x-python",
   "name": "python",
   "nbconvert_exporter": "python",
   "pygments_lexer": "ipython3",
   "version": "3.8.3"
  }
 },
 "nbformat": 4,
 "nbformat_minor": 4
}
