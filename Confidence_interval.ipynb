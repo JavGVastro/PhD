{
 "cells": [
  {
   "cell_type": "code",
   "execution_count": 1,
   "metadata": {},
   "outputs": [],
   "source": [
    "import time\n",
    "start_time=time.time()"
   ]
  },
  {
   "cell_type": "code",
   "execution_count": null,
   "metadata": {},
   "outputs": [],
   "source": [
    "import sys\n",
    "from pathlib import Path\n",
    "import json\n",
    "import numpy as np\n",
    "import strucfunc\n",
    "import matplotlib.pyplot as plt\n",
    "import time\n",
    "from astropy.io import fits\n",
    "import pandas as pd\n",
    "import seaborn as sns\n",
    "import math\n",
    "import sys\n",
    "import os\n",
    "from sabreMod import sosf,sosfh\n",
    "from scipy import interpolate\n",
    "import itertools\n",
    "import lmfit\n",
    "\n",
    "\n",
    "plt.rcParams[\"font.family\"]=\"Times New Roman\"\n",
    "plt.rcParams[\"font.size\"]=\"20\""
   ]
  },
  {
   "cell_type": "markdown",
   "metadata": {},
   "source": [
    "604"
   ]
  },
  {
   "cell_type": "code",
   "execution_count": null,
   "metadata": {},
   "outputs": [],
   "source": [
    "Sample='604'\n",
    "\n",
    "samples=pd.read_csv('SampleList//'+Sample+'.csv',header=None)\n",
    "\n",
    "N1N=dict()\n",
    "N1=dict()\n",
    "\n",
    "\n",
    "for i in range(len(samples)):\n",
    "    N1N[i]=samples[0][i]\n",
    "    \n",
    "for i in range(len(samples)):\n",
    "    N1[i]=pd.read_csv('SFdata//'+N1N[i]+'.csv')    \n",
    "\n",
    "samples"
   ]
  },
  {
   "cell_type": "code",
   "execution_count": null,
   "metadata": {},
   "outputs": [],
   "source": [
    "def bfunc(r, r0, sig2, m, s0):\n",
    "    \"Theoretical structure function\"\n",
    "    C = 1.0 / (1.0 + (r/r0)**m)\n",
    "    a = (np.tanh((r/s0)**2))**2\n",
    "    return 2.0*a*sig2*(1 - C)\n",
    "\n",
    "data = json.load(open(\"SFdata//604.json\"))\n",
    "\n",
    "sns.set_color_codes()\n",
    "fig, ax = plt.subplots(figsize=(8, 8))\n",
    "\n",
    "\n",
    "pixscale = 0.26 # arcsec\n",
    "pixscale *= 4.09              # parsec\n",
    "r = pixscale * 10**np.array(data[\"log10 r\"])\n",
    "B = np.array(data[\"Unweighted B(r)\"])\n",
    "sig2 = data[\"Unweighted sigma^2\"]\n",
    "B_w = np.array(data[\"Weighted B(r)\"])\n",
    "sig2_w = data[\"Weighted sigma^2\"]\n",
    "\n",
    "# Plot fit to unweighted strucfunc\n",
    "rgrid = pixscale * np.logspace(0.0, 2)\n",
    "r0 = np.interp(sig2, B, r)\n",
    "#r2 = np.interp((2*sig2), B, r)\n",
    "m = 1.7\n",
    "s0 = 4.09/2.355                    # parsec\n",
    "flabel = rf\"$m = {m:.2f}$, $r_0 = {r0:.1f}$ pc, $\\sigma^2 = {sig2:.0f}$ (km/s)$^2$\"\n",
    "ax.fill_between(\n",
    "    rgrid,\n",
    "    bfunc(rgrid, r0,sig2, m - 0.1, s0),\n",
    "    bfunc(rgrid, r0,sig2, m + 0.1, s0),\n",
    "    color=\"k\", alpha=0.1,\n",
    ")\n",
    "ax.plot(rgrid, bfunc(rgrid, r0, sig2, m, s0), color=\"red\")\n",
    "\n",
    "# Plot points from unweighted strucfunc\n",
    "ax.plot(r, B, 'o',  color='black')\n",
    "\n",
    "ax.axhline(sig2, color=\"k\", ls=\"-\")\n",
    "ax.axvline(x=r0, color='k', linestyle='-')\n",
    "\n",
    "ax.axhline(2*sig2, color=\"k\", ls=\":\")\n",
    "ax.axvline(x=27, color='k', linestyle=':')\n",
    "\n",
    "\n",
    "ax.set(\n",
    "    xscale = \"log\",\n",
    "    yscale = \"log\",\n",
    "    ylim  = [1, 250],\n",
    "    xlim  = [1, 150],\n",
    "    xlabel = \"r [pc]\",\n",
    "    ylabel = r\"B(r) [km$^{2}$/s$^{2}$]\",\n",
    ")\n",
    "\n",
    "\n",
    "ax.text(0.8, 0.25,'m ='+str(m), ha='center', va='center', transform=ax.transAxes, color='red')\n",
    "ax.text(0.83, 0.30,'r$_{0}$ = '+str(np.round(r0,2))+' pc', ha='center', va='center', transform=ax.transAxes, color='red')\n",
    "ax.text(0.84, 0.35,'σ = ' +str(np.round(sig2**(0.5),2)) + ' km/s', ha='center', va='center', transform=ax.transAxes, color='red')\n",
    "\n",
    "plt.loglog(N1[0].pc,N1[0].S,marker='+',color=\"gray\",alpha=0.75,label=\"MT 97\",markersize=\"12\")\n",
    "plt.loglog(N1[1].pc,N1[1].S,marker='*',color=\"gray\",alpha=0.75,label=\"Mk 19\",markersize=\"12\")\n",
    "\n",
    "\n",
    "plt.title('NGC 604')\n",
    "\n",
    "xs=np.linspace(1,4/2.355  ,10)\n",
    "ys=np.linspace(1,4,10)\n",
    "\n",
    "ax.fill_between(xs, 0, 1, where=ys > 0.5,\n",
    "                color='green', alpha=0.5, transform=ax.get_xaxis_transform())\n",
    "\n",
    "plt.tick_params(which='both', labelright=False, direction='in', right=True,  top=True)\n",
    "\n",
    "\n",
    "#fig.tight_layout()\n",
    "#sns.despine()\n",
    "\n",
    "plt.legend()\n",
    "plt.rcParams[\"font.family\"]=\"Times New Roman\"\n",
    "plt.rcParams[\"font.size\"]=\"21\"\n",
    "\n",
    "\n",
    "fig.savefig('SFplots//604.pdf', bbox_inches='tight')"
   ]
  },
  {
   "cell_type": "code",
   "execution_count": null,
   "metadata": {},
   "outputs": [],
   "source": [
    "r.max()/r0"
   ]
  },
  {
   "cell_type": "code",
   "execution_count": null,
   "metadata": {},
   "outputs": [],
   "source": []
  },
  {
   "cell_type": "code",
   "execution_count": null,
   "metadata": {},
   "outputs": [],
   "source": [
    "#x=np.log10(r)\n",
    "#y=np.log10(B)"
   ]
  },
  {
   "cell_type": "code",
   "execution_count": null,
   "metadata": {},
   "outputs": [],
   "source": [
    "plt.scatter(r,B)"
   ]
  },
  {
   "cell_type": "code",
   "execution_count": null,
   "metadata": {},
   "outputs": [],
   "source": [
    "pars = lmfit.Parameters()\n",
    "pars.add_many(('a', 9.09), ('b', 1.7))\n",
    "def residual(p):\n",
    "    C=1.0 / (1.0 + (r/(p['a'])**p['b']))\n",
    "    return 2.0*sig2*(1 - C)- B"
   ]
  },
  {
   "cell_type": "code",
   "execution_count": null,
   "metadata": {},
   "outputs": [],
   "source": [
    "mini = lmfit.Minimizer(residual, pars)\n",
    "result = mini.minimize()\n",
    "print(lmfit.fit_report(result.params))"
   ]
  },
  {
   "cell_type": "code",
   "execution_count": null,
   "metadata": {},
   "outputs": [],
   "source": [
    "ci = lmfit.conf_interval(mini, result)\n",
    "lmfit.printfuncs.report_ci(ci)"
   ]
  },
  {
   "cell_type": "code",
   "execution_count": null,
   "metadata": {},
   "outputs": [],
   "source": [
    "print(\"--- %s seconds ---\" % (time.time()-start_time))"
   ]
  }
 ],
 "metadata": {
  "kernelspec": {
   "display_name": "Python 3",
   "language": "python",
   "name": "python3"
  },
  "language_info": {
   "codemirror_mode": {
    "name": "ipython",
    "version": 3
   },
   "file_extension": ".py",
   "mimetype": "text/x-python",
   "name": "python",
   "nbconvert_exporter": "python",
   "pygments_lexer": "ipython3",
   "version": "3.8.3"
  }
 },
 "nbformat": 4,
 "nbformat_minor": 4
}
