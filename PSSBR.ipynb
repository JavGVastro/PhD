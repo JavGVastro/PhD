{
 "cells": [
  {
   "cell_type": "code",
   "execution_count": 1,
   "metadata": {},
   "outputs": [],
   "source": [
    "import numpy as np\n",
    "import scipy.fftpack\n",
    "from scipy import ndimage\n",
    "import seaborn as sns\n",
    "import pandas as pd\n",
    "import matplotlib.pyplot as plt\n",
    "import math\n",
    "import sys\n",
    "import os"
   ]
  },
  {
   "cell_type": "markdown",
   "metadata": {},
   "source": [
    "Data load"
   ]
  },
  {
   "cell_type": "code",
   "execution_count": 2,
   "metadata": {},
   "outputs": [],
   "source": [
    "data=pd.read_table('datos.txt')\n",
    "data_2=(data.round(2)).pivot(index='Y', columns='X', values='RV')"
   ]
  },
  {
   "cell_type": "code",
   "execution_count": 24,
   "metadata": {},
   "outputs": [],
   "source": [
    "nom_reg = '604'\n",
    "nom_lin = 'Halpha'\n",
    "pc=4.16"
   ]
  },
  {
   "cell_type": "code",
   "execution_count": 3,
   "metadata": {},
   "outputs": [
    {
     "data": {
      "text/html": [
       "<div>\n",
       "<style scoped>\n",
       "    .dataframe tbody tr th:only-of-type {\n",
       "        vertical-align: middle;\n",
       "    }\n",
       "\n",
       "    .dataframe tbody tr th {\n",
       "        vertical-align: top;\n",
       "    }\n",
       "\n",
       "    .dataframe thead th {\n",
       "        text-align: right;\n",
       "    }\n",
       "</style>\n",
       "<table border=\"1\" class=\"dataframe\">\n",
       "  <thead>\n",
       "    <tr style=\"text-align: right;\">\n",
       "      <th></th>\n",
       "      <th>X</th>\n",
       "      <th>Y</th>\n",
       "      <th>RV</th>\n",
       "    </tr>\n",
       "  </thead>\n",
       "  <tbody>\n",
       "    <tr>\n",
       "      <td>count</td>\n",
       "      <td>330.000000</td>\n",
       "      <td>330.000000</td>\n",
       "      <td>330.000000</td>\n",
       "    </tr>\n",
       "    <tr>\n",
       "      <td>mean</td>\n",
       "      <td>107.280000</td>\n",
       "      <td>9.390000</td>\n",
       "      <td>-275.757688</td>\n",
       "    </tr>\n",
       "    <tr>\n",
       "      <td>std</td>\n",
       "      <td>12.788265</td>\n",
       "      <td>6.260324</td>\n",
       "      <td>9.697986</td>\n",
       "    </tr>\n",
       "    <tr>\n",
       "      <td>min</td>\n",
       "      <td>85.824000</td>\n",
       "      <td>0.000000</td>\n",
       "      <td>-296.649181</td>\n",
       "    </tr>\n",
       "    <tr>\n",
       "      <td>25%</td>\n",
       "      <td>96.552000</td>\n",
       "      <td>4.000000</td>\n",
       "      <td>-282.613847</td>\n",
       "    </tr>\n",
       "    <tr>\n",
       "      <td>50%</td>\n",
       "      <td>107.280000</td>\n",
       "      <td>9.000000</td>\n",
       "      <td>-276.070115</td>\n",
       "    </tr>\n",
       "    <tr>\n",
       "      <td>75%</td>\n",
       "      <td>118.008000</td>\n",
       "      <td>15.000000</td>\n",
       "      <td>-270.394313</td>\n",
       "    </tr>\n",
       "    <tr>\n",
       "      <td>max</td>\n",
       "      <td>128.736000</td>\n",
       "      <td>19.600000</td>\n",
       "      <td>-231.143341</td>\n",
       "    </tr>\n",
       "  </tbody>\n",
       "</table>\n",
       "</div>"
      ],
      "text/plain": [
       "                X           Y          RV\n",
       "count  330.000000  330.000000  330.000000\n",
       "mean   107.280000    9.390000 -275.757688\n",
       "std     12.788265    6.260324    9.697986\n",
       "min     85.824000    0.000000 -296.649181\n",
       "25%     96.552000    4.000000 -282.613847\n",
       "50%    107.280000    9.000000 -276.070115\n",
       "75%    118.008000   15.000000 -270.394313\n",
       "max    128.736000   19.600000 -231.143341"
      ]
     },
     "execution_count": 3,
     "metadata": {},
     "output_type": "execute_result"
    }
   ],
   "source": [
    "data.describe()"
   ]
  },
  {
   "cell_type": "code",
   "execution_count": 4,
   "metadata": {},
   "outputs": [
    {
     "data": {
      "text/plain": [
       "(0.0, 33.0, 0.0, 10.0)"
      ]
     },
     "execution_count": 4,
     "metadata": {},
     "output_type": "execute_result"
    },
    {
     "data": {
      "image/png": "[encoded data removed]",
      "text/plain": [
       "<Figure size 432x288 with 2 Axes>"
      ]
     },
     "metadata": {
      "needs_background": "light"
     },
     "output_type": "display_data"
    }
   ],
   "source": [
    "sns.heatmap(data_2, cmap=\"viridis\")\n",
    "plt.gca().invert_yaxis()\n",
    "plt.axis('equal')"
   ]
  },
  {
   "cell_type": "markdown",
   "metadata": {},
   "source": [
    "Energy Spectrum\n",
    "$$E(k) \\propto k^{-\\beta}$$\n",
    "Turbulent case\n",
    "$$\\beta = -5 / 3,-2$$\n",
    "Energy-Power Spectrum relation\n",
    "$$E(k) \\propto k^{N-1} P(k)$$\n",
    "where it is fulfiled\n",
    "$$P(k)\\propto k^{-\\gamma}$$"
   ]
  },
  {
   "cell_type": "markdown",
   "metadata": {},
   "source": [
    "Fourier Transform 2D"
   ]
  },
  {
   "cell_type": "code",
   "execution_count": 5,
   "metadata": {},
   "outputs": [],
   "source": [
    "#Return multidimensional discrete Fourier transform.\n",
    "FT2a=scipy.fftpack.fft2(data_2)\n",
    "#Shift the zero-frequency component to the center of the spectrum.\n",
    "FT2 = scipy.fftpack.fftshift(FT2a)\n",
    "power_s = np.abs(FT2)"
   ]
  },
  {
   "cell_type": "code",
   "execution_count": 6,
   "metadata": {},
   "outputs": [
    {
     "data": {
      "text/plain": [
       "(0.0, 33.0, 0.0, 10.0)"
      ]
     },
     "execution_count": 6,
     "metadata": {},
     "output_type": "execute_result"
    },
    {
     "data": {
      "image/png": "[encoded data removed]",
      "text/plain": [
       "<Figure size 432x288 with 2 Axes>"
      ]
     },
     "metadata": {
      "needs_background": "light"
     },
     "output_type": "display_data"
    }
   ],
   "source": [
    "sns.heatmap(np.log10(power_s), cmap=\"inferno\")\n",
    "plt.gca().invert_yaxis()\n",
    "plt.axis('equal')"
   ]
  },
  {
   "cell_type": "markdown",
   "metadata": {},
   "source": [
    "PSD1D\n",
    "https://medium.com/tangibit-studios/2d-spectrum-characterization-e288f255cc59\n"
   ]
  },
  {
   "cell_type": "code",
   "execution_count": 7,
   "metadata": {},
   "outputs": [],
   "source": [
    "h  = power_s.shape[0]\n",
    "w  = power_s.shape[1]\n",
    "wc = w//2\n",
    "hc = h//2\n",
    "\n",
    "# create an array of integer radial distances from the center\n",
    "Y, X = np.ogrid[0:h, 0:w]\n",
    "r    = np.hypot(X - wc, Y - hc).astype(np.int)\n",
    "rdf=pd.DataFrame(r)"
   ]
  },
  {
   "cell_type": "code",
   "execution_count": 8,
   "metadata": {},
   "outputs": [
    {
     "data": {
      "text/plain": [
       "(0.0, 33.0, 0.0, 10.0)"
      ]
     },
     "execution_count": 8,
     "metadata": {},
     "output_type": "execute_result"
    },
    {
     "data": {
      "image/png": "[encoded data removed]",
      "text/plain": [
       "<Figure size 432x288 with 2 Axes>"
      ]
     },
     "metadata": {
      "needs_background": "light"
     },
     "output_type": "display_data"
    }
   ],
   "source": [
    "sns.heatmap(rdf)\n",
    "plt.gca().invert_yaxis()\n",
    "plt.axis('equal')"
   ]
  },
  {
   "cell_type": "code",
   "execution_count": 9,
   "metadata": {},
   "outputs": [
    {
     "data": {
      "text/plain": [
       "array([91000.01      ,  3967.5307509 ,  4825.6521439 ,  4089.13884688,\n",
       "        4951.6560172 ,  5427.48287182,  2625.79168573,  2679.5785896 ,\n",
       "        1877.77752426,  1186.73794389,  1542.8536051 ,  1410.06073371,\n",
       "        1436.9772572 ,  1645.90588453,  1093.0009225 ,   773.67779786,\n",
       "         951.9044606 ])"
      ]
     },
     "execution_count": 9,
     "metadata": {},
     "output_type": "execute_result"
    }
   ],
   "source": [
    "# SUM all psd2D pixels with label 'r' for 0<=r<=wc\n",
    "psd1D_1= ndimage.sum(power_s, r, index=np.arange(0, wc+1))\n",
    "psd1D_1"
   ]
  },
  {
   "cell_type": "markdown",
   "metadata": {},
   "source": [
    "Out of the black-box method"
   ]
  },
  {
   "cell_type": "code",
   "execution_count": 10,
   "metadata": {},
   "outputs": [],
   "source": [
    "psdf=pd.DataFrame(power_s)\n",
    "data_ps=dict()"
   ]
  },
  {
   "cell_type": "code",
   "execution_count": 11,
   "metadata": {},
   "outputs": [],
   "source": [
    "for i in range(wc+1):\n",
    "    m=(rdf==i)\n",
    "    psm=(psdf[m].fillna(0)).to_numpy()\n",
    "    s=psm.sum()\n",
    "    err=psm.std()/np.sqrt(len(psm)-1)\n",
    "    data_ps[i]=[i,s,err]\n",
    "    \n",
    "psd1D_2=pd.DataFrame(data_ps).T"
   ]
  },
  {
   "cell_type": "code",
   "execution_count": 12,
   "metadata": {},
   "outputs": [
    {
     "data": {
      "text/html": [
       "<div>\n",
       "<style scoped>\n",
       "    .dataframe tbody tr th:only-of-type {\n",
       "        vertical-align: middle;\n",
       "    }\n",
       "\n",
       "    .dataframe tbody tr th {\n",
       "        vertical-align: top;\n",
       "    }\n",
       "\n",
       "    .dataframe thead th {\n",
       "        text-align: right;\n",
       "    }\n",
       "</style>\n",
       "<table border=\"1\" class=\"dataframe\">\n",
       "  <thead>\n",
       "    <tr style=\"text-align: right;\">\n",
       "      <th></th>\n",
       "      <th>0</th>\n",
       "      <th>1</th>\n",
       "      <th>2</th>\n",
       "    </tr>\n",
       "  </thead>\n",
       "  <tbody>\n",
       "    <tr>\n",
       "      <td>0</td>\n",
       "      <td>0.0</td>\n",
       "      <td>91000.010000</td>\n",
       "      <td>1667.263315</td>\n",
       "    </tr>\n",
       "    <tr>\n",
       "      <td>1</td>\n",
       "      <td>1.0</td>\n",
       "      <td>3967.530751</td>\n",
       "      <td>28.312414</td>\n",
       "    </tr>\n",
       "    <tr>\n",
       "      <td>2</td>\n",
       "      <td>2.0</td>\n",
       "      <td>4825.652144</td>\n",
       "      <td>29.492494</td>\n",
       "    </tr>\n",
       "    <tr>\n",
       "      <td>3</td>\n",
       "      <td>3.0</td>\n",
       "      <td>4089.138847</td>\n",
       "      <td>17.519286</td>\n",
       "    </tr>\n",
       "    <tr>\n",
       "      <td>4</td>\n",
       "      <td>4.0</td>\n",
       "      <td>4951.656017</td>\n",
       "      <td>20.128097</td>\n",
       "    </tr>\n",
       "  </tbody>\n",
       "</table>\n",
       "</div>"
      ],
      "text/plain": [
       "     0             1            2\n",
       "0  0.0  91000.010000  1667.263315\n",
       "1  1.0   3967.530751    28.312414\n",
       "2  2.0   4825.652144    29.492494\n",
       "3  3.0   4089.138847    17.519286\n",
       "4  4.0   4951.656017    20.128097"
      ]
     },
     "execution_count": 12,
     "metadata": {},
     "output_type": "execute_result"
    }
   ],
   "source": [
    "psd1D_2.head()"
   ]
  },
  {
   "cell_type": "code",
   "execution_count": 13,
   "metadata": {},
   "outputs": [
    {
     "data": {
      "text/plain": [
       "-1.2505552149377763e-12"
      ]
     },
     "execution_count": 13,
     "metadata": {},
     "output_type": "execute_result"
    }
   ],
   "source": [
    "Err_12=psd1D_1-psd1D_2[1]\n",
    "Err_12.sum()"
   ]
  },
  {
   "cell_type": "code",
   "execution_count": 39,
   "metadata": {},
   "outputs": [
    {
     "data": {
      "text/plain": [
       "Text(0, 0.5, '$ \\\\mathrm{P(k)},\\\\ \\\\mathrm{km^2\\\\ s^{-2}}$')"
      ]
     },
     "execution_count": 39,
     "metadata": {},
     "output_type": "execute_result"
    },
    {
     "data": {
      "image/png": "[encoded data removed]",
      "text/plain": [
       "<Figure size 432x288 with 1 Axes>"
      ]
     },
     "metadata": {
      "needs_background": "light"
     },
     "output_type": "display_data"
    }
   ],
   "source": [
    "plt.loglog(psd1D_1, color='k', alpha=0.5)\n",
    "plt.ylim(psd1D_2[1].min()*0.6, psd1D_2[1].max()*1.3)\n",
    "plt.grid()\n",
    "plt.xlabel('wavenumber (k), 1/arcsec')\n",
    "plt.ylabel(r'$ \\mathrm{P(k)},\\ \\mathrm{km^2\\ s^{-2}}$')"
   ]
  },
  {
   "cell_type": "code",
   "execution_count": 27,
   "metadata": {},
   "outputs": [
    {
     "data": {
      "text/plain": [
       "[Text(0, 0.5, '$ \\\\mathrm{P(k)},\\\\ \\\\mathrm{km^2\\\\ s^{-2}}$'),\n",
       " Text(0.5, 0, 'wavenumber (k), 1/arcsec')]"
      ]
     },
     "execution_count": 27,
     "metadata": {},
     "output_type": "execute_result"
    },
    {
     "data": {
      "image/png": "[encoded data removed]",
      "text/plain": [
       "<Figure size 432x288 with 1 Axes>"
      ]
     },
     "metadata": {
      "needs_background": "light"
     },
     "output_type": "display_data"
    }
   ],
   "source": [
    "fig, ax=plt.subplots()\n",
    "sgrid = np.logspace(0.5, 1.2)\n",
    "#plt.plot(sgrid, (10**7)*sgrid**(-11/3), color=\"k\", lw=1, label=\"Kolmogorov\")\n",
    "#plt.plot(sgrid, (10**5.1)*sgrid**(-2), color=\"r\", lw=1, label=\"Burgers\")\n",
    "ax.errorbar(psd1D_2[0],psd1D_2[1],yerr=psd1D_2[2], fmt=\"o-\", ecolor='k', alpha=0.5)\n",
    "ax.set(xscale='log',yscale='log')\n",
    "#plt.legend()\n",
    "#plt.xlim(2, 20)\n",
    "plt.ylim(psd1D_2[1].min()*0.6, psd1D_2[1].max()*1.3)\n",
    "ax.grid()\n",
    "ax.set(xlabel='wavenumber (k), 1/arcsec', ylabel=r'$ \\mathrm{P(k)},\\ \\mathrm{km^2\\ s^{-2}}$')"
   ]
  }
 ],
 "metadata": {
  "kernelspec": {
   "display_name": "Python 3",
   "language": "python",
   "name": "python3"
  },
  "language_info": {
   "codemirror_mode": {
    "name": "ipython",
    "version": 3
   },
   "file_extension": ".py",
   "mimetype": "text/x-python",
   "name": "python",
   "nbconvert_exporter": "python",
   "pygments_lexer": "ipython3",
   "version": "3.6.8"
  }
 },
 "nbformat": 4,
 "nbformat_minor": 2
}
