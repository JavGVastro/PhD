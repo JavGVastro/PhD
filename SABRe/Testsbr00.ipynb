{
 "cells": [
  {
   "cell_type": "code",
   "execution_count": 1,
   "metadata": {},
   "outputs": [],
   "source": [
    "import time\n",
    "start_time=time.time()"
   ]
  },
  {
   "cell_type": "code",
   "execution_count": 2,
   "metadata": {},
   "outputs": [],
   "source": [
    "import numpy as np\n",
    "import seaborn as sns\n",
    "import pandas as pd\n",
    "import matplotlib.pyplot as plt"
   ]
  },
  {
   "cell_type": "code",
   "execution_count": 3,
   "metadata": {},
   "outputs": [],
   "source": [
    "from sabreSA00 import sosf,sosfn,acf,sosfw,sosfwp,sosfh,pswk"
   ]
  },
  {
   "cell_type": "code",
   "execution_count": 4,
   "metadata": {},
   "outputs": [],
   "source": [
    "data=pd.read_csv(\"datos/datos3.csv\")\n",
    "data=data.rename(columns={'Unnamed: 0':'No'})\n",
    "data=data.drop('No',axis=1)"
   ]
  },
  {
   "cell_type": "code",
   "execution_count": 5,
   "metadata": {},
   "outputs": [
    {
     "data": {
      "text/html": [
       "<div>\n",
       "<style scoped>\n",
       "    .dataframe tbody tr th:only-of-type {\n",
       "        vertical-align: middle;\n",
       "    }\n",
       "\n",
       "    .dataframe tbody tr th {\n",
       "        vertical-align: top;\n",
       "    }\n",
       "\n",
       "    .dataframe thead th {\n",
       "        text-align: right;\n",
       "    }\n",
       "</style>\n",
       "<table border=\"1\" class=\"dataframe\">\n",
       "  <thead>\n",
       "    <tr style=\"text-align: right;\">\n",
       "      <th></th>\n",
       "      <th>X</th>\n",
       "      <th>Y</th>\n",
       "      <th>RV</th>\n",
       "      <th>I</th>\n",
       "    </tr>\n",
       "  </thead>\n",
       "  <tbody>\n",
       "    <tr>\n",
       "      <th>0</th>\n",
       "      <td>144.83</td>\n",
       "      <td>19.6</td>\n",
       "      <td>-248.768878</td>\n",
       "      <td>73.97</td>\n",
       "    </tr>\n",
       "    <tr>\n",
       "      <th>1</th>\n",
       "      <td>143.49</td>\n",
       "      <td>19.6</td>\n",
       "      <td>-249.728170</td>\n",
       "      <td>94.17</td>\n",
       "    </tr>\n",
       "    <tr>\n",
       "      <th>2</th>\n",
       "      <td>142.15</td>\n",
       "      <td>19.6</td>\n",
       "      <td>-252.788768</td>\n",
       "      <td>101.40</td>\n",
       "    </tr>\n",
       "    <tr>\n",
       "      <th>3</th>\n",
       "      <td>140.81</td>\n",
       "      <td>19.6</td>\n",
       "      <td>-260.371743</td>\n",
       "      <td>118.20</td>\n",
       "    </tr>\n",
       "    <tr>\n",
       "      <th>4</th>\n",
       "      <td>139.46</td>\n",
       "      <td>19.6</td>\n",
       "      <td>-270.284427</td>\n",
       "      <td>180.00</td>\n",
       "    </tr>\n",
       "    <tr>\n",
       "      <th>...</th>\n",
       "      <td>...</td>\n",
       "      <td>...</td>\n",
       "      <td>...</td>\n",
       "      <td>...</td>\n",
       "    </tr>\n",
       "    <tr>\n",
       "      <th>595</th>\n",
       "      <td>71.07</td>\n",
       "      <td>0.0</td>\n",
       "      <td>-223.644563</td>\n",
       "      <td>471.50</td>\n",
       "    </tr>\n",
       "    <tr>\n",
       "      <th>596</th>\n",
       "      <td>69.73</td>\n",
       "      <td>0.0</td>\n",
       "      <td>-223.827285</td>\n",
       "      <td>631.80</td>\n",
       "    </tr>\n",
       "    <tr>\n",
       "      <th>597</th>\n",
       "      <td>68.39</td>\n",
       "      <td>0.0</td>\n",
       "      <td>-223.827285</td>\n",
       "      <td>729.80</td>\n",
       "    </tr>\n",
       "    <tr>\n",
       "      <th>598</th>\n",
       "      <td>67.05</td>\n",
       "      <td>0.0</td>\n",
       "      <td>-224.740897</td>\n",
       "      <td>339.00</td>\n",
       "    </tr>\n",
       "    <tr>\n",
       "      <th>599</th>\n",
       "      <td>65.71</td>\n",
       "      <td>0.0</td>\n",
       "      <td>-226.431078</td>\n",
       "      <td>146.10</td>\n",
       "    </tr>\n",
       "  </tbody>\n",
       "</table>\n",
       "<p>600 rows × 4 columns</p>\n",
       "</div>"
      ],
      "text/plain": [
       "          X     Y          RV       I\n",
       "0    144.83  19.6 -248.768878   73.97\n",
       "1    143.49  19.6 -249.728170   94.17\n",
       "2    142.15  19.6 -252.788768  101.40\n",
       "3    140.81  19.6 -260.371743  118.20\n",
       "4    139.46  19.6 -270.284427  180.00\n",
       "..      ...   ...         ...     ...\n",
       "595   71.07   0.0 -223.644563  471.50\n",
       "596   69.73   0.0 -223.827285  631.80\n",
       "597   68.39   0.0 -223.827285  729.80\n",
       "598   67.05   0.0 -224.740897  339.00\n",
       "599   65.71   0.0 -226.431078  146.10\n",
       "\n",
       "[600 rows x 4 columns]"
      ]
     },
     "execution_count": 5,
     "metadata": {},
     "output_type": "execute_result"
    }
   ],
   "source": [
    "data"
   ]
  },
  {
   "cell_type": "code",
   "execution_count": 6,
   "metadata": {},
   "outputs": [
    {
     "name": "stderr",
     "output_type": "stream",
     "text": [
      "C:\\Users\\ZAINTEL2\\anaconda3\\lib\\site-packages\\pandas\\core\\series.py:679: RuntimeWarning: divide by zero encountered in log10\n",
      "  result = getattr(ufunc, method)(*inputs, **kwargs)\n"
     ]
    }
   ],
   "source": [
    "st=1.341\n",
    "a=sosf(data,st)\n",
    "b=sosfn(data,st)\n",
    "c=acf(data,st)\n",
    "d=sosfw(data,st)\n",
    "e=sosfwp(data,st)\n",
    "f=sosfh(data,800)\n",
    "g=pswk(c,data)"
   ]
  },
  {
   "cell_type": "code",
   "execution_count": 7,
   "metadata": {},
   "outputs": [
    {
     "data": {
      "text/plain": [
       "[<matplotlib.lines.Line2D at 0x245db631df0>]"
      ]
     },
     "execution_count": 7,
     "metadata": {},
     "output_type": "execute_result"
    },
    {
     "data": {
      "image/png": "[encoded data removed]",
      "text/plain": [
       "<Figure size 432x288 with 1 Axes>"
      ]
     },
     "metadata": {
      "needs_background": "light"
     },
     "output_type": "display_data"
    }
   ],
   "source": [
    "plt.loglog(a.Lag,a.Nmqvd)\n",
    "plt.loglog(b.Lag,b.Nmqvd)\n",
    "plt.loglog(d.Lag,d.Nmqvd)\n",
    "#plt.loglog(e.Lag,e.Nmqvd)\n",
    "plt.loglog(f.Lag,f.Nmqvd)\n",
    "plt.loglog(g.k,g.Pk)"
   ]
  },
  {
   "cell_type": "code",
   "execution_count": 8,
   "metadata": {},
   "outputs": [
    {
     "data": {
      "text/plain": [
       "[<matplotlib.lines.Line2D at 0x245da608310>]"
      ]
     },
     "execution_count": 8,
     "metadata": {},
     "output_type": "execute_result"
    },
    {
     "data": {
      "image/png": "[encoded data removed]",
      "text/plain": [
       "<Figure size 432x288 with 1 Axes>"
      ]
     },
     "metadata": {
      "needs_background": "light"
     },
     "output_type": "display_data"
    }
   ],
   "source": [
    "plt.plot(c.Lag,c.Nmqvd)"
   ]
  },
  {
   "cell_type": "code",
   "execution_count": 9,
   "metadata": {},
   "outputs": [
    {
     "name": "stdout",
     "output_type": "stream",
     "text": [
      "--- 9.844965934753418 seconds ---\n"
     ]
    }
   ],
   "source": [
    "print(\"--- %s seconds ---\" % (time.time()-start_time))"
   ]
  }
 ],
 "metadata": {
  "kernelspec": {
   "display_name": "Python 3",
   "language": "python",
   "name": "python3"
  },
  "language_info": {
   "codemirror_mode": {
    "name": "ipython",
    "version": 3
   },
   "file_extension": ".py",
   "mimetype": "text/x-python",
   "name": "python",
   "nbconvert_exporter": "python",
   "pygments_lexer": "ipython3",
   "version": "3.8.3"
  }
 },
 "nbformat": 4,
 "nbformat_minor": 4
}
