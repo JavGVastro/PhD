{
 "cells": [
  {
   "cell_type": "markdown",
   "metadata": {},
   "source": [
    "#Power Spectrum"
   ]
  },
  {
   "cell_type": "markdown",
   "metadata": {},
   "source": [
    "Abstract: The aim of the next code is to stablish a proper way to obtain the power spectrum of a 2D image, in our case of interest a GEHR radial velocity field (3 X N format) and it's power spectral density (PSD) in 1D  for comparisons with turbulence theory , particullary the -5/3 Kolmogorov law. In this example a txt file is used as an input (we will develop the option for an image and fits file in future versions). The procedures follows the next steps: 1) Calculatiang the FFT in 2D for the input file, 2)a frecuency shift and 3) a radial average. Differents methods are presented for step 3), a discussion of their implementation and a comparison is presented. These methods show good agrement in the behaviour despite one particular pakcage. One the code is finished its aim is to expand its use.    "
   ]
  },
  {
   "cell_type": "code",
   "execution_count": 1,
   "metadata": {},
   "outputs": [],
   "source": [
    "import matplotlib.pyplot as plt\n",
    "import numpy as np\n",
    "import pandas as pd\n",
    "import seaborn as sns\n",
    "import scipy.fftpack\n",
    "from scipy import ndimage#3) method\n",
    "import radial_data#3) method\n",
    "import radialProfile#3) method\n",
    "# from turbustat.statistics import PowerSpectrum #3) method"
   ]
  },
  {
   "cell_type": "markdown",
   "metadata": {},
   "source": [
    "Data load: Text file"
   ]
  },
  {
   "cell_type": "code",
   "execution_count": 2,
   "metadata": {},
   "outputs": [],
   "source": [
    "data=pd.read_table('datos.txt')"
   ]
  },
  {
   "cell_type": "markdown",
   "metadata": {},
   "source": [
    "Data transform: N x 3 list ---> N x N table"
   ]
  },
  {
   "cell_type": "code",
   "execution_count": 3,
   "metadata": {},
   "outputs": [],
   "source": [
    "data_2=(data.round(2)).pivot(index='Y', columns='X', values='RV')"
   ]
  },
  {
   "cell_type": "markdown",
   "metadata": {},
   "source": [
    "Astronomical Object Info"
   ]
  },
  {
   "cell_type": "code",
   "execution_count": 4,
   "metadata": {},
   "outputs": [],
   "source": [
    "nom_reg = '604'\n",
    "nom_lin = 'Halpha'\n",
    "pc=4.16"
   ]
  },
  {
   "cell_type": "code",
   "execution_count": 5,
   "metadata": {},
   "outputs": [
    {
     "data": {
      "text/html": [
       "<div>\n",
       "<style scoped>\n",
       "    .dataframe tbody tr th:only-of-type {\n",
       "        vertical-align: middle;\n",
       "    }\n",
       "\n",
       "    .dataframe tbody tr th {\n",
       "        vertical-align: top;\n",
       "    }\n",
       "\n",
       "    .dataframe thead th {\n",
       "        text-align: right;\n",
       "    }\n",
       "</style>\n",
       "<table border=\"1\" class=\"dataframe\">\n",
       "  <thead>\n",
       "    <tr style=\"text-align: right;\">\n",
       "      <th></th>\n",
       "      <th>X</th>\n",
       "      <th>Y</th>\n",
       "      <th>RV</th>\n",
       "    </tr>\n",
       "  </thead>\n",
       "  <tbody>\n",
       "    <tr>\n",
       "      <td>count</td>\n",
       "      <td>330.000000</td>\n",
       "      <td>330.000000</td>\n",
       "      <td>330.000000</td>\n",
       "    </tr>\n",
       "    <tr>\n",
       "      <td>mean</td>\n",
       "      <td>107.280000</td>\n",
       "      <td>9.390000</td>\n",
       "      <td>-275.757688</td>\n",
       "    </tr>\n",
       "    <tr>\n",
       "      <td>std</td>\n",
       "      <td>12.788265</td>\n",
       "      <td>6.260324</td>\n",
       "      <td>9.697986</td>\n",
       "    </tr>\n",
       "    <tr>\n",
       "      <td>min</td>\n",
       "      <td>85.824000</td>\n",
       "      <td>0.000000</td>\n",
       "      <td>-296.649181</td>\n",
       "    </tr>\n",
       "    <tr>\n",
       "      <td>25%</td>\n",
       "      <td>96.552000</td>\n",
       "      <td>4.000000</td>\n",
       "      <td>-282.613847</td>\n",
       "    </tr>\n",
       "    <tr>\n",
       "      <td>50%</td>\n",
       "      <td>107.280000</td>\n",
       "      <td>9.000000</td>\n",
       "      <td>-276.070115</td>\n",
       "    </tr>\n",
       "    <tr>\n",
       "      <td>75%</td>\n",
       "      <td>118.008000</td>\n",
       "      <td>15.000000</td>\n",
       "      <td>-270.394313</td>\n",
       "    </tr>\n",
       "    <tr>\n",
       "      <td>max</td>\n",
       "      <td>128.736000</td>\n",
       "      <td>19.600000</td>\n",
       "      <td>-231.143341</td>\n",
       "    </tr>\n",
       "  </tbody>\n",
       "</table>\n",
       "</div>"
      ],
      "text/plain": [
       "                X           Y          RV\n",
       "count  330.000000  330.000000  330.000000\n",
       "mean   107.280000    9.390000 -275.757688\n",
       "std     12.788265    6.260324    9.697986\n",
       "min     85.824000    0.000000 -296.649181\n",
       "25%     96.552000    4.000000 -282.613847\n",
       "50%    107.280000    9.000000 -276.070115\n",
       "75%    118.008000   15.000000 -270.394313\n",
       "max    128.736000   19.600000 -231.143341"
      ]
     },
     "execution_count": 5,
     "metadata": {},
     "output_type": "execute_result"
    }
   ],
   "source": [
    "data.describe()"
   ]
  },
  {
   "cell_type": "code",
   "execution_count": 6,
   "metadata": {},
   "outputs": [
    {
     "data": {
      "image/png": "[encoded data removed]",
      "text/plain": [
       "<Figure size 720x288 with 2 Axes>"
      ]
     },
     "metadata": {
      "needs_background": "light"
     },
     "output_type": "display_data"
    }
   ],
   "source": [
    "fig, ax = plt.subplots(figsize=(10, 4))\n",
    "sns.heatmap(data_2, cmap=\"viridis\")\n",
    "plt.gca().invert_yaxis()"
   ]
  },
  {
   "cell_type": "code",
   "execution_count": 7,
   "metadata": {},
   "outputs": [
    {
     "data": {
      "text/plain": [
       "<matplotlib.axes._subplots.AxesSubplot at 0x7f7804887b10>"
      ]
     },
     "execution_count": 7,
     "metadata": {},
     "output_type": "execute_result"
    },
    {
     "data": {
      "image/png": "[encoded data removed]",
      "text/plain": [
       "<Figure size 432x288 with 2 Axes>"
      ]
     },
     "metadata": {
      "needs_background": "light"
     },
     "output_type": "display_data"
    }
   ],
   "source": [
    "op=pd.read_table('IMPS.csv',delimiter=',')\n",
    "\n",
    "sns.heatmap(op)"
   ]
  },
  {
   "cell_type": "markdown",
   "metadata": {},
   "source": [
    "One of the main disadvantages of the procedure is that only works with complete data sets as show above. Missing data will casue error. I think this is a good case were the package Tetrablocks developed by Dr. Will is going to be handy, specially for obaining the power spectrum of electron density or not so high emission lines (PhD case)."
   ]
  },
  {
   "cell_type": "markdown",
   "metadata": {},
   "source": [
    "Spectrum Theory\n",
    "\n",
    "Energy Spectrum\n",
    "$$E(k) \\propto k^{-\\beta}$$\n",
    "Turbulent case\n",
    "$$\\beta = -5 / 3,-2$$\n",
    "Energy-Power Spectrum relation\n",
    "$$E(k) \\propto k^{N-1} P(k)$$\n",
    "where it is fullfilled\n",
    "$$P(k)\\propto k^{-\\gamma}$$"
   ]
  },
  {
   "cell_type": "markdown",
   "metadata": {},
   "source": [
    "The next lines show the procedure presented in:\n",
    "a)https://www.astrobetter.com/blog/2010/03/03/fourier-transforms-of-images-in-python/?fbclid=IwAR0x6xvMZ11_u6NoOfBWwwfWJrw3KfoHV_Xec51AodNOnMFcueUf5BszL3E and\n",
    "b)https://medium.com/tangibit-studios/2d-spectrum-characterization-e288f255cc59, thought neither of these deals, per se, with the turbuent problem in astrophysical or any other context."
   ]
  },
  {
   "cell_type": "markdown",
   "metadata": {},
   "source": [
    "#Recipe: "
   ]
  },
  {
   "cell_type": "markdown",
   "metadata": {},
   "source": [
    "1) FFT on the two-dimenional data (Image) \\\n",
    "2) Shifting Frequency components \\\n",
    "NOTE: i) In the case of images, we are dealing with wavenumbers. These procedure has been propose in many contexts, but, it is universal and applies to our problem?  ii) Does the shifting affects the physical spatial distribution or are we losing our separation information? \\\n",
    "3) Calculate the radial average PSD in 1D.\n",
    "\\\n",
    "\\\n",
    "In the case of 1) and 2) the procedure is straightforward thanks to scipy FFT library. For option 3) we evaluate different procedures: i) Using the ndimage option as suggested in the second link above, ii) doing by \"hand\" the ndimage stuff, iii) using the codes provide by the first link (radial_data and radialProfile) and iv) using the Turbustat package. A comparison between this options is presented at the end."
   ]
  },
  {
   "cell_type": "markdown",
   "metadata": {},
   "source": [
    "#1) 2D Fourier Transform "
   ]
  },
  {
   "cell_type": "code",
   "execution_count": 8,
   "metadata": {},
   "outputs": [],
   "source": [
    "dataFT=op"
   ]
  },
  {
   "cell_type": "code",
   "execution_count": 9,
   "metadata": {},
   "outputs": [],
   "source": [
    "# Return multidimensional discrete Fourier transform.\n",
    "FT2a=scipy.fftpack.fft2(dataFT)\n",
    "power_s0=np.abs(FT2a)"
   ]
  },
  {
   "cell_type": "code",
   "execution_count": 10,
   "metadata": {},
   "outputs": [
    {
     "data": {
      "image/png": "[encoded data removed]",
      "text/plain": [
       "<Figure size 432x288 with 2 Axes>"
      ]
     },
     "metadata": {
      "needs_background": "light"
     },
     "output_type": "display_data"
    }
   ],
   "source": [
    "#sns.heatmap(np.log10(power_s0), cmap=\"inferno\")\n",
    "sns.heatmap(power_s0, cmap=\"inferno\")\n",
    "\n",
    "plt.gca().invert_yaxis()\n",
    "#plt.axis('equal')"
   ]
  },
  {
   "cell_type": "markdown",
   "metadata": {},
   "source": [
    "#2) Shifting components "
   ]
  },
  {
   "cell_type": "code",
   "execution_count": 11,
   "metadata": {},
   "outputs": [],
   "source": [
    "# Shift the zero-frequency component to the center of the spectrum.\n",
    "FT2 = scipy.fftpack.fftshift(FT2a)\n",
    "power_s = np.abs(FT2)**2"
   ]
  },
  {
   "cell_type": "code",
   "execution_count": 12,
   "metadata": {},
   "outputs": [
    {
     "data": {
      "text/plain": [
       "(100, 150)"
      ]
     },
     "execution_count": 12,
     "metadata": {},
     "output_type": "execute_result"
    },
    {
     "data": {
      "image/png": "[encoded data removed]",
      "text/plain": [
       "<Figure size 432x288 with 2 Axes>"
      ]
     },
     "metadata": {
      "needs_background": "light"
     },
     "output_type": "display_data"
    }
   ],
   "source": [
    "#sns.heatmap(np.log10(power_s), cmap=\"inferno\")\n",
    "sns.heatmap(power_s, cmap=\"inferno\")\n",
    "\n",
    "plt.gca().invert_yaxis()\n",
    "plt.xlim(100,150)\n",
    "plt.ylim(100,150)"
   ]
  },
  {
   "cell_type": "markdown",
   "metadata": {},
   "source": [
    "#Distance to components"
   ]
  },
  {
   "cell_type": "markdown",
   "metadata": {},
   "source": [
    "Create an array of \"rings\" parting from the center of the image. "
   ]
  },
  {
   "cell_type": "code",
   "execution_count": 13,
   "metadata": {},
   "outputs": [],
   "source": [
    "h  = power_s.shape[0]\n",
    "w  = power_s.shape[1]\n",
    "wc = w//2\n",
    "hc = h//2\n",
    "\n",
    "# create an array of integer radial distances from the center\n",
    "Y, X = np.ogrid[0:h, 0:w]\n",
    "r    = np.hypot(X - wc, Y - hc).astype(np.int)\n",
    "rdf=pd.DataFrame(r)"
   ]
  },
  {
   "cell_type": "code",
   "execution_count": 14,
   "metadata": {},
   "outputs": [
    {
     "data": {
      "text/plain": [
       "(250, 250, 125, 125)"
      ]
     },
     "execution_count": 14,
     "metadata": {},
     "output_type": "execute_result"
    }
   ],
   "source": [
    "h,w,wc,hc"
   ]
  },
  {
   "cell_type": "code",
   "execution_count": 15,
   "metadata": {},
   "outputs": [
    {
     "data": {
      "image/png": "[encoded data removed]",
      "text/plain": [
       "<Figure size 720x288 with 2 Axes>"
      ]
     },
     "metadata": {
      "needs_background": "light"
     },
     "output_type": "display_data"
    }
   ],
   "source": [
    "fig, ax = plt.subplots(figsize=(10, 4))\n",
    "sns.heatmap(rdf)\n",
    "plt.gca().invert_yaxis()"
   ]
  },
  {
   "cell_type": "markdown",
   "metadata": {},
   "source": [
    "NOTE: In these case the data is not very smooth so the idea of perfect \"rings\" vanish, but the essence of the procudere stills holds."
   ]
  },
  {
   "cell_type": "markdown",
   "metadata": {},
   "source": [
    "#Wavenumber"
   ]
  },
  {
   "cell_type": "markdown",
   "metadata": {},
   "source": [
    "Now we obtain the relation physical scale (L) - wavenumber (k=1/L)"
   ]
  },
  {
   "cell_type": "code",
   "execution_count": 16,
   "metadata": {},
   "outputs": [
    {
     "data": {
      "text/plain": [
       "1.340999999999994"
      ]
     },
     "execution_count": 16,
     "metadata": {},
     "output_type": "execute_result"
    }
   ],
   "source": [
    "data.X[0]-data.X[1]"
   ]
  },
  {
   "cell_type": "code",
   "execution_count": 17,
   "metadata": {},
   "outputs": [],
   "source": [
    "dfx=dataFT.stack().reset_index().rename(columns={'level_1':'X','level_0':'Y', 0:'RV'})"
   ]
  },
  {
   "cell_type": "code",
   "execution_count": 18,
   "metadata": {},
   "outputs": [
    {
     "data": {
      "text/plain": [
       "[0,\n",
       " 0,\n",
       " 0,\n",
       " 0,\n",
       " 0,\n",
       " 0,\n",
       " 0,\n",
       " 0,\n",
       " 0,\n",
       " 0,\n",
       " 0,\n",
       " 0,\n",
       " 0,\n",
       " 0,\n",
       " 0,\n",
       " 0,\n",
       " 0,\n",
       " 0,\n",
       " 0,\n",
       " 0,\n",
       " 0,\n",
       " 0,\n",
       " 0,\n",
       " 0,\n",
       " 0,\n",
       " 0,\n",
       " 0,\n",
       " 0,\n",
       " 0,\n",
       " 0,\n",
       " 0,\n",
       " 0,\n",
       " 0,\n",
       " 0,\n",
       " 0,\n",
       " 0,\n",
       " 0,\n",
       " 0,\n",
       " 0,\n",
       " 0,\n",
       " 0,\n",
       " 0,\n",
       " 0,\n",
       " 0,\n",
       " 0,\n",
       " 0,\n",
       " 0,\n",
       " 0,\n",
       " 0,\n",
       " 0,\n",
       " 0,\n",
       " 0,\n",
       " 0,\n",
       " 0,\n",
       " 0,\n",
       " 0,\n",
       " 0,\n",
       " 0,\n",
       " 0,\n",
       " 0,\n",
       " 0,\n",
       " 0,\n",
       " 0,\n",
       " 0,\n",
       " 0,\n",
       " 0,\n",
       " 0,\n",
       " 0,\n",
       " 0,\n",
       " 0,\n",
       " 0,\n",
       " 0,\n",
       " 0,\n",
       " 0,\n",
       " 0,\n",
       " 0,\n",
       " 0,\n",
       " 0,\n",
       " 0,\n",
       " 0,\n",
       " 0,\n",
       " 0,\n",
       " 0,\n",
       " 0,\n",
       " 0,\n",
       " 0,\n",
       " 0,\n",
       " 0,\n",
       " 0,\n",
       " 0,\n",
       " 0,\n",
       " 0,\n",
       " 0,\n",
       " 0,\n",
       " 0,\n",
       " 0,\n",
       " 0,\n",
       " 0,\n",
       " 0,\n",
       " 0,\n",
       " 0,\n",
       " 0,\n",
       " 0,\n",
       " 0,\n",
       " 0,\n",
       " 0,\n",
       " 0,\n",
       " 0,\n",
       " 0,\n",
       " 0,\n",
       " 0,\n",
       " 0,\n",
       " 0,\n",
       " 0,\n",
       " 0,\n",
       " 0,\n",
       " 0,\n",
       " 0,\n",
       " 0,\n",
       " 0,\n",
       " 0,\n",
       " 0,\n",
       " 0,\n",
       " 0]"
      ]
     },
     "execution_count": 18,
     "metadata": {},
     "output_type": "execute_result"
    }
   ],
   "source": [
    "k0=[0*(1) for i in range(wc-1)]\n",
    "k0"
   ]
  },
  {
   "cell_type": "code",
   "execution_count": 19,
   "metadata": {},
   "outputs": [
    {
     "data": {
      "text/plain": [
       "1"
      ]
     },
     "execution_count": 19,
     "metadata": {},
     "output_type": "execute_result"
    }
   ],
   "source": [
    "a=int(dfx.X[1])-int(dfx.X[0])\n",
    "a"
   ]
  },
  {
   "cell_type": "code",
   "execution_count": 20,
   "metadata": {},
   "outputs": [
    {
     "data": {
      "text/plain": [
       "99"
      ]
     },
     "execution_count": 20,
     "metadata": {},
     "output_type": "execute_result"
    }
   ],
   "source": [
    "int(dfx.X.max())"
   ]
  },
  {
   "cell_type": "code",
   "execution_count": 21,
   "metadata": {},
   "outputs": [
    {
     "data": {
      "text/plain": [
       "array([ 49.,  48.,  47.,  46.,  45.,  44.,  43.,  42.,  41.,  40.,  39.,\n",
       "        38.,  37.,  36.,  35.,  34.,  33.,  32.,  31.,  30.,  29.,  28.,\n",
       "        27.,  26.,  25.,  24.,  23.,  22.,  21.,  20.,  19.,  18.,  17.,\n",
       "        16.,  15.,  14.,  13.,  12.,  11.,  10.,   9.,   8.,   7.,   6.,\n",
       "         5.,   4.,   3.,   2.,   1.,   0.,  -1.,  -2.,  -3.,  -4.,  -5.,\n",
       "        -6.,  -7.,  -8.,  -9., -10., -11., -12., -13., -14., -15., -16.,\n",
       "       -17., -18., -19., -20., -21., -22., -23., -24., -25., -26., -27.,\n",
       "       -28., -29., -30., -31., -32., -33., -34., -35., -36., -37., -38.,\n",
       "       -39., -40., -41., -42., -43., -44., -45., -46., -47., -48., -49.,\n",
       "       -50., -51., -52., -53., -54., -55., -56., -57., -58., -59., -60.,\n",
       "       -61., -62., -63., -64., -65., -66., -67., -68., -69., -70., -71.,\n",
       "       -72., -73., -74.])"
      ]
     },
     "execution_count": 21,
     "metadata": {},
     "output_type": "execute_result"
    }
   ],
   "source": [
    "k0[0]=(int(dfx.X.max())-int(dfx.X.min()))/2\n",
    "for i in range(wc-2):\n",
    "    k0[i+1]=k0[i]-a\n",
    "np.array(k0)    \n"
   ]
  },
  {
   "cell_type": "markdown",
   "metadata": {},
   "source": [
    "Considering the \"ring\" distribution above, the last array will show the distance from the center ring (r=1,21.45 arcsec since r = 0 is not consider) and outer ring (r=16, 2.67 arcsec)"
   ]
  },
  {
   "cell_type": "code",
   "execution_count": 22,
   "metadata": {},
   "outputs": [
    {
     "name": "stderr",
     "output_type": "stream",
     "text": [
      "/home/zalenovo/anaconda3/lib/python3.7/site-packages/ipykernel_launcher.py:2: RuntimeWarning: divide by zero encountered in reciprocal\n",
      "  \n"
     ]
    },
    {
     "data": {
      "text/plain": [
       "array([ 0.02040816,  0.02083333,  0.0212766 ,  0.02173913,  0.02222222,\n",
       "        0.02272727,  0.02325581,  0.02380952,  0.02439024,  0.025     ,\n",
       "        0.02564103,  0.02631579,  0.02702703,  0.02777778,  0.02857143,\n",
       "        0.02941176,  0.03030303,  0.03125   ,  0.03225806,  0.03333333,\n",
       "        0.03448276,  0.03571429,  0.03703704,  0.03846154,  0.04      ,\n",
       "        0.04166667,  0.04347826,  0.04545455,  0.04761905,  0.05      ,\n",
       "        0.05263158,  0.05555556,  0.05882353,  0.0625    ,  0.06666667,\n",
       "        0.07142857,  0.07692308,  0.08333333,  0.09090909,  0.1       ,\n",
       "        0.11111111,  0.125     ,  0.14285714,  0.16666667,  0.2       ,\n",
       "        0.25      ,  0.33333333,  0.5       ,  1.        ,         inf,\n",
       "       -1.        , -0.5       , -0.33333333, -0.25      , -0.2       ,\n",
       "       -0.16666667, -0.14285714, -0.125     , -0.11111111, -0.1       ,\n",
       "       -0.09090909, -0.08333333, -0.07692308, -0.07142857, -0.06666667,\n",
       "       -0.0625    , -0.05882353, -0.05555556, -0.05263158, -0.05      ,\n",
       "       -0.04761905, -0.04545455, -0.04347826, -0.04166667, -0.04      ,\n",
       "       -0.03846154, -0.03703704, -0.03571429, -0.03448276, -0.03333333,\n",
       "       -0.03225806, -0.03125   , -0.03030303, -0.02941176, -0.02857143,\n",
       "       -0.02777778, -0.02702703, -0.02631579, -0.02564103, -0.025     ,\n",
       "       -0.02439024, -0.02380952, -0.02325581, -0.02272727, -0.02222222,\n",
       "       -0.02173913, -0.0212766 , -0.02083333, -0.02040816, -0.02      ,\n",
       "       -0.01960784, -0.01923077, -0.01886792, -0.01851852, -0.01818182,\n",
       "       -0.01785714, -0.01754386, -0.01724138, -0.01694915, -0.01666667,\n",
       "       -0.01639344, -0.01612903, -0.01587302, -0.015625  , -0.01538462,\n",
       "       -0.01515152, -0.01492537, -0.01470588, -0.01449275, -0.01428571,\n",
       "       -0.01408451, -0.01388889, -0.01369863, -0.01351351])"
      ]
     },
     "execution_count": 22,
     "metadata": {},
     "output_type": "execute_result"
    }
   ],
   "source": [
    "k0=np.array(k0)\n",
    "k=k0**-1\n",
    "k"
   ]
  },
  {
   "cell_type": "markdown",
   "metadata": {},
   "source": [
    "We have applied the wave number definition k=1/L"
   ]
  },
  {
   "cell_type": "markdown",
   "metadata": {},
   "source": [
    "Now we proceed to the sum of all data landing at the \"same\" distance from the center. The command ndimage does all the work."
   ]
  },
  {
   "cell_type": "markdown",
   "metadata": {},
   "source": [
    "#3) Radial Average"
   ]
  },
  {
   "cell_type": "markdown",
   "metadata": {},
   "source": [
    "#3.i) ndimage.sum"
   ]
  },
  {
   "cell_type": "code",
   "execution_count": 23,
   "metadata": {},
   "outputs": [],
   "source": [
    "# SUM all psd2D pixels with label 'r' for 0<=r<=wc\n",
    "psd1D_sx= ndimage.sum(power_s, r, index=np.arange(0, wc+1))"
   ]
  },
  {
   "cell_type": "code",
   "execution_count": 24,
   "metadata": {},
   "outputs": [
    {
     "data": {
      "text/html": [
       "<div>\n",
       "<style scoped>\n",
       "    .dataframe tbody tr th:only-of-type {\n",
       "        vertical-align: middle;\n",
       "    }\n",
       "\n",
       "    .dataframe tbody tr th {\n",
       "        vertical-align: top;\n",
       "    }\n",
       "\n",
       "    .dataframe thead th {\n",
       "        text-align: right;\n",
       "    }\n",
       "</style>\n",
       "<table border=\"1\" class=\"dataframe\">\n",
       "  <thead>\n",
       "    <tr style=\"text-align: right;\">\n",
       "      <th></th>\n",
       "      <th>k</th>\n",
       "      <th>Pk</th>\n",
       "    </tr>\n",
       "  </thead>\n",
       "  <tbody>\n",
       "    <tr>\n",
       "      <td>0</td>\n",
       "      <td>0.020408</td>\n",
       "      <td>6.250000e+06</td>\n",
       "    </tr>\n",
       "    <tr>\n",
       "      <td>1</td>\n",
       "      <td>0.020833</td>\n",
       "      <td>4.102843e+07</td>\n",
       "    </tr>\n",
       "    <tr>\n",
       "      <td>2</td>\n",
       "      <td>0.021277</td>\n",
       "      <td>4.759828e+07</td>\n",
       "    </tr>\n",
       "    <tr>\n",
       "      <td>3</td>\n",
       "      <td>0.021739</td>\n",
       "      <td>2.480824e+07</td>\n",
       "    </tr>\n",
       "    <tr>\n",
       "      <td>4</td>\n",
       "      <td>0.022222</td>\n",
       "      <td>6.953868e+06</td>\n",
       "    </tr>\n",
       "    <tr>\n",
       "      <td>...</td>\n",
       "      <td>...</td>\n",
       "      <td>...</td>\n",
       "    </tr>\n",
       "    <tr>\n",
       "      <td>121</td>\n",
       "      <td>-0.013889</td>\n",
       "      <td>1.733066e+04</td>\n",
       "    </tr>\n",
       "    <tr>\n",
       "      <td>122</td>\n",
       "      <td>-0.013699</td>\n",
       "      <td>4.443698e+04</td>\n",
       "    </tr>\n",
       "    <tr>\n",
       "      <td>123</td>\n",
       "      <td>-0.013514</td>\n",
       "      <td>4.477752e+04</td>\n",
       "    </tr>\n",
       "    <tr>\n",
       "      <td>124</td>\n",
       "      <td>NaN</td>\n",
       "      <td>1.773597e+04</td>\n",
       "    </tr>\n",
       "    <tr>\n",
       "      <td>125</td>\n",
       "      <td>NaN</td>\n",
       "      <td>7.903012e+02</td>\n",
       "    </tr>\n",
       "  </tbody>\n",
       "</table>\n",
       "<p>126 rows × 2 columns</p>\n",
       "</div>"
      ],
      "text/plain": [
       "            k            Pk\n",
       "0    0.020408  6.250000e+06\n",
       "1    0.020833  4.102843e+07\n",
       "2    0.021277  4.759828e+07\n",
       "3    0.021739  2.480824e+07\n",
       "4    0.022222  6.953868e+06\n",
       "..        ...           ...\n",
       "121 -0.013889  1.733066e+04\n",
       "122 -0.013699  4.443698e+04\n",
       "123 -0.013514  4.477752e+04\n",
       "124       NaN  1.773597e+04\n",
       "125       NaN  7.903012e+02\n",
       "\n",
       "[126 rows x 2 columns]"
      ]
     },
     "execution_count": 24,
     "metadata": {},
     "output_type": "execute_result"
    }
   ],
   "source": [
    "psx=[k,psd1D_sx]\n",
    "psd1D_s=pd.DataFrame(psx).T\n",
    "psd1D_s.columns =['k', 'Pk'] \n",
    "psd1D_s"
   ]
  },
  {
   "cell_type": "code",
   "execution_count": 25,
   "metadata": {},
   "outputs": [
    {
     "data": {
      "text/plain": [
       "Text(0, 0.5, '$ \\\\mathrm{P(k)}$')"
      ]
     },
     "execution_count": 25,
     "metadata": {},
     "output_type": "execute_result"
    },
    {
     "data": {
      "image/png": "[encoded data removed]",
      "text/plain": [
       "<Figure size 432x288 with 1 Axes>"
      ]
     },
     "metadata": {
      "needs_background": "light"
     },
     "output_type": "display_data"
    }
   ],
   "source": [
    "plt.scatter(psd1D_s.k,psd1D_s.Pk,color='k',alpha=0.5 )\n",
    "plt.loglog(psd1D_s.k,psd1D_s.Pk,color='k',alpha=0.5 )\n",
    "sgrid = np.logspace(-1.34, -0.45)\n",
    "#plt.plot(sgrid, (10**2)*sgrid**(-5/3), color=\"k\", lw=1, label=\"Kolmogorov\", linestyle='dashed')\n",
    "#plt.plot(sgrid, (10**2.4)*sgrid**(-0.9), color=\"b\", lw=1, label=\"Power law fit\", linestyle='dashed')\n",
    "\n",
    "plt.grid()\n",
    "plt.xlabel('wavenumber - k, 1/arcsec')\n",
    "plt.ylabel(r'$ \\mathrm{P(k)}$')"
   ]
  },
  {
   "cell_type": "markdown",
   "metadata": {},
   "source": [
    "The PSD1 is obtained, as a surprise following these method the Kolmogorov index is a good fit! but the issues mentioned above are still an issue to resolve. "
   ]
  },
  {
   "cell_type": "markdown",
   "metadata": {},
   "source": [
    "#3.ii) ndimage.mean"
   ]
  },
  {
   "cell_type": "markdown",
   "metadata": {},
   "source": [
    "Now we do, the average of the \"rings\" (ndiamge.mean instead of sum). \\\n",
    "NOTE: Put literature here"
   ]
  },
  {
   "cell_type": "code",
   "execution_count": 26,
   "metadata": {},
   "outputs": [
    {
     "data": {
      "text/plain": [
       "array([6.25000000e+06, 5.12855397e+06, 2.97489270e+06, 1.24041206e+06,\n",
       "       2.89744496e+05, 1.93010361e+04, 7.45140363e+04, 1.08955665e+05,\n",
       "       7.49583124e+04, 2.38710950e+04, 2.07574251e+03, 1.37389754e+04,\n",
       "       2.30114659e+04, 1.77303898e+04, 6.71234085e+03, 6.04972586e+02,\n",
       "       4.31168755e+03, 8.14442679e+03, 7.28344162e+03, 2.67422319e+03,\n",
       "       2.31135216e+02, 1.72676389e+03, 4.22219459e+03, 3.82332341e+03,\n",
       "       1.38506063e+03, 1.33839969e+02, 9.35137435e+02, 2.37333434e+03,\n",
       "       2.19469596e+03, 7.52833456e+02, 5.53021329e+01, 5.74279669e+02,\n",
       "       1.43040176e+03, 1.29869533e+03, 4.55607727e+02, 3.68965901e+01,\n",
       "       3.90860588e+02, 9.50799672e+02, 8.18565160e+02, 3.24943247e+02,\n",
       "       2.24156231e+01, 2.61858929e+02, 6.55318890e+02, 5.82783666e+02,\n",
       "       2.33128172e+02, 1.45938465e+01, 1.95094751e+02, 4.85263449e+02,\n",
       "       4.40172538e+02, 1.77705362e+02, 1.04319003e+01, 1.47844065e+02,\n",
       "       3.80331157e+02, 3.37990563e+02, 1.40031178e+02, 8.53236326e+00,\n",
       "       1.19224138e+02, 2.82555202e+02, 2.74448784e+02, 1.07495627e+02,\n",
       "       6.43730060e+00, 9.24523909e+01, 2.26826048e+02, 2.19624647e+02,\n",
       "       8.89909288e+01, 5.15026615e+00, 7.88482136e+01, 1.86462916e+02,\n",
       "       1.72878651e+02, 7.40359882e+01, 4.60719598e+00, 6.63426729e+01,\n",
       "       1.48914075e+02, 1.52302864e+02, 5.97960808e+01, 3.25685049e+00,\n",
       "       5.39465969e+01, 1.31424472e+02, 1.35317049e+02, 5.11705776e+01,\n",
       "       2.76911453e+00, 4.78569621e+01, 1.12135551e+02, 1.18441220e+02,\n",
       "       4.40109026e+01, 2.27504467e+00, 4.09012928e+01, 1.01740743e+02,\n",
       "       1.06529544e+02, 3.66592829e+01, 1.78051811e+00, 3.62084948e+01,\n",
       "       9.12632504e+01, 9.02907186e+01, 3.40769522e+01, 1.75208690e+00,\n",
       "       3.29161303e+01, 7.95943548e+01, 8.26534464e+01, 3.07423104e+01,\n",
       "       1.53161700e+00, 2.85524133e+01, 7.49802686e+01, 7.72070106e+01,\n",
       "       2.82982620e+01, 1.39697803e+00, 2.63962225e+01, 6.94994815e+01,\n",
       "       7.02534186e+01, 2.70402330e+01, 1.32607928e+00, 2.48290363e+01,\n",
       "       6.50615523e+01, 6.41131259e+01, 2.43272350e+01, 1.19070107e+00,\n",
       "       2.44744939e+01, 6.08863436e+01, 5.97758664e+01, 2.35817519e+01,\n",
       "       1.15096996e+00, 2.35470991e+01, 5.75608609e+01, 5.43416553e+01,\n",
       "       2.35850680e+01, 1.05938494e+00])"
      ]
     },
     "execution_count": 26,
     "metadata": {},
     "output_type": "execute_result"
    }
   ],
   "source": [
    "# SUM all psd2D pixels with label 'r' for 0<=r<=wc\n",
    "psd1D_mx= ndimage.mean(power_s, r, index=np.arange(0, wc+1))\n",
    "psd1D_mx"
   ]
  },
  {
   "cell_type": "code",
   "execution_count": 27,
   "metadata": {},
   "outputs": [
    {
     "data": {
      "text/html": [
       "<div>\n",
       "<style scoped>\n",
       "    .dataframe tbody tr th:only-of-type {\n",
       "        vertical-align: middle;\n",
       "    }\n",
       "\n",
       "    .dataframe tbody tr th {\n",
       "        vertical-align: top;\n",
       "    }\n",
       "\n",
       "    .dataframe thead th {\n",
       "        text-align: right;\n",
       "    }\n",
       "</style>\n",
       "<table border=\"1\" class=\"dataframe\">\n",
       "  <thead>\n",
       "    <tr style=\"text-align: right;\">\n",
       "      <th></th>\n",
       "      <th>k</th>\n",
       "      <th>Pk</th>\n",
       "    </tr>\n",
       "  </thead>\n",
       "  <tbody>\n",
       "    <tr>\n",
       "      <td>0</td>\n",
       "      <td>0.020408</td>\n",
       "      <td>6.250000e+06</td>\n",
       "    </tr>\n",
       "    <tr>\n",
       "      <td>1</td>\n",
       "      <td>0.020833</td>\n",
       "      <td>5.128554e+06</td>\n",
       "    </tr>\n",
       "    <tr>\n",
       "      <td>2</td>\n",
       "      <td>0.021277</td>\n",
       "      <td>2.974893e+06</td>\n",
       "    </tr>\n",
       "    <tr>\n",
       "      <td>3</td>\n",
       "      <td>0.021739</td>\n",
       "      <td>1.240412e+06</td>\n",
       "    </tr>\n",
       "    <tr>\n",
       "      <td>4</td>\n",
       "      <td>0.022222</td>\n",
       "      <td>2.897445e+05</td>\n",
       "    </tr>\n",
       "  </tbody>\n",
       "</table>\n",
       "</div>"
      ],
      "text/plain": [
       "          k            Pk\n",
       "0  0.020408  6.250000e+06\n",
       "1  0.020833  5.128554e+06\n",
       "2  0.021277  2.974893e+06\n",
       "3  0.021739  1.240412e+06\n",
       "4  0.022222  2.897445e+05"
      ]
     },
     "execution_count": 27,
     "metadata": {},
     "output_type": "execute_result"
    }
   ],
   "source": [
    "psx=[k,psd1D_mx]\n",
    "psd1D_m=pd.DataFrame(psx).T\n",
    "psd1D_m.columns =['k', 'Pk'] \n",
    "psd1D_m.head()"
   ]
  },
  {
   "cell_type": "code",
   "execution_count": 28,
   "metadata": {},
   "outputs": [
    {
     "data": {
      "text/plain": [
       "Text(0, 0.5, '$ \\\\mathrm{P(k)}$')"
      ]
     },
     "execution_count": 28,
     "metadata": {},
     "output_type": "execute_result"
    },
    {
     "data": {
      "image/png": "[encoded data removed]",
      "text/plain": [
       "<Figure size 432x288 with 1 Axes>"
      ]
     },
     "metadata": {
      "needs_background": "light"
     },
     "output_type": "display_data"
    }
   ],
   "source": [
    "plt.scatter(psd1D_m.k,psd1D_m.Pk,color='k',alpha=0.5 )\n",
    "plt.loglog(psd1D_m.k,psd1D_m.Pk,color='k',alpha=0.5 )\n",
    "sgrid = np.logspace(-1.34, -0.45)\n",
    "#plt.plot(sgrid, (10**0.7)*sgrid**(-5/3), color=\"k\", lw=1, label=\"Kolmogorov\", linestyle='dashed')\n",
    "#plt.plot(sgrid, (10**1.2)*sgrid**(-0.9), color=\"b\", lw=1, label=\"Power law fit\", linestyle='dashed')\n",
    "\n",
    "plt.grid()\n",
    "plt.xlabel('wavenumber - k, 1/arcsec')\n",
    "plt.ylabel(r'$ \\mathrm{P(k)}$')"
   ]
  },
  {
   "cell_type": "markdown",
   "metadata": {},
   "source": [
    "#3.iii) OBB sum"
   ]
  },
  {
   "cell_type": "markdown",
   "metadata": {},
   "source": [
    "Out of the Black-Box method (OBB)"
   ]
  },
  {
   "cell_type": "markdown",
   "metadata": {},
   "source": [
    "Same as above for ndimage.sum and ndimage.mean but doing all the procedure by \"hand\" to obtain the error. The same array of rings is used as above."
   ]
  },
  {
   "cell_type": "code",
   "execution_count": 29,
   "metadata": {},
   "outputs": [],
   "source": [
    "psdf=pd.DataFrame(power_s)\n",
    "data_ps=dict()"
   ]
  },
  {
   "cell_type": "code",
   "execution_count": 30,
   "metadata": {},
   "outputs": [],
   "source": [
    "for i in range(wc+1):\n",
    "    m=(rdf==i)\n",
    "    psm=(psdf[m].fillna(0)).to_numpy()\n",
    "    s=psm.sum()\n",
    "    err=psm.std()/np.sqrt(len(psm)-1)\n",
    "    data_ps[i]=[i,s,err]\n",
    "    \n",
    "psd1D_2x=pd.DataFrame(data_ps).T"
   ]
  },
  {
   "cell_type": "code",
   "execution_count": 31,
   "metadata": {},
   "outputs": [],
   "source": [
    "a=psd1D_2x[1]#[2:17]\n",
    "b=psd1D_2x[2]#[2:17]"
   ]
  },
  {
   "cell_type": "code",
   "execution_count": 32,
   "metadata": {},
   "outputs": [
    {
     "data": {
      "text/html": [
       "<div>\n",
       "<style scoped>\n",
       "    .dataframe tbody tr th:only-of-type {\n",
       "        vertical-align: middle;\n",
       "    }\n",
       "\n",
       "    .dataframe tbody tr th {\n",
       "        vertical-align: top;\n",
       "    }\n",
       "\n",
       "    .dataframe thead th {\n",
       "        text-align: right;\n",
       "    }\n",
       "</style>\n",
       "<table border=\"1\" class=\"dataframe\">\n",
       "  <thead>\n",
       "    <tr style=\"text-align: right;\">\n",
       "      <th></th>\n",
       "      <th>k</th>\n",
       "      <th>Pk</th>\n",
       "      <th>Err</th>\n",
       "    </tr>\n",
       "  </thead>\n",
       "  <tbody>\n",
       "    <tr>\n",
       "      <td>0</td>\n",
       "      <td>0.020408</td>\n",
       "      <td>6.250000e+06</td>\n",
       "      <td>1584.297952</td>\n",
       "    </tr>\n",
       "    <tr>\n",
       "      <td>1</td>\n",
       "      <td>0.020833</td>\n",
       "      <td>4.102843e+07</td>\n",
       "      <td>3684.957437</td>\n",
       "    </tr>\n",
       "    <tr>\n",
       "      <td>2</td>\n",
       "      <td>0.021277</td>\n",
       "      <td>4.759828e+07</td>\n",
       "      <td>3069.682921</td>\n",
       "    </tr>\n",
       "    <tr>\n",
       "      <td>3</td>\n",
       "      <td>0.021739</td>\n",
       "      <td>2.480824e+07</td>\n",
       "      <td>1440.798146</td>\n",
       "    </tr>\n",
       "    <tr>\n",
       "      <td>4</td>\n",
       "      <td>0.022222</td>\n",
       "      <td>6.953868e+06</td>\n",
       "      <td>371.655660</td>\n",
       "    </tr>\n",
       "  </tbody>\n",
       "</table>\n",
       "</div>"
      ],
      "text/plain": [
       "          k            Pk          Err\n",
       "0  0.020408  6.250000e+06  1584.297952\n",
       "1  0.020833  4.102843e+07  3684.957437\n",
       "2  0.021277  4.759828e+07  3069.682921\n",
       "3  0.021739  2.480824e+07  1440.798146\n",
       "4  0.022222  6.953868e+06   371.655660"
      ]
     },
     "execution_count": 32,
     "metadata": {},
     "output_type": "execute_result"
    }
   ],
   "source": [
    "psx=[k,a,b]\n",
    "psd1D_2=pd.DataFrame(psx).T\n",
    "psd1D_2.columns =['k', 'Pk','Err'] \n",
    "psd1D_2.head()"
   ]
  },
  {
   "cell_type": "markdown",
   "metadata": {},
   "source": [
    "Computing the difference between ndimage and this method for corroboration."
   ]
  },
  {
   "cell_type": "code",
   "execution_count": 33,
   "metadata": {},
   "outputs": [
    {
     "data": {
      "text/plain": [
       "0      0.0\n",
       "1      0.0\n",
       "2      0.0\n",
       "3      0.0\n",
       "4      0.0\n",
       "      ... \n",
       "123    0.0\n",
       "124    0.0\n",
       "125    0.0\n",
       "Pk     0.0\n",
       "k      0.0\n",
       "Length: 128, dtype: float64"
      ]
     },
     "execution_count": 33,
     "metadata": {},
     "output_type": "execute_result"
    }
   ],
   "source": [
    "Err_12=psd1D_s-psd1D_2.Pk\n",
    "Err_12.sum()"
   ]
  },
  {
   "cell_type": "code",
   "execution_count": 34,
   "metadata": {},
   "outputs": [
    {
     "data": {
      "text/plain": [
       "[Text(0, 0.5, '$ \\\\mathrm{P(k)}$'), Text(0.5, 0, 'wavenumber (k), 1/arcsec')]"
      ]
     },
     "execution_count": 34,
     "metadata": {},
     "output_type": "execute_result"
    },
    {
     "data": {
      "image/png": "[encoded data removed]",
      "text/plain": [
       "<Figure size 432x288 with 1 Axes>"
      ]
     },
     "metadata": {
      "needs_background": "light"
     },
     "output_type": "display_data"
    }
   ],
   "source": [
    "fig, ax=plt.subplots()\n",
    "#sgrid = np.logspace(-1.34, -0.45)\n",
    "#plt.plot(sgrid, (10**2)*sgrid**(-5/3), color=\"k\", lw=1, label=\"Kolmogorov\", linestyle='dashed')\n",
    "#plt.plot(sgrid, (10**2.4)*sgrid**(-0.9), color=\"b\", lw=1, label=\"Power law fit\", linestyle='dashed')\n",
    "ax.errorbar(psd1D_2.k,psd1D_2.Pk, yerr=psd1D_2.Err, fmt=\"o-\", ecolor='k', alpha=0.5, label=\"OBB-sum\")\n",
    "ax.set(xscale='log',yscale='log')\n",
    "ax.grid()\n",
    "ax.set(xlabel='wavenumber (k), 1/arcsec', ylabel=r'$ \\mathrm{P(k)}$')"
   ]
  },
  {
   "cell_type": "markdown",
   "metadata": {},
   "source": [
    "#3.iv) OBB mean"
   ]
  },
  {
   "cell_type": "markdown",
   "metadata": {},
   "source": [
    "Doing now the average..."
   ]
  },
  {
   "cell_type": "code",
   "execution_count": 35,
   "metadata": {},
   "outputs": [
    {
     "data": {
      "text/html": [
       "<div>\n",
       "<style scoped>\n",
       "    .dataframe tbody tr th:only-of-type {\n",
       "        vertical-align: middle;\n",
       "    }\n",
       "\n",
       "    .dataframe tbody tr th {\n",
       "        vertical-align: top;\n",
       "    }\n",
       "\n",
       "    .dataframe thead th {\n",
       "        text-align: right;\n",
       "    }\n",
       "</style>\n",
       "<table border=\"1\" class=\"dataframe\">\n",
       "  <thead>\n",
       "    <tr style=\"text-align: right;\">\n",
       "      <th></th>\n",
       "      <th>0</th>\n",
       "      <th>1</th>\n",
       "      <th>2</th>\n",
       "      <th>3</th>\n",
       "      <th>4</th>\n",
       "      <th>5</th>\n",
       "      <th>6</th>\n",
       "      <th>7</th>\n",
       "      <th>8</th>\n",
       "      <th>9</th>\n",
       "      <th>...</th>\n",
       "      <th>240</th>\n",
       "      <th>241</th>\n",
       "      <th>242</th>\n",
       "      <th>243</th>\n",
       "      <th>244</th>\n",
       "      <th>245</th>\n",
       "      <th>246</th>\n",
       "      <th>247</th>\n",
       "      <th>248</th>\n",
       "      <th>249</th>\n",
       "    </tr>\n",
       "  </thead>\n",
       "  <tbody>\n",
       "    <tr>\n",
       "      <td>count</td>\n",
       "      <td>2.500000e+02</td>\n",
       "      <td>250.000000</td>\n",
       "      <td>250.000000</td>\n",
       "      <td>250.000000</td>\n",
       "      <td>250.000000</td>\n",
       "      <td>250.0</td>\n",
       "      <td>250.000000</td>\n",
       "      <td>250.000000</td>\n",
       "      <td>250.000000</td>\n",
       "      <td>250.000000</td>\n",
       "      <td>...</td>\n",
       "      <td>2.500000e+02</td>\n",
       "      <td>250.000000</td>\n",
       "      <td>250.000000</td>\n",
       "      <td>250.000000</td>\n",
       "      <td>250.000000</td>\n",
       "      <td>250.0</td>\n",
       "      <td>250.000000</td>\n",
       "      <td>250.000000</td>\n",
       "      <td>2.500000e+02</td>\n",
       "      <td>2.500000e+02</td>\n",
       "    </tr>\n",
       "    <tr>\n",
       "      <td>mean</td>\n",
       "      <td>5.821649e-29</td>\n",
       "      <td>17.277303</td>\n",
       "      <td>45.254004</td>\n",
       "      <td>45.289761</td>\n",
       "      <td>17.318295</td>\n",
       "      <td>0.0</td>\n",
       "      <td>17.373153</td>\n",
       "      <td>45.577182</td>\n",
       "      <td>45.685592</td>\n",
       "      <td>17.497432</td>\n",
       "      <td>...</td>\n",
       "      <td>9.883799e-29</td>\n",
       "      <td>17.497432</td>\n",
       "      <td>45.685592</td>\n",
       "      <td>45.577182</td>\n",
       "      <td>17.373153</td>\n",
       "      <td>0.0</td>\n",
       "      <td>17.318295</td>\n",
       "      <td>45.289761</td>\n",
       "      <td>4.525400e+01</td>\n",
       "      <td>1.727730e+01</td>\n",
       "    </tr>\n",
       "    <tr>\n",
       "      <td>std</td>\n",
       "      <td>3.317312e-28</td>\n",
       "      <td>98.450131</td>\n",
       "      <td>257.867938</td>\n",
       "      <td>258.071692</td>\n",
       "      <td>98.683711</td>\n",
       "      <td>0.0</td>\n",
       "      <td>98.996302</td>\n",
       "      <td>259.709483</td>\n",
       "      <td>260.327228</td>\n",
       "      <td>99.704477</td>\n",
       "      <td>...</td>\n",
       "      <td>5.632021e-28</td>\n",
       "      <td>99.704477</td>\n",
       "      <td>260.327228</td>\n",
       "      <td>259.709483</td>\n",
       "      <td>98.996302</td>\n",
       "      <td>0.0</td>\n",
       "      <td>98.683711</td>\n",
       "      <td>258.071692</td>\n",
       "      <td>2.578679e+02</td>\n",
       "      <td>9.845013e+01</td>\n",
       "    </tr>\n",
       "    <tr>\n",
       "      <td>min</td>\n",
       "      <td>0.000000e+00</td>\n",
       "      <td>0.000000</td>\n",
       "      <td>0.000000</td>\n",
       "      <td>0.000000</td>\n",
       "      <td>0.000000</td>\n",
       "      <td>0.0</td>\n",
       "      <td>0.000000</td>\n",
       "      <td>0.000000</td>\n",
       "      <td>0.000000</td>\n",
       "      <td>0.000000</td>\n",
       "      <td>...</td>\n",
       "      <td>3.531906e-62</td>\n",
       "      <td>0.000000</td>\n",
       "      <td>0.000000</td>\n",
       "      <td>0.000000</td>\n",
       "      <td>0.000000</td>\n",
       "      <td>0.0</td>\n",
       "      <td>0.000000</td>\n",
       "      <td>0.000000</td>\n",
       "      <td>6.896057e-35</td>\n",
       "      <td>1.925930e-34</td>\n",
       "    </tr>\n",
       "    <tr>\n",
       "      <td>25%</td>\n",
       "      <td>4.207570e-31</td>\n",
       "      <td>0.124871</td>\n",
       "      <td>0.327071</td>\n",
       "      <td>0.327330</td>\n",
       "      <td>0.125167</td>\n",
       "      <td>0.0</td>\n",
       "      <td>0.125564</td>\n",
       "      <td>0.329407</td>\n",
       "      <td>0.330191</td>\n",
       "      <td>0.126462</td>\n",
       "      <td>...</td>\n",
       "      <td>7.143471e-31</td>\n",
       "      <td>0.126462</td>\n",
       "      <td>0.330191</td>\n",
       "      <td>0.329407</td>\n",
       "      <td>0.125564</td>\n",
       "      <td>0.0</td>\n",
       "      <td>0.125167</td>\n",
       "      <td>0.327330</td>\n",
       "      <td>3.270713e-01</td>\n",
       "      <td>1.248709e-01</td>\n",
       "    </tr>\n",
       "    <tr>\n",
       "      <td>50%</td>\n",
       "      <td>1.131587e-30</td>\n",
       "      <td>0.335829</td>\n",
       "      <td>0.879628</td>\n",
       "      <td>0.880323</td>\n",
       "      <td>0.336626</td>\n",
       "      <td>0.0</td>\n",
       "      <td>0.337692</td>\n",
       "      <td>0.885910</td>\n",
       "      <td>0.888017</td>\n",
       "      <td>0.340108</td>\n",
       "      <td>...</td>\n",
       "      <td>1.921171e-30</td>\n",
       "      <td>0.340108</td>\n",
       "      <td>0.888017</td>\n",
       "      <td>0.885910</td>\n",
       "      <td>0.337692</td>\n",
       "      <td>0.0</td>\n",
       "      <td>0.336626</td>\n",
       "      <td>0.880323</td>\n",
       "      <td>8.796281e-01</td>\n",
       "      <td>3.358289e-01</td>\n",
       "    </tr>\n",
       "    <tr>\n",
       "      <td>75%</td>\n",
       "      <td>3.246229e-30</td>\n",
       "      <td>0.963405</td>\n",
       "      <td>2.523423</td>\n",
       "      <td>2.525417</td>\n",
       "      <td>0.965691</td>\n",
       "      <td>0.0</td>\n",
       "      <td>0.968750</td>\n",
       "      <td>2.541444</td>\n",
       "      <td>2.547489</td>\n",
       "      <td>0.975680</td>\n",
       "      <td>...</td>\n",
       "      <td>5.511338e-30</td>\n",
       "      <td>0.975680</td>\n",
       "      <td>2.547489</td>\n",
       "      <td>2.541444</td>\n",
       "      <td>0.968750</td>\n",
       "      <td>0.0</td>\n",
       "      <td>0.965691</td>\n",
       "      <td>2.525417</td>\n",
       "      <td>2.523423e+00</td>\n",
       "      <td>9.634054e-01</td>\n",
       "    </tr>\n",
       "    <tr>\n",
       "      <td>max</td>\n",
       "      <td>2.910825e-27</td>\n",
       "      <td>863.865166</td>\n",
       "      <td>2262.700187</td>\n",
       "      <td>2264.488061</td>\n",
       "      <td>865.914751</td>\n",
       "      <td>0.0</td>\n",
       "      <td>868.657631</td>\n",
       "      <td>2278.859096</td>\n",
       "      <td>2284.279589</td>\n",
       "      <td>874.871615</td>\n",
       "      <td>...</td>\n",
       "      <td>4.941899e-27</td>\n",
       "      <td>874.871615</td>\n",
       "      <td>2284.279589</td>\n",
       "      <td>2278.859096</td>\n",
       "      <td>868.657631</td>\n",
       "      <td>0.0</td>\n",
       "      <td>865.914751</td>\n",
       "      <td>2264.488061</td>\n",
       "      <td>2.262700e+03</td>\n",
       "      <td>8.638652e+02</td>\n",
       "    </tr>\n",
       "  </tbody>\n",
       "</table>\n",
       "<p>8 rows × 250 columns</p>\n",
       "</div>"
      ],
      "text/plain": [
       "                0           1            2            3           4      5    \\\n",
       "count  2.500000e+02  250.000000   250.000000   250.000000  250.000000  250.0   \n",
       "mean   5.821649e-29   17.277303    45.254004    45.289761   17.318295    0.0   \n",
       "std    3.317312e-28   98.450131   257.867938   258.071692   98.683711    0.0   \n",
       "min    0.000000e+00    0.000000     0.000000     0.000000    0.000000    0.0   \n",
       "25%    4.207570e-31    0.124871     0.327071     0.327330    0.125167    0.0   \n",
       "50%    1.131587e-30    0.335829     0.879628     0.880323    0.336626    0.0   \n",
       "75%    3.246229e-30    0.963405     2.523423     2.525417    0.965691    0.0   \n",
       "max    2.910825e-27  863.865166  2262.700187  2264.488061  865.914751    0.0   \n",
       "\n",
       "              6            7            8           9    ...           240  \\\n",
       "count  250.000000   250.000000   250.000000  250.000000  ...  2.500000e+02   \n",
       "mean    17.373153    45.577182    45.685592   17.497432  ...  9.883799e-29   \n",
       "std     98.996302   259.709483   260.327228   99.704477  ...  5.632021e-28   \n",
       "min      0.000000     0.000000     0.000000    0.000000  ...  3.531906e-62   \n",
       "25%      0.125564     0.329407     0.330191    0.126462  ...  7.143471e-31   \n",
       "50%      0.337692     0.885910     0.888017    0.340108  ...  1.921171e-30   \n",
       "75%      0.968750     2.541444     2.547489    0.975680  ...  5.511338e-30   \n",
       "max    868.657631  2278.859096  2284.279589  874.871615  ...  4.941899e-27   \n",
       "\n",
       "              241          242          243         244    245         246  \\\n",
       "count  250.000000   250.000000   250.000000  250.000000  250.0  250.000000   \n",
       "mean    17.497432    45.685592    45.577182   17.373153    0.0   17.318295   \n",
       "std     99.704477   260.327228   259.709483   98.996302    0.0   98.683711   \n",
       "min      0.000000     0.000000     0.000000    0.000000    0.0    0.000000   \n",
       "25%      0.126462     0.330191     0.329407    0.125564    0.0    0.125167   \n",
       "50%      0.340108     0.888017     0.885910    0.337692    0.0    0.336626   \n",
       "75%      0.975680     2.547489     2.541444    0.968750    0.0    0.965691   \n",
       "max    874.871615  2284.279589  2278.859096  868.657631    0.0  865.914751   \n",
       "\n",
       "               247           248           249  \n",
       "count   250.000000  2.500000e+02  2.500000e+02  \n",
       "mean     45.289761  4.525400e+01  1.727730e+01  \n",
       "std     258.071692  2.578679e+02  9.845013e+01  \n",
       "min       0.000000  6.896057e-35  1.925930e-34  \n",
       "25%       0.327330  3.270713e-01  1.248709e-01  \n",
       "50%       0.880323  8.796281e-01  3.358289e-01  \n",
       "75%       2.525417  2.523423e+00  9.634054e-01  \n",
       "max    2264.488061  2.262700e+03  8.638652e+02  \n",
       "\n",
       "[8 rows x 250 columns]"
      ]
     },
     "execution_count": 35,
     "metadata": {},
     "output_type": "execute_result"
    }
   ],
   "source": [
    "for i in range(wc+1):\n",
    "    m=(rdf==i)\n",
    "    psm=psdf[m]\n",
    "    s=(psm.mean()).mean()\n",
    "    err=(psm.std()/np.sqrt(len(psm))).mean()\n",
    "    data_ps[i]=[i,s,err]\n",
    "    \n",
    "psd1D_2mx=pd.DataFrame(data_ps).T\n",
    "psdf.describe()"
   ]
  },
  {
   "cell_type": "code",
   "execution_count": 36,
   "metadata": {},
   "outputs": [],
   "source": [
    "a=psd1D_2mx[1]#[2:17]\n",
    "b=psd1D_2mx[2]#[2:17]"
   ]
  },
  {
   "cell_type": "code",
   "execution_count": 37,
   "metadata": {},
   "outputs": [
    {
     "data": {
      "text/html": [
       "<div>\n",
       "<style scoped>\n",
       "    .dataframe tbody tr th:only-of-type {\n",
       "        vertical-align: middle;\n",
       "    }\n",
       "\n",
       "    .dataframe tbody tr th {\n",
       "        vertical-align: top;\n",
       "    }\n",
       "\n",
       "    .dataframe thead th {\n",
       "        text-align: right;\n",
       "    }\n",
       "</style>\n",
       "<table border=\"1\" class=\"dataframe\">\n",
       "  <thead>\n",
       "    <tr style=\"text-align: right;\">\n",
       "      <th></th>\n",
       "      <th>k</th>\n",
       "      <th>Pk</th>\n",
       "      <th>Err</th>\n",
       "    </tr>\n",
       "  </thead>\n",
       "  <tbody>\n",
       "    <tr>\n",
       "      <td>0</td>\n",
       "      <td>0.020408</td>\n",
       "      <td>6.250000e+06</td>\n",
       "      <td>NaN</td>\n",
       "    </tr>\n",
       "    <tr>\n",
       "      <td>1</td>\n",
       "      <td>0.020833</td>\n",
       "      <td>5.166483e+06</td>\n",
       "      <td>16619.616310</td>\n",
       "    </tr>\n",
       "    <tr>\n",
       "      <td>2</td>\n",
       "      <td>0.021277</td>\n",
       "      <td>3.085713e+06</td>\n",
       "      <td>17675.183253</td>\n",
       "    </tr>\n",
       "    <tr>\n",
       "      <td>3</td>\n",
       "      <td>0.021739</td>\n",
       "      <td>1.240412e+06</td>\n",
       "      <td>5612.646383</td>\n",
       "    </tr>\n",
       "    <tr>\n",
       "      <td>4</td>\n",
       "      <td>0.022222</td>\n",
       "      <td>2.974566e+05</td>\n",
       "      <td>938.275770</td>\n",
       "    </tr>\n",
       "  </tbody>\n",
       "</table>\n",
       "</div>"
      ],
      "text/plain": [
       "          k            Pk           Err\n",
       "0  0.020408  6.250000e+06           NaN\n",
       "1  0.020833  5.166483e+06  16619.616310\n",
       "2  0.021277  3.085713e+06  17675.183253\n",
       "3  0.021739  1.240412e+06   5612.646383\n",
       "4  0.022222  2.974566e+05    938.275770"
      ]
     },
     "execution_count": 37,
     "metadata": {},
     "output_type": "execute_result"
    }
   ],
   "source": [
    "psx=[k,a,b]\n",
    "psd1D_2m=pd.DataFrame(psx).T\n",
    "psd1D_2m.columns =['k', 'Pk','Err'] \n",
    "psd1D_2m.head()"
   ]
  },
  {
   "cell_type": "code",
   "execution_count": 38,
   "metadata": {},
   "outputs": [
    {
     "data": {
      "text/plain": [
       "[Text(0, 0.5, '$ \\\\mathrm{P(k)}$'), Text(0.5, 0, 'wavenumber (k), 1/arcsec')]"
      ]
     },
     "execution_count": 38,
     "metadata": {},
     "output_type": "execute_result"
    },
    {
     "data": {
      "image/png": "[encoded data removed]",
      "text/plain": [
       "<Figure size 432x288 with 1 Axes>"
      ]
     },
     "metadata": {
      "needs_background": "light"
     },
     "output_type": "display_data"
    }
   ],
   "source": [
    "fig, ax=plt.subplots()\n",
    "#sgrid = np.logspace(-1.34, -0.45)\n",
    "#plt.plot(sgrid, (10**0.7)*sgrid**(-5/3), color=\"k\", lw=1, label=\"Kolmogorov\", linestyle='dashed')\n",
    "#plt.plot(sgrid, (10**1.2)*sgrid**(-0.9), color=\"b\", lw=1, label=\"Power law fit\", linestyle='dashed')\n",
    "\n",
    "ax.errorbar(psd1D_2m.k,psd1D_2m.Pk, yerr=psd1D_2m.Err, fmt=\"o-\", ecolor='k', alpha=0.5)\n",
    "ax.set(xscale='log',yscale='log')\n",
    "ax.grid()\n",
    "ax.set(xlabel='wavenumber (k), 1/arcsec', ylabel=r'$ \\mathrm{P(k)}$')"
   ]
  },
  {
   "cell_type": "markdown",
   "metadata": {},
   "source": [
    "#3.v) radialProfile"
   ]
  },
  {
   "cell_type": "markdown",
   "metadata": {},
   "source": [
    "Implemeneting radialProfile and radial_data for the PSD in 1D, taken from: https://www.astrobetter.com/wiki/tiki-index.php?page=python_image_fft"
   ]
  },
  {
   "cell_type": "code",
   "execution_count": 39,
   "metadata": {},
   "outputs": [],
   "source": [
    " psd1D_x1= radialProfile.azimuthalAverage(power_s)\n",
    " a=psd1D_x1   "
   ]
  },
  {
   "cell_type": "code",
   "execution_count": 40,
   "metadata": {},
   "outputs": [
    {
     "data": {
      "text/html": [
       "<div>\n",
       "<style scoped>\n",
       "    .dataframe tbody tr th:only-of-type {\n",
       "        vertical-align: middle;\n",
       "    }\n",
       "\n",
       "    .dataframe tbody tr th {\n",
       "        vertical-align: top;\n",
       "    }\n",
       "\n",
       "    .dataframe thead th {\n",
       "        text-align: right;\n",
       "    }\n",
       "</style>\n",
       "<table border=\"1\" class=\"dataframe\">\n",
       "  <thead>\n",
       "    <tr style=\"text-align: right;\">\n",
       "      <th></th>\n",
       "      <th>k</th>\n",
       "      <th>Pk</th>\n",
       "    </tr>\n",
       "  </thead>\n",
       "  <tbody>\n",
       "    <tr>\n",
       "      <td>0</td>\n",
       "      <td>0.020408</td>\n",
       "      <td>4.242883e+06</td>\n",
       "    </tr>\n",
       "    <tr>\n",
       "      <td>1</td>\n",
       "      <td>0.020833</td>\n",
       "      <td>2.374271e+06</td>\n",
       "    </tr>\n",
       "    <tr>\n",
       "      <td>2</td>\n",
       "      <td>0.021277</td>\n",
       "      <td>8.567496e+05</td>\n",
       "    </tr>\n",
       "    <tr>\n",
       "      <td>3</td>\n",
       "      <td>0.021739</td>\n",
       "      <td>2.169140e+05</td>\n",
       "    </tr>\n",
       "    <tr>\n",
       "      <td>4</td>\n",
       "      <td>0.022222</td>\n",
       "      <td>5.593137e+04</td>\n",
       "    </tr>\n",
       "  </tbody>\n",
       "</table>\n",
       "</div>"
      ],
      "text/plain": [
       "          k            Pk\n",
       "0  0.020408  4.242883e+06\n",
       "1  0.020833  2.374271e+06\n",
       "2  0.021277  8.567496e+05\n",
       "3  0.021739  2.169140e+05\n",
       "4  0.022222  5.593137e+04"
      ]
     },
     "execution_count": 40,
     "metadata": {},
     "output_type": "execute_result"
    }
   ],
   "source": [
    "psx=[k,a]\n",
    "psd1D_x1=pd.DataFrame(psx).T\n",
    "psd1D_x1.columns =['k', 'Pk'] \n",
    "psd1D_x1.head()"
   ]
  },
  {
   "cell_type": "code",
   "execution_count": 41,
   "metadata": {},
   "outputs": [
    {
     "data": {
      "text/plain": [
       "[Text(0, 0.5, '$ \\\\mathrm{P(k)}$'), Text(0.5, 0, 'wavenumber (k), 1/arcsec')]"
      ]
     },
     "execution_count": 41,
     "metadata": {},
     "output_type": "execute_result"
    },
    {
     "data": {
      "image/png": "[encoded data removed]",
      "text/plain": [
       "<Figure size 432x288 with 1 Axes>"
      ]
     },
     "metadata": {
      "needs_background": "light"
     },
     "output_type": "display_data"
    }
   ],
   "source": [
    "fig, ax=plt.subplots()\n",
    "#sgrid = np.logspace(-1.34, -0.45)\n",
    "#plt.plot(sgrid, (10**0.7)*sgrid**(-5/3), color=\"k\", lw=1, label=\"Kolmogorov\", linestyle='dashed')\n",
    "#plt.plot(sgrid, (10**1.2)*sgrid**(-0.9), color=\"b\", lw=1, label=\"Power law fit\", linestyle='dashed')\n",
    "\n",
    "ax.errorbar(psd1D_x1.k,psd1D_x1.Pk, fmt=\"o-\", ecolor='k', alpha=0.5)\n",
    "ax.set(xscale='log',yscale='log')\n",
    "ax.grid()\n",
    "ax.set(xlabel='wavenumber (k), 1/arcsec', ylabel=r'$ \\mathrm{P(k)}$')"
   ]
  },
  {
   "cell_type": "markdown",
   "metadata": {},
   "source": [
    "#3.vi) radial_data"
   ]
  },
  {
   "cell_type": "markdown",
   "metadata": {},
   "source": [
    "In the case of radial_data, for some reason the library import doesn't work, so the code is used here."
   ]
  },
  {
   "cell_type": "code",
   "execution_count": 42,
   "metadata": {},
   "outputs": [],
   "source": [
    "def radial_data(data,annulus_width=1,working_mask=None,x=None,y=None,rmax=None):\n",
    "    \"\"\"\n",
    "    r = radial_data(data,annulus_width,working_mask,x,y)\n",
    "    \n",
    "    A function to reduce an image to a radial cross-section.\n",
    "    \n",
    "    INPUT:\n",
    "    ------\n",
    "    data   - whatever data you are radially averaging.  Data is\n",
    "            binned into a series of annuli of width 'annulus_width'\n",
    "            pixels.\n",
    "    annulus_width - width of each annulus.  Default is 1.\n",
    "    working_mask - array of same size as 'data', with zeros at\n",
    "                      whichever 'data' points you don't want included\n",
    "                      in the radial data computations.\n",
    "      x,y - coordinate system in which the data exists (used to set\n",
    "             the center of the data).  By default, these are set to\n",
    "             integer meshgrids\n",
    "      rmax -- maximum radial value over which to compute statistics\n",
    "    \n",
    "     OUTPUT:\n",
    "     -------\n",
    "      r - a data structure containing the following\n",
    "                   statistics, computed across each annulus:\n",
    "          .r      - the radial coordinate used (outer edge of annulus)\n",
    "          .mean   - mean of the data in the annulus\n",
    "          .std    - standard deviation of the data in the annulus\n",
    "          .median - median value in the annulus\n",
    "          .max    - maximum value in the annulus\n",
    "          .min    - minimum value in the annulus\n",
    "          .numel  - number of elements in the annulus\n",
    "    \"\"\"\n",
    "    \n",
    "# 2010-03-10 19:22 IJC: Ported to python from Matlab\n",
    "# 2005/12/19 Added 'working_region' option (IJC)\n",
    "# 2005/12/15 Switched order of outputs (IJC)\n",
    "# 2005/12/12 IJC: Removed decifact, changed name, wrote comments.\n",
    "# 2005/11/04 by Ian Crossfield at the Jet Propulsion Laboratory\n",
    " \n",
    "    import numpy as ny\n",
    "\n",
    "    class radialDat:\n",
    "        \"\"\"Empty object container.\n",
    "        \"\"\"\n",
    "        def __init__(self): \n",
    "            self.mean = None\n",
    "            self.std = None\n",
    "            self.median = None\n",
    "            self.numel = None\n",
    "            self.max = None\n",
    "            self.min = None\n",
    "            self.r = None\n",
    "\n",
    "    #---------------------\n",
    "    # Set up input parameters\n",
    "    #---------------------\n",
    "    data = ny.array(data)\n",
    "    \n",
    "    if working_mask==None:\n",
    "        working_mask = ny.ones(data.shape,bool)\n",
    "    \n",
    "    npix, npiy = data.shape\n",
    "    if x==None or y==None:\n",
    "        x1 = ny.arange(-npix/2.,npix/2.)\n",
    "        y1 = ny.arange(-npiy/2.,npiy/2.)\n",
    "        x,y = ny.meshgrid(y1,x1)\n",
    "\n",
    "    r = abs(x+1j*y)\n",
    "\n",
    "    if rmax==None:\n",
    "        rmax = r[working_mask].max()\n",
    "\n",
    "    #---------------------\n",
    "    # Prepare the data container\n",
    "    #---------------------\n",
    "    dr = ny.abs([x[0,0] - x[0,1]]) * annulus_width\n",
    "    radial = ny.arange(rmax/dr)*dr + dr/2.\n",
    "    nrad = len(radial)\n",
    "    radialdata = radialDat()\n",
    "    radialdata.mean = ny.zeros(nrad)\n",
    "    radialdata.std = ny.zeros(nrad)\n",
    "    radialdata.median = ny.zeros(nrad)\n",
    "    radialdata.numel = ny.zeros(nrad)\n",
    "    radialdata.max = ny.zeros(nrad)\n",
    "    radialdata.min = ny.zeros(nrad)\n",
    "    radialdata.r = radial\n",
    "    \n",
    "    #---------------------\n",
    "    # Loop through the bins\n",
    "    #---------------------\n",
    "    for irad in range(nrad): #= 1:numel(radial)\n",
    "      minrad = irad*dr\n",
    "      maxrad = minrad + dr\n",
    "      thisindex = (r>=minrad) * (r<maxrad) * working_mask\n",
    "      if not thisindex.ravel().any():\n",
    "        radialdata.mean[irad] = ny.nan\n",
    "        radialdata.std[irad]  = ny.nan\n",
    "        radialdata.median[irad] = ny.nan\n",
    "        radialdata.numel[irad] = ny.nan\n",
    "        radialdata.max[irad] = ny.nan\n",
    "        radialdata.min[irad] = ny.nan\n",
    "      else:\n",
    "        radialdata.mean[irad] = data[thisindex].mean()\n",
    "        radialdata.std[irad]  = data[thisindex].std()\n",
    "        radialdata.median[irad] = ny.median(data[thisindex])\n",
    "        radialdata.numel[irad] = data[thisindex].size\n",
    "        radialdata.max[irad] = data[thisindex].max()\n",
    "        radialdata.min[irad] = data[thisindex].min()\n",
    "    \n",
    "    #---------------------\n",
    "    # Return with data\n",
    "    #---------------------\n",
    "    \n",
    "    return radialdata"
   ]
  },
  {
   "cell_type": "code",
   "execution_count": 43,
   "metadata": {},
   "outputs": [],
   "source": [
    "psd1D_x2=radial_data(power_s)"
   ]
  },
  {
   "cell_type": "code",
   "execution_count": 44,
   "metadata": {},
   "outputs": [
    {
     "data": {
      "text/plain": [
       "array([6.25000000e+06, 5.12855397e+06, 2.97489270e+06, 1.24041206e+06,\n",
       "       2.89744496e+05, 1.93010361e+04, 7.45140363e+04, 1.08955665e+05,\n",
       "       7.49583124e+04, 2.38710950e+04, 2.07574251e+03, 1.37389754e+04,\n",
       "       2.30114659e+04, 1.77303898e+04, 6.71234085e+03, 6.04972586e+02,\n",
       "       4.31168755e+03, 8.14442679e+03, 7.28344162e+03, 2.67422319e+03,\n",
       "       2.31135216e+02, 1.72676389e+03, 4.22219459e+03, 3.82332341e+03,\n",
       "       1.38506063e+03, 1.33839969e+02, 9.35137435e+02, 2.37333434e+03,\n",
       "       2.19469596e+03, 7.52833456e+02, 5.53021329e+01, 5.74279669e+02,\n",
       "       1.43040176e+03, 1.29869533e+03, 4.55607727e+02, 3.68965901e+01,\n",
       "       3.90860588e+02, 9.50799672e+02, 8.18565160e+02, 3.24943247e+02,\n",
       "       2.24156231e+01, 2.61858929e+02, 6.55318890e+02, 5.82783666e+02,\n",
       "       2.33128172e+02, 1.45938465e+01, 1.95094751e+02, 4.85263449e+02,\n",
       "       4.40172538e+02, 1.77705362e+02, 1.04319003e+01, 1.47844065e+02,\n",
       "       3.80331157e+02, 3.37990563e+02, 1.40031178e+02, 8.53236326e+00,\n",
       "       1.19224138e+02, 2.82555202e+02, 2.74448784e+02, 1.07495627e+02,\n",
       "       6.43730060e+00, 9.24523909e+01, 2.26826048e+02, 2.19624647e+02,\n",
       "       8.89909288e+01, 5.15026615e+00, 7.88482136e+01, 1.86462916e+02,\n",
       "       1.72878651e+02, 7.40359882e+01, 4.60719598e+00, 6.63426729e+01,\n",
       "       1.48914075e+02, 1.52302864e+02, 5.97960808e+01, 3.25685049e+00,\n",
       "       5.39465969e+01, 1.31424472e+02, 1.35317049e+02, 5.11705776e+01,\n",
       "       2.76911453e+00, 4.78569621e+01, 1.12135551e+02, 1.18441220e+02,\n",
       "       4.40109026e+01, 2.27504467e+00, 4.09012928e+01, 1.01740743e+02,\n",
       "       1.06529544e+02, 3.66592829e+01, 1.78051811e+00, 3.62084948e+01,\n",
       "       9.12632504e+01, 9.02907186e+01, 3.40769522e+01, 1.75208690e+00,\n",
       "       3.29161303e+01, 7.95943548e+01, 8.26534464e+01, 3.07423104e+01,\n",
       "       1.53161700e+00, 2.85524133e+01, 7.49802686e+01, 7.72070106e+01,\n",
       "       2.82982620e+01, 1.39697803e+00, 2.63962225e+01, 6.94994815e+01,\n",
       "       7.02534186e+01, 2.70402330e+01, 1.32607928e+00, 2.48290363e+01,\n",
       "       6.50615523e+01, 6.41131259e+01, 2.43272350e+01, 1.19070107e+00,\n",
       "       2.44744939e+01, 6.08863436e+01, 5.97758664e+01, 2.35817519e+01,\n",
       "       1.15096996e+00, 2.35470991e+01, 5.75608609e+01, 5.43416553e+01,\n",
       "       2.35850680e+01, 1.05938494e+00, 8.57335085e-01, 7.73809925e-01,\n",
       "       6.85235633e-01, 5.93561167e-01, 5.04714024e-01, 5.69099965e-01,\n",
       "       4.38092048e-01, 4.65495473e-01, 4.68100162e-01, 4.35559200e-01,\n",
       "       3.57023947e-01, 3.89706338e-01, 4.15273055e-01, 3.35397167e-01,\n",
       "       3.38856156e-01, 3.94933410e-01, 3.45633036e-01, 3.04577103e-01,\n",
       "       3.32303326e-01, 3.70938494e-01, 2.89972749e-01, 2.58070226e-01,\n",
       "       3.66480770e-01, 3.10831280e-01, 2.38692413e-01, 2.85435964e-01,\n",
       "       3.60738890e-01, 2.35452986e-01, 2.32941708e-01, 3.56894056e-01,\n",
       "       2.75796398e-01, 2.13713190e-01, 2.24730300e-01, 3.89985388e-01,\n",
       "       1.95370599e-01, 2.10502509e-01, 3.17923501e-01, 3.32403321e-01,\n",
       "       1.71129944e-01, 2.23374623e-01, 3.27555837e-01, 2.48338726e-01,\n",
       "       1.35919908e-01, 3.19430665e-01, 3.23439975e-01, 1.49766392e-01,\n",
       "       2.41240457e-01, 3.69351452e-01, 2.08497906e-01, 5.97010420e-02,\n",
       "       4.80973516e-31])"
      ]
     },
     "execution_count": 44,
     "metadata": {},
     "output_type": "execute_result"
    }
   ],
   "source": [
    "psd1D_x2.mean"
   ]
  },
  {
   "cell_type": "code",
   "execution_count": 45,
   "metadata": {},
   "outputs": [],
   "source": [
    "a=psd1D_x2.mean#[3:18]"
   ]
  },
  {
   "cell_type": "code",
   "execution_count": 46,
   "metadata": {},
   "outputs": [
    {
     "data": {
      "text/html": [
       "<div>\n",
       "<style scoped>\n",
       "    .dataframe tbody tr th:only-of-type {\n",
       "        vertical-align: middle;\n",
       "    }\n",
       "\n",
       "    .dataframe tbody tr th {\n",
       "        vertical-align: top;\n",
       "    }\n",
       "\n",
       "    .dataframe thead th {\n",
       "        text-align: right;\n",
       "    }\n",
       "</style>\n",
       "<table border=\"1\" class=\"dataframe\">\n",
       "  <thead>\n",
       "    <tr style=\"text-align: right;\">\n",
       "      <th></th>\n",
       "      <th>k</th>\n",
       "      <th>Pk</th>\n",
       "    </tr>\n",
       "  </thead>\n",
       "  <tbody>\n",
       "    <tr>\n",
       "      <td>0</td>\n",
       "      <td>0.020408</td>\n",
       "      <td>6.250000e+06</td>\n",
       "    </tr>\n",
       "    <tr>\n",
       "      <td>1</td>\n",
       "      <td>0.020833</td>\n",
       "      <td>5.128554e+06</td>\n",
       "    </tr>\n",
       "    <tr>\n",
       "      <td>2</td>\n",
       "      <td>0.021277</td>\n",
       "      <td>2.974893e+06</td>\n",
       "    </tr>\n",
       "    <tr>\n",
       "      <td>3</td>\n",
       "      <td>0.021739</td>\n",
       "      <td>1.240412e+06</td>\n",
       "    </tr>\n",
       "    <tr>\n",
       "      <td>4</td>\n",
       "      <td>0.022222</td>\n",
       "      <td>2.897445e+05</td>\n",
       "    </tr>\n",
       "  </tbody>\n",
       "</table>\n",
       "</div>"
      ],
      "text/plain": [
       "          k            Pk\n",
       "0  0.020408  6.250000e+06\n",
       "1  0.020833  5.128554e+06\n",
       "2  0.021277  2.974893e+06\n",
       "3  0.021739  1.240412e+06\n",
       "4  0.022222  2.897445e+05"
      ]
     },
     "execution_count": 46,
     "metadata": {},
     "output_type": "execute_result"
    }
   ],
   "source": [
    "psx=[k,a]\n",
    "psd1D_x2=pd.DataFrame(psx).T\n",
    "psd1D_x2.columns =['k', 'Pk'] \n",
    "psd1D_x2.head()"
   ]
  },
  {
   "cell_type": "code",
   "execution_count": 47,
   "metadata": {},
   "outputs": [
    {
     "data": {
      "text/plain": [
       "[Text(0, 0.5, '$ \\\\mathrm{P(k)}$'), Text(0.5, 0, 'wavenumber (k), 1/arcsec')]"
      ]
     },
     "execution_count": 47,
     "metadata": {},
     "output_type": "execute_result"
    },
    {
     "data": {
      "image/png": "[encoded data removed]",
      "text/plain": [
       "<Figure size 432x288 with 1 Axes>"
      ]
     },
     "metadata": {
      "needs_background": "light"
     },
     "output_type": "display_data"
    }
   ],
   "source": [
    "fig, ax=plt.subplots()\n",
    "sgrid = np.logspace(-1.34, -0.45)\n",
    "#plt.plot(sgrid, (10**0.3)*sgrid**(-5/3), color=\"k\", lw=1, label=\"Kolmogorov\", linestyle='dashed')\n",
    "#plt.plot(sgrid, (10**1.0)*sgrid**(-0.9), color=\"b\", lw=1, label=\"Power law fit\", linestyle='dashed')\n",
    "\n",
    "ax.errorbar(psd1D_x2.k,psd1D_x2.Pk, fmt=\"o-\", ecolor='k', alpha=0.5)\n",
    "ax.set(xscale='log',yscale='log')\n",
    "ax.grid()\n",
    "ax.set(xlabel='wavenumber (k), 1/arcsec', ylabel=r'$ \\mathrm{P(k)}$')"
   ]
  },
  {
   "cell_type": "markdown",
   "metadata": {},
   "source": [
    "#3.vii) Turbustat"
   ]
  },
  {
   "cell_type": "markdown",
   "metadata": {},
   "source": [
    "The values below were obtaied with the the Turbustat code, using the radial velocty map as input. \\\n",
    "from turbustat.statistics import PowerSpectrum"
   ]
  },
  {
   "cell_type": "code",
   "execution_count": 48,
   "metadata": {},
   "outputs": [],
   "source": [
    "TS=[148536.11369865,  82717.41336635,  45850.75929248,  15111.00265915,\n",
    "        38361.31818442,  71282.00632571,  32228.69163749,  27635.93777926,\n",
    "        10588.51842271,  28300.66687279,  18535.35958634,   3976.58132317,\n",
    "         5891.33242062,  18845.06306528,  13757.14931646,   5622.48329691,\n",
    "         3167.61986153,   4839.82875265]"
   ]
  },
  {
   "cell_type": "code",
   "execution_count": 49,
   "metadata": {},
   "outputs": [
    {
     "data": {
      "text/html": [
       "<div>\n",
       "<style scoped>\n",
       "    .dataframe tbody tr th:only-of-type {\n",
       "        vertical-align: middle;\n",
       "    }\n",
       "\n",
       "    .dataframe tbody tr th {\n",
       "        vertical-align: top;\n",
       "    }\n",
       "\n",
       "    .dataframe thead th {\n",
       "        text-align: right;\n",
       "    }\n",
       "</style>\n",
       "<table border=\"1\" class=\"dataframe\">\n",
       "  <thead>\n",
       "    <tr style=\"text-align: right;\">\n",
       "      <th></th>\n",
       "      <th>k</th>\n",
       "      <th>Pk</th>\n",
       "    </tr>\n",
       "  </thead>\n",
       "  <tbody>\n",
       "    <tr>\n",
       "      <td>0</td>\n",
       "      <td>0.020408</td>\n",
       "      <td>6.250000e+06</td>\n",
       "    </tr>\n",
       "    <tr>\n",
       "      <td>1</td>\n",
       "      <td>0.020833</td>\n",
       "      <td>5.128554e+06</td>\n",
       "    </tr>\n",
       "    <tr>\n",
       "      <td>2</td>\n",
       "      <td>0.021277</td>\n",
       "      <td>2.974893e+06</td>\n",
       "    </tr>\n",
       "    <tr>\n",
       "      <td>3</td>\n",
       "      <td>0.021739</td>\n",
       "      <td>1.240412e+06</td>\n",
       "    </tr>\n",
       "    <tr>\n",
       "      <td>4</td>\n",
       "      <td>0.022222</td>\n",
       "      <td>2.897445e+05</td>\n",
       "    </tr>\n",
       "  </tbody>\n",
       "</table>\n",
       "</div>"
      ],
      "text/plain": [
       "          k            Pk\n",
       "0  0.020408  6.250000e+06\n",
       "1  0.020833  5.128554e+06\n",
       "2  0.021277  2.974893e+06\n",
       "3  0.021739  1.240412e+06\n",
       "4  0.022222  2.897445e+05"
      ]
     },
     "execution_count": 49,
     "metadata": {},
     "output_type": "execute_result"
    }
   ],
   "source": [
    "psx=[k,a]\n",
    "psd1D_ts=pd.DataFrame(psx).T\n",
    "psd1D_ts.columns =['k', 'Pk'] \n",
    "psd1D_ts.head()"
   ]
  },
  {
   "cell_type": "code",
   "execution_count": 50,
   "metadata": {},
   "outputs": [
    {
     "data": {
      "text/plain": [
       "[Text(0, 0.5, '$ \\\\mathrm{P(k)}$'), Text(0.5, 0, 'wavenumber (k), 1/arcsec')]"
      ]
     },
     "execution_count": 50,
     "metadata": {},
     "output_type": "execute_result"
    },
    {
     "data": {
      "image/png": "[encoded data removed]",
      "text/plain": [
       "<Figure size 432x288 with 1 Axes>"
      ]
     },
     "metadata": {
      "needs_background": "light"
     },
     "output_type": "display_data"
    }
   ],
   "source": [
    "fig, ax=plt.subplots()\n",
    "sgrid = np.logspace(-1.34, -0.45)\n",
    "plt.plot(sgrid, (10**2.6)*sgrid**(-5/3), color=\"k\", lw=1, label=\"Kolmogorov\", linestyle='dashed')\n",
    "plt.plot(sgrid, (10**3.2)*sgrid**(-0.9), color=\"r\", lw=1, label=\"Power law fit\", linestyle='dashed')\n",
    "\n",
    "ax.errorbar(psd1D_ts.k,psd1D_ts.Pk, fmt=\"o-\", ecolor='k', alpha=0.5)\n",
    "ax.set(xscale='log',yscale='log')\n",
    "ax.grid()\n",
    "ax.set(xlabel='wavenumber (k), 1/arcsec', ylabel=r'$ \\mathrm{P(k)}$')"
   ]
  },
  {
   "cell_type": "markdown",
   "metadata": {},
   "source": [
    "#Comparison"
   ]
  },
  {
   "cell_type": "markdown",
   "metadata": {},
   "source": [
    "A comparison between methods would give more insight of the behaviour between them."
   ]
  },
  {
   "cell_type": "code",
   "execution_count": 51,
   "metadata": {
    "scrolled": false
   },
   "outputs": [
    {
     "data": {
      "text/plain": [
       "<matplotlib.legend.Legend at 0x7f77ff6aee50>"
      ]
     },
     "execution_count": 51,
     "metadata": {},
     "output_type": "execute_result"
    },
    {
     "data": {
      "image/png": "[encoded data removed]",
      "text/plain": [
       "<Figure size 360x504 with 1 Axes>"
      ]
     },
     "metadata": {
      "needs_background": "light"
     },
     "output_type": "display_data"
    }
   ],
   "source": [
    "fig, ax = plt.subplots(figsize=(5, 7))\n",
    "ax.errorbar(psd1D_ts.k,psd1D_ts.Pk, fmt=\"o-\", color=\"black\", alpha=0.5, label=\"Turbustat\")\n",
    "ax.errorbar(psd1D_2.k,psd1D_2.Pk, yerr=psd1D_2.Err, fmt=\"o:\", ecolor='k', alpha=0.5, label=\"OBB-sum\")\n",
    "ax.errorbar(psd1D_2m.k,psd1D_2m.Pk, fmt=\"o:\", color='b', alpha=0.9, label=\"OBB-mean\")\n",
    "ax.errorbar(psd1D_s.k,psd1D_s.Pk, fmt=\"-.\", color='k', alpha=0.5, label=\"ndimage.sum\")\n",
    "ax.errorbar(psd1D_m.k,psd1D_m.Pk, fmt=\"-.\", color='b', alpha=0.9, label=\"ndimage.mean\")\n",
    "ax.errorbar(psd1D_x1.k,psd1D_x1.Pk, color=\"orange\", alpha=0.9, label=\"radialProfile\")\n",
    "ax.errorbar(psd1D_x2.k,psd1D_x2.Pk, color=\"green\", alpha=0.9, label=\"radial_data\")\n",
    "\n",
    "sgrid= np.logspace(-1.34, -0.45)\n",
    "#plt.plot(sgrid, (10**2.5)*sgrid**(-5/3), color=\"red\", label=\"K -5/3 law Fit\")\n",
    "#plt.plot(sgrid, (10**2.7)*sgrid**(-0.5), color=\"red\",linestyle='--', label=\"-1/2 Fit\")\n",
    "#plt.plot(sgrid, (10**1.4)*sgrid**(-5/3), color=\"red\" )\n",
    "#plt.plot(sgrid, (10**-.55)*sgrid**(-2.2), color=\"blue\",label=\"-1.9 Fit\" )\n",
    "#plt.plot(sgrid, (10**1.4)*sgrid**(-0.5), color=\"red\",linestyle='--')\n",
    "\n",
    "#ax.axvline(x=0.085, color='k', linestyle='-', label=\"11 arc sec\")\n",
    "\n",
    "ax.set(xscale='log',yscale='log')\n",
    "ax.grid()\n",
    "ax.set(xlabel='wavenumber (k), 1/arcsec', ylabel=r'$ \\mathrm{P(k)}$')\n",
    "plt.legend(bbox_to_anchor=(1.05, 1), loc=2, borderaxespad=0.)\n"
   ]
  },
  {
   "cell_type": "code",
   "execution_count": 52,
   "metadata": {},
   "outputs": [
    {
     "data": {
      "text/plain": [
       "<matplotlib.legend.Legend at 0x7f77ffc59350>"
      ]
     },
     "execution_count": 52,
     "metadata": {},
     "output_type": "execute_result"
    },
    {
     "data": {
      "image/png": "[encoded data removed]",
      "text/plain": [
       "<Figure size 360x504 with 1 Axes>"
      ]
     },
     "metadata": {
      "needs_background": "light"
     },
     "output_type": "display_data"
    }
   ],
   "source": [
    "m=0\n",
    "n=11\n",
    "\n",
    "fig, ax = plt.subplots(figsize=(5, 7))\n",
    "ax.errorbar(psd1D_ts.k[m:n],psd1D_ts.Pk[m:n], fmt=\"o-\", color=\"black\", alpha=0.5, label=\"Turbustat\")\n",
    "ax.errorbar(psd1D_2.k[m:n],psd1D_2.Pk[m:n], yerr=psd1D_2[m:n].Err, fmt=\"o:\", ecolor='k', alpha=0.5, label=\"OBB-sum\")\n",
    "ax.errorbar(psd1D_2m.k[m:n],psd1D_2m.Pk[m:n], fmt=\"o:\", color='b', alpha=0.9, label=\"OBB-mean\")\n",
    "ax.errorbar(psd1D_s.k[m:n],psd1D_s.Pk[m:n], fmt=\"-.\", color='k', alpha=0.5, label=\"ndimage.sum\")\n",
    "ax.errorbar(psd1D_m.k[m:n],psd1D_m.Pk[m:n], fmt=\"-.\", color='b', alpha=0.9, label=\"ndimage.mean\")\n",
    "ax.errorbar(psd1D_x1.k[m:n],psd1D_x1.Pk[m:n], color=\"orange\", alpha=0.9, label=\"radialProfile\")\n",
    "ax.errorbar(psd1D_x2.k[m:n],psd1D_x2.Pk[m:n], color=\"green\", alpha=0.9, label=\"radial_data\")\n",
    "\n",
    "sgrid= np.logspace(-1.34, -0.45)\n",
    "plt.plot(sgrid, (10**2.5)*sgrid**(-5/3), color=\"red\", label=\"K -5/3 law Fit\")\n",
    "\n",
    "#ax.axvline(x=0.05, color='k', linestyle='-.')\n",
    "#ax.axvline(x=0.3, color='k', linestyle='-.')\n",
    "\n",
    "ax.set(xscale='log',yscale='log')\n",
    "ax.grid()\n",
    "ax.set(xlabel='wavenumber (k), 1/arcsec', ylabel=r'$ \\mathrm{P(k)}$')\n",
    "plt.legend(bbox_to_anchor=(1.05, 1), loc=2, borderaxespad=0.)\n"
   ]
  },
  {
   "cell_type": "markdown",
   "metadata": {},
   "source": [
    "Concl: All works!"
   ]
  }
 ],
 "metadata": {
  "kernelspec": {
   "display_name": "Python 3",
   "language": "python",
   "name": "python3"
  },
  "language_info": {
   "codemirror_mode": {
    "name": "ipython",
    "version": 3
   },
   "file_extension": ".py",
   "mimetype": "text/x-python",
   "name": "python",
   "nbconvert_exporter": "python",
   "pygments_lexer": "ipython3",
   "version": "3.7.4"
  }
 },
 "nbformat": 4,
 "nbformat_minor": 2
}
