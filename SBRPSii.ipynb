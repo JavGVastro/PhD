{
 "cells": [
  {
   "cell_type": "markdown",
   "metadata": {},
   "source": [
    "Abstract: The aim of the next code is to stablish a proper way to obtain the power spectrum of a 2D image, in our case of interest a GEHR radial velocity field (3 X N format) and it's power spectral density (PSD) in 1D  for comparisons with turbulence theory , particullary the -5/3 Kolmogorov law. In this example a txt file is used as an input (we will develop the option for an image and fits file in future versions). The procedures follows the next steps: 1) Calculatiang the FFT in 2D for the input file, 2)a frecuency shift and 3) a radial average. Differents methods are presented for step 3), a discussion of their implementation and a comparison is presented. These methods show good agrement in the behaviour despite one particular pakcage. One the code is finished its aim is to expand its use.    "
   ]
  },
  {
   "cell_type": "code",
   "execution_count": 1,
   "metadata": {},
   "outputs": [],
   "source": [
    "import matplotlib.pyplot as plt\n",
    "import numpy as np\n",
    "import pandas as pd\n",
    "import seaborn as sns\n",
    "import scipy.fftpack\n",
    "from scipy import ndimage#3) method\n",
    "import radial_data#3) method\n",
    "import radialProfile#3) method\n",
    "#from turbustat.statistics import PowerSpectrum #3) method"
   ]
  },
  {
   "cell_type": "markdown",
   "metadata": {},
   "source": [
    "Data load: Text file"
   ]
  },
  {
   "cell_type": "code",
   "execution_count": 2,
   "metadata": {},
   "outputs": [],
   "source": [
    "data=pd.read_table('datos.txt')"
   ]
  },
  {
   "cell_type": "markdown",
   "metadata": {},
   "source": [
    "Data transform: N x 3 list ---> N x N table"
   ]
  },
  {
   "cell_type": "code",
   "execution_count": 3,
   "metadata": {},
   "outputs": [],
   "source": [
    "data_2=(data.round(2)).pivot(index='Y', columns='X', values='RV')"
   ]
  },
  {
   "cell_type": "markdown",
   "metadata": {},
   "source": [
    "Astronomical Object Info"
   ]
  },
  {
   "cell_type": "code",
   "execution_count": 4,
   "metadata": {},
   "outputs": [],
   "source": [
    "nom_reg = '604'\n",
    "nom_lin = 'Halpha'\n",
    "pc=4.16"
   ]
  },
  {
   "cell_type": "code",
   "execution_count": 5,
   "metadata": {},
   "outputs": [
    {
     "data": {
      "text/html": [
       "<div>\n",
       "<style scoped>\n",
       "    .dataframe tbody tr th:only-of-type {\n",
       "        vertical-align: middle;\n",
       "    }\n",
       "\n",
       "    .dataframe tbody tr th {\n",
       "        vertical-align: top;\n",
       "    }\n",
       "\n",
       "    .dataframe thead th {\n",
       "        text-align: right;\n",
       "    }\n",
       "</style>\n",
       "<table border=\"1\" class=\"dataframe\">\n",
       "  <thead>\n",
       "    <tr style=\"text-align: right;\">\n",
       "      <th></th>\n",
       "      <th>X</th>\n",
       "      <th>Y</th>\n",
       "      <th>RV</th>\n",
       "    </tr>\n",
       "  </thead>\n",
       "  <tbody>\n",
       "    <tr>\n",
       "      <td>count</td>\n",
       "      <td>330.000000</td>\n",
       "      <td>330.000000</td>\n",
       "      <td>330.000000</td>\n",
       "    </tr>\n",
       "    <tr>\n",
       "      <td>mean</td>\n",
       "      <td>107.280000</td>\n",
       "      <td>9.390000</td>\n",
       "      <td>-275.757688</td>\n",
       "    </tr>\n",
       "    <tr>\n",
       "      <td>std</td>\n",
       "      <td>12.788265</td>\n",
       "      <td>6.260324</td>\n",
       "      <td>9.697986</td>\n",
       "    </tr>\n",
       "    <tr>\n",
       "      <td>min</td>\n",
       "      <td>85.824000</td>\n",
       "      <td>0.000000</td>\n",
       "      <td>-296.649181</td>\n",
       "    </tr>\n",
       "    <tr>\n",
       "      <td>25%</td>\n",
       "      <td>96.552000</td>\n",
       "      <td>4.000000</td>\n",
       "      <td>-282.613847</td>\n",
       "    </tr>\n",
       "    <tr>\n",
       "      <td>50%</td>\n",
       "      <td>107.280000</td>\n",
       "      <td>9.000000</td>\n",
       "      <td>-276.070115</td>\n",
       "    </tr>\n",
       "    <tr>\n",
       "      <td>75%</td>\n",
       "      <td>118.008000</td>\n",
       "      <td>15.000000</td>\n",
       "      <td>-270.394313</td>\n",
       "    </tr>\n",
       "    <tr>\n",
       "      <td>max</td>\n",
       "      <td>128.736000</td>\n",
       "      <td>19.600000</td>\n",
       "      <td>-231.143341</td>\n",
       "    </tr>\n",
       "  </tbody>\n",
       "</table>\n",
       "</div>"
      ],
      "text/plain": [
       "                X           Y          RV\n",
       "count  330.000000  330.000000  330.000000\n",
       "mean   107.280000    9.390000 -275.757688\n",
       "std     12.788265    6.260324    9.697986\n",
       "min     85.824000    0.000000 -296.649181\n",
       "25%     96.552000    4.000000 -282.613847\n",
       "50%    107.280000    9.000000 -276.070115\n",
       "75%    118.008000   15.000000 -270.394313\n",
       "max    128.736000   19.600000 -231.143341"
      ]
     },
     "execution_count": 5,
     "metadata": {},
     "output_type": "execute_result"
    }
   ],
   "source": [
    "data.describe()"
   ]
  },
  {
   "cell_type": "markdown",
   "metadata": {},
   "source": [
    "#Data Visualization"
   ]
  },
  {
   "cell_type": "code",
   "execution_count": 6,
   "metadata": {},
   "outputs": [
    {
     "data": {
      "image/png": "[encoded data removed]",
      "text/plain": [
       "<Figure size 720x288 with 2 Axes>"
      ]
     },
     "metadata": {
      "needs_background": "light"
     },
     "output_type": "display_data"
    }
   ],
   "source": [
    "fig, ax = plt.subplots(figsize=(10, 4))\n",
    "sns.heatmap(data_2, cmap=\"viridis\")\n",
    "plt.gca().invert_yaxis()\n",
    "#plt.axis('equal')"
   ]
  },
  {
   "cell_type": "markdown",
   "metadata": {},
   "source": [
    "One of the main disadvantages of the procedure is that only works with complete data sets as show above. Missing data will casue error. I think this is a good case were the package Tetrablocks developed by Dr. Will is going to be handy, specially for obaining the power spectrum of electron density or not so high emission lines (PhD case)."
   ]
  },
  {
   "cell_type": "markdown",
   "metadata": {},
   "source": [
    "Spectrum Theory\n",
    "\n",
    "Energy Spectrum\n",
    "$$E(k) \\propto k^{-\\beta}$$\n",
    "Turbulent case\n",
    "$$\\beta = -5 / 3,-2$$\n",
    "Energy-Power Spectrum relation\n",
    "$$E(k) \\propto k^{N-1} P(k)$$\n",
    "where it is fullfilled\n",
    "$$P(k)\\propto k^{-\\gamma}$$"
   ]
  },
  {
   "cell_type": "markdown",
   "metadata": {},
   "source": [
    "The next lines show the procedure presented in:\n",
    "a)https://www.astrobetter.com/blog/2010/03/03/fourier-transforms-of-images-in-python/?fbclid=IwAR0x6xvMZ11_u6NoOfBWwwfWJrw3KfoHV_Xec51AodNOnMFcueUf5BszL3E and\n",
    "b)https://medium.com/tangibit-studios/2d-spectrum-characterization-e288f255cc59, thought neither of these deals, per se, with the turbuent problem in astrophysical or any other context."
   ]
  },
  {
   "cell_type": "markdown",
   "metadata": {},
   "source": [
    "#Recipe: \\\n",
    "1) FFT on the two-dimenional data (Image) \\\n",
    "2) Shifting Frequency components \\\n",
    "NOTE: i) In the case of images, we are dealing with wavenumbers. These procedure has been propose in many contexts, but, it is universal and applies to our problem?  ii) Does the shifting affects the physical spatial distribution or are we losing our separation information? \\\n",
    "3) Calculate the radial average PSD in 1D.\n",
    "\\\n",
    "\\\n",
    "In the case of 1) and 2) the procedure is straightforward thanks to scipy FFT library. For option 3) we evaluate different procedures: i) Using the ndimage option as suggested in the second link above, ii) doing by \"hand\" the ndimage stuff, iii) using the codes provide by the first link (radial_data and radialProfile) and iv) using the Turbustat package. A comparison between this options is presented at the end."
   ]
  },
  {
   "cell_type": "markdown",
   "metadata": {},
   "source": [
    "#1) 2D Fourier Transform "
   ]
  },
  {
   "cell_type": "code",
   "execution_count": 7,
   "metadata": {},
   "outputs": [],
   "source": [
    "#Return multidimensional discrete Fourier transform.\n",
    "FT2a=scipy.fftpack.fft2(data_2)\n",
    "power_s0=np.abs(FT2a)"
   ]
  },
  {
   "cell_type": "code",
   "execution_count": 8,
   "metadata": {},
   "outputs": [
    {
     "data": {
      "image/png": "[encoded data removed]",
      "text/plain": [
       "<Figure size 720x288 with 2 Axes>"
      ]
     },
     "metadata": {
      "needs_background": "light"
     },
     "output_type": "display_data"
    }
   ],
   "source": [
    "fig, ax = plt.subplots(figsize=(10, 4))\n",
    "sns.heatmap(np.log10(power_s0), cmap=\"inferno\")\n",
    "plt.gca().invert_yaxis()\n",
    "#plt.axis('equal')"
   ]
  },
  {
   "cell_type": "markdown",
   "metadata": {},
   "source": [
    "#2) Shifting components "
   ]
  },
  {
   "cell_type": "code",
   "execution_count": 9,
   "metadata": {},
   "outputs": [],
   "source": [
    "#Shift the zero-frequency component to the center of the spectrum.\n",
    "FT2 = scipy.fftpack.fftshift(FT2a)\n",
    "power_s = np.abs(FT2)"
   ]
  },
  {
   "cell_type": "code",
   "execution_count": 10,
   "metadata": {},
   "outputs": [
    {
     "data": {
      "image/png": "[encoded data removed]",
      "text/plain": [
       "<Figure size 720x288 with 2 Axes>"
      ]
     },
     "metadata": {
      "needs_background": "light"
     },
     "output_type": "display_data"
    }
   ],
   "source": [
    "fig, ax = plt.subplots(figsize=(10, 4))\n",
    "sns.heatmap(np.log10(power_s), cmap=\"inferno\")\n",
    "plt.gca().invert_yaxis()\n",
    "#plt.axis('equal')"
   ]
  },
  {
   "cell_type": "markdown",
   "metadata": {},
   "source": [
    "Create an array of \"rings\" parting from the center of the image. "
   ]
  },
  {
   "cell_type": "code",
   "execution_count": 11,
   "metadata": {},
   "outputs": [],
   "source": [
    "h  = power_s.shape[0]\n",
    "w  = power_s.shape[1]\n",
    "wc = w//2\n",
    "hc = h//2\n",
    "\n",
    "# create an array of integer radial distances from the center\n",
    "Y, X = np.ogrid[0:h, 0:w]\n",
    "r    = np.hypot(X - wc, Y - hc).astype(np.int)\n",
    "rdf=pd.DataFrame(r)"
   ]
  },
  {
   "cell_type": "code",
   "execution_count": 12,
   "metadata": {},
   "outputs": [
    {
     "data": {
      "text/plain": [
       "(10, 33, 16, 5)"
      ]
     },
     "execution_count": 12,
     "metadata": {},
     "output_type": "execute_result"
    }
   ],
   "source": [
    "h,w,wc,hc"
   ]
  },
  {
   "cell_type": "code",
   "execution_count": 13,
   "metadata": {},
   "outputs": [
    {
     "data": {
      "image/png": "[encoded data removed]",
      "text/plain": [
       "<Figure size 720x288 with 2 Axes>"
      ]
     },
     "metadata": {
      "needs_background": "light"
     },
     "output_type": "display_data"
    }
   ],
   "source": [
    "fig, ax = plt.subplots(figsize=(10, 4))\n",
    "sns.heatmap(rdf)\n",
    "plt.gca().invert_yaxis()\n",
    "#plt.axis('equal')"
   ]
  },
  {
   "cell_type": "markdown",
   "metadata": {},
   "source": [
    "NOTE: In these case the data is not very smooth so the idea of perfect \"rings\" vanish, but the essence of the procudere stills holds."
   ]
  },
  {
   "cell_type": "markdown",
   "metadata": {},
   "source": [
    "#Wavenumber"
   ]
  },
  {
   "cell_type": "markdown",
   "metadata": {},
   "source": [
    "Now we obtain the relation physical scale (L) - wavenumber (k=1/L)"
   ]
  },
  {
   "cell_type": "code",
   "execution_count": 14,
   "metadata": {},
   "outputs": [
    {
     "data": {
      "text/plain": [
       "array([21.456  , 20.11475, 18.7735 , 17.43225, 16.091  , 14.74975,\n",
       "       13.4085 , 12.06725, 10.726  ,  9.38475,  8.0435 ,  6.70225,\n",
       "        5.361  ,  4.01975,  2.6785 ])"
      ]
     },
     "execution_count": 14,
     "metadata": {},
     "output_type": "execute_result"
    }
   ],
   "source": [
    "k0=[0*(1) for i in range(wc-1)]\n",
    "a=1.34125#pixel value obs data\n",
    "k0[0]=(data.X.max()-data.X.min())/2\n",
    "for i in range(14):\n",
    "    k0[i+1]=k0[i]-a\n",
    "np.array(k0)    \n"
   ]
  },
  {
   "cell_type": "markdown",
   "metadata": {},
   "source": [
    "Considering the \"ring\" distribution above, the last array will show the distance from the center ring (r=1,21.45 arcsec since r = 0 is not consider) and outer ring (r=16, 2.67 arcsec)"
   ]
  },
  {
   "cell_type": "code",
   "execution_count": 15,
   "metadata": {},
   "outputs": [
    {
     "data": {
      "text/plain": [
       "array([0.04660701, 0.04971476, 0.05326657, 0.05736494, 0.06214654,\n",
       "       0.06779776, 0.07457956, 0.08286892, 0.0932314 , 0.10655585,\n",
       "       0.12432399, 0.14920363, 0.18653236, 0.24877169, 0.37334329])"
      ]
     },
     "execution_count": 15,
     "metadata": {},
     "output_type": "execute_result"
    }
   ],
   "source": [
    "k0=np.array(k0)\n",
    "k=k0**-1\n",
    "k"
   ]
  },
  {
   "cell_type": "markdown",
   "metadata": {},
   "source": [
    "We have applied the wave number definition k=1/L"
   ]
  },
  {
   "cell_type": "markdown",
   "metadata": {},
   "source": [
    "Now we proceed to the sum of all data landing at the \"same\" distance from the center. The command ndimage does all the work."
   ]
  },
  {
   "cell_type": "markdown",
   "metadata": {},
   "source": [
    "#3) Radial Average"
   ]
  },
  {
   "cell_type": "code",
   "execution_count": 16,
   "metadata": {},
   "outputs": [],
   "source": [
    "# SUM all psd2D pixels with label 'r' for 0<=r<=wc\n",
    "psd1D_sx= ndimage.sum(power_s, r, index=np.arange(0, wc+1))"
   ]
  },
  {
   "cell_type": "code",
   "execution_count": 17,
   "metadata": {},
   "outputs": [
    {
     "data": {
      "text/plain": [
       "array([4825.6521439 , 4089.13884688, 4951.6560172 , 5427.48287182,\n",
       "       2625.79168573, 2679.5785896 , 1877.77752426, 1186.73794389,\n",
       "       1542.8536051 , 1410.06073371, 1436.9772572 , 1645.90588453,\n",
       "       1093.0009225 ,  773.67779786,  951.9044606 ])"
      ]
     },
     "execution_count": 17,
     "metadata": {},
     "output_type": "execute_result"
    }
   ],
   "source": [
    "psd1D_sx[2:17]"
   ]
  },
  {
   "cell_type": "code",
   "execution_count": 18,
   "metadata": {},
   "outputs": [
    {
     "data": {
      "text/html": [
       "<div>\n",
       "<style scoped>\n",
       "    .dataframe tbody tr th:only-of-type {\n",
       "        vertical-align: middle;\n",
       "    }\n",
       "\n",
       "    .dataframe tbody tr th {\n",
       "        vertical-align: top;\n",
       "    }\n",
       "\n",
       "    .dataframe thead th {\n",
       "        text-align: right;\n",
       "    }\n",
       "</style>\n",
       "<table border=\"1\" class=\"dataframe\">\n",
       "  <thead>\n",
       "    <tr style=\"text-align: right;\">\n",
       "      <th></th>\n",
       "      <th>k</th>\n",
       "      <th>Pk</th>\n",
       "    </tr>\n",
       "  </thead>\n",
       "  <tbody>\n",
       "    <tr>\n",
       "      <td>0</td>\n",
       "      <td>0.046607</td>\n",
       "      <td>4825.652144</td>\n",
       "    </tr>\n",
       "    <tr>\n",
       "      <td>1</td>\n",
       "      <td>0.049715</td>\n",
       "      <td>4089.138847</td>\n",
       "    </tr>\n",
       "    <tr>\n",
       "      <td>2</td>\n",
       "      <td>0.053267</td>\n",
       "      <td>4951.656017</td>\n",
       "    </tr>\n",
       "    <tr>\n",
       "      <td>3</td>\n",
       "      <td>0.057365</td>\n",
       "      <td>5427.482872</td>\n",
       "    </tr>\n",
       "    <tr>\n",
       "      <td>4</td>\n",
       "      <td>0.062147</td>\n",
       "      <td>2625.791686</td>\n",
       "    </tr>\n",
       "  </tbody>\n",
       "</table>\n",
       "</div>"
      ],
      "text/plain": [
       "          k           Pk\n",
       "0  0.046607  4825.652144\n",
       "1  0.049715  4089.138847\n",
       "2  0.053267  4951.656017\n",
       "3  0.057365  5427.482872\n",
       "4  0.062147  2625.791686"
      ]
     },
     "execution_count": 18,
     "metadata": {},
     "output_type": "execute_result"
    }
   ],
   "source": [
    "psx=[k,psd1D_sx[2:17]]\n",
    "psd1D_s=pd.DataFrame(psx).T\n",
    "psd1D_s.columns =['k', 'Pk'] \n",
    "psd1D_s.head()"
   ]
  },
  {
   "cell_type": "code",
   "execution_count": 19,
   "metadata": {},
   "outputs": [
    {
     "data": {
      "text/plain": [
       "Text(0, 0.5, '$ \\\\mathrm{P(k)}$')"
      ]
     },
     "execution_count": 19,
     "metadata": {},
     "output_type": "execute_result"
    },
    {
     "data": {
      "image/png": "[encoded data removed]",
      "text/plain": [
       "<Figure size 432x288 with 1 Axes>"
      ]
     },
     "metadata": {
      "needs_background": "light"
     },
     "output_type": "display_data"
    }
   ],
   "source": [
    "plt.scatter(psd1D_s.k,psd1D_s.Pk,color='k',alpha=0.5 )\n",
    "plt.loglog(psd1D_s.k,psd1D_s.Pk,color='k',alpha=0.5 )\n",
    "sgrid = np.logspace(-1.34, -0.45)\n",
    "plt.plot(sgrid, (10**2)*sgrid**(-5/3), color=\"k\", lw=1, label=\"Kolmogorov\", linestyle='dashed')\n",
    "plt.plot(sgrid, (10**2.4)*sgrid**(-0.9), color=\"b\", lw=1, label=\"Power law fit\", linestyle='dashed')\n",
    "\n",
    "plt.grid()\n",
    "plt.xlabel('wavenumber - k, 1/arcsec')\n",
    "plt.ylabel(r'$ \\mathrm{P(k)}$')"
   ]
  },
  {
   "cell_type": "markdown",
   "metadata": {},
   "source": [
    "The PSD1 is obtained, as a surprise following these method the Kolmogorov index is a good fit! but the issues mentioned above are still an issue to resolve. "
   ]
  },
  {
   "cell_type": "markdown",
   "metadata": {},
   "source": [
    "Now we do, the average of the \"rings\" (ndiamge.mean instead of sum). \\\n",
    "NOTE: Put literature here"
   ]
  },
  {
   "cell_type": "code",
   "execution_count": 20,
   "metadata": {},
   "outputs": [
    {
     "data": {
      "text/plain": [
       "array([9.10000100e+04, 4.95941344e+02, 3.01603259e+02, 2.04456942e+02,\n",
       "       2.06319001e+02, 1.64469178e+02, 1.31289584e+02, 1.21799027e+02,\n",
       "       7.82407302e+01, 5.93368972e+01, 7.71426803e+01, 7.05030367e+01,\n",
       "       7.18488629e+01, 7.48139038e+01, 5.46500461e+01, 3.86838899e+01,\n",
       "       4.75952230e+01])"
      ]
     },
     "execution_count": 20,
     "metadata": {},
     "output_type": "execute_result"
    }
   ],
   "source": [
    "# SUM all psd2D pixels with label 'r' for 0<=r<=wc\n",
    "psd1D_mx= ndimage.mean(power_s, r, index=np.arange(0, wc+1))\n",
    "psd1D_mx"
   ]
  },
  {
   "cell_type": "code",
   "execution_count": 21,
   "metadata": {},
   "outputs": [
    {
     "data": {
      "text/plain": [
       "array([301.60325899, 204.45694234, 206.31900072, 164.46917793,\n",
       "       131.28958429, 121.7990268 ,  78.24073018,  59.33689719,\n",
       "        77.14268026,  70.50303669,  71.84886286,  74.81390384,\n",
       "        54.65004613,  38.68388989,  47.59522303])"
      ]
     },
     "execution_count": 21,
     "metadata": {},
     "output_type": "execute_result"
    }
   ],
   "source": [
    "psd1D_mx[2:17]"
   ]
  },
  {
   "cell_type": "code",
   "execution_count": 22,
   "metadata": {},
   "outputs": [
    {
     "data": {
      "text/html": [
       "<div>\n",
       "<style scoped>\n",
       "    .dataframe tbody tr th:only-of-type {\n",
       "        vertical-align: middle;\n",
       "    }\n",
       "\n",
       "    .dataframe tbody tr th {\n",
       "        vertical-align: top;\n",
       "    }\n",
       "\n",
       "    .dataframe thead th {\n",
       "        text-align: right;\n",
       "    }\n",
       "</style>\n",
       "<table border=\"1\" class=\"dataframe\">\n",
       "  <thead>\n",
       "    <tr style=\"text-align: right;\">\n",
       "      <th></th>\n",
       "      <th>k</th>\n",
       "      <th>Pk</th>\n",
       "    </tr>\n",
       "  </thead>\n",
       "  <tbody>\n",
       "    <tr>\n",
       "      <td>0</td>\n",
       "      <td>0.046607</td>\n",
       "      <td>301.603259</td>\n",
       "    </tr>\n",
       "    <tr>\n",
       "      <td>1</td>\n",
       "      <td>0.049715</td>\n",
       "      <td>204.456942</td>\n",
       "    </tr>\n",
       "    <tr>\n",
       "      <td>2</td>\n",
       "      <td>0.053267</td>\n",
       "      <td>206.319001</td>\n",
       "    </tr>\n",
       "    <tr>\n",
       "      <td>3</td>\n",
       "      <td>0.057365</td>\n",
       "      <td>164.469178</td>\n",
       "    </tr>\n",
       "    <tr>\n",
       "      <td>4</td>\n",
       "      <td>0.062147</td>\n",
       "      <td>131.289584</td>\n",
       "    </tr>\n",
       "  </tbody>\n",
       "</table>\n",
       "</div>"
      ],
      "text/plain": [
       "          k          Pk\n",
       "0  0.046607  301.603259\n",
       "1  0.049715  204.456942\n",
       "2  0.053267  206.319001\n",
       "3  0.057365  164.469178\n",
       "4  0.062147  131.289584"
      ]
     },
     "execution_count": 22,
     "metadata": {},
     "output_type": "execute_result"
    }
   ],
   "source": [
    "psx=[k,psd1D_mx[2:17]]\n",
    "psd1D_m=pd.DataFrame(psx).T\n",
    "psd1D_m.columns =['k', 'Pk'] \n",
    "psd1D_m.head()"
   ]
  },
  {
   "cell_type": "code",
   "execution_count": 23,
   "metadata": {},
   "outputs": [
    {
     "data": {
      "text/plain": [
       "Text(0, 0.5, '$ \\\\mathrm{P(k)}$')"
      ]
     },
     "execution_count": 23,
     "metadata": {},
     "output_type": "execute_result"
    },
    {
     "data": {
      "image/png": "[encoded data removed]",
      "text/plain": [
       "<Figure size 432x288 with 1 Axes>"
      ]
     },
     "metadata": {
      "needs_background": "light"
     },
     "output_type": "display_data"
    }
   ],
   "source": [
    "plt.scatter(psd1D_m.k,psd1D_m.Pk,color='k',alpha=0.5 )\n",
    "plt.loglog(psd1D_m.k,psd1D_m.Pk,color='k',alpha=0.5 )\n",
    "sgrid = np.logspace(-1.34, -0.45)\n",
    "plt.plot(sgrid, (10**0.7)*sgrid**(-5/3), color=\"k\", lw=1, label=\"Kolmogorov\", linestyle='dashed')\n",
    "plt.plot(sgrid, (10**1.2)*sgrid**(-0.9), color=\"b\", lw=1, label=\"Power law fit\", linestyle='dashed')\n",
    "\n",
    "plt.grid()\n",
    "plt.xlabel('wavenumber - k, 1/arcsec')\n",
    "plt.ylabel(r'$ \\mathrm{P(k)}$')"
   ]
  },
  {
   "cell_type": "markdown",
   "metadata": {},
   "source": [
    "Out of the Black-Box method (OBB)"
   ]
  },
  {
   "cell_type": "markdown",
   "metadata": {},
   "source": [
    "Same as above for ndimage.sum and ndimage.mean but doing all the procedure by \"hand\" to obtain the error. The same array of rings is used as above."
   ]
  },
  {
   "cell_type": "code",
   "execution_count": 24,
   "metadata": {},
   "outputs": [],
   "source": [
    "psdf=pd.DataFrame(power_s)\n",
    "data_ps=dict()"
   ]
  },
  {
   "cell_type": "code",
   "execution_count": 25,
   "metadata": {},
   "outputs": [],
   "source": [
    "for i in range(wc+1):\n",
    "    m=(rdf==i)\n",
    "    psm=(psdf[m].fillna(0)).to_numpy()\n",
    "    s=psm.sum()\n",
    "    err=psm.std()/np.sqrt(len(psm)-1)\n",
    "    data_ps[i]=[i,s,err]\n",
    "    \n",
    "psd1D_2x=pd.DataFrame(data_ps).T"
   ]
  },
  {
   "cell_type": "code",
   "execution_count": 26,
   "metadata": {},
   "outputs": [],
   "source": [
    "a=psd1D_2x[1][2:17]\n",
    "b=psd1D_2x[2][2:17]"
   ]
  },
  {
   "cell_type": "code",
   "execution_count": 27,
   "metadata": {},
   "outputs": [
    {
     "data": {
      "text/html": [
       "<div>\n",
       "<style scoped>\n",
       "    .dataframe tbody tr th:only-of-type {\n",
       "        vertical-align: middle;\n",
       "    }\n",
       "\n",
       "    .dataframe tbody tr th {\n",
       "        vertical-align: top;\n",
       "    }\n",
       "\n",
       "    .dataframe thead th {\n",
       "        text-align: right;\n",
       "    }\n",
       "</style>\n",
       "<table border=\"1\" class=\"dataframe\">\n",
       "  <thead>\n",
       "    <tr style=\"text-align: right;\">\n",
       "      <th></th>\n",
       "      <th>k</th>\n",
       "      <th>Pk</th>\n",
       "      <th>Err</th>\n",
       "    </tr>\n",
       "  </thead>\n",
       "  <tbody>\n",
       "    <tr>\n",
       "      <td>0</td>\n",
       "      <td>0.046607</td>\n",
       "      <td>4825.652144</td>\n",
       "      <td>29.492494</td>\n",
       "    </tr>\n",
       "    <tr>\n",
       "      <td>1</td>\n",
       "      <td>0.049715</td>\n",
       "      <td>4089.138847</td>\n",
       "      <td>17.519286</td>\n",
       "    </tr>\n",
       "    <tr>\n",
       "      <td>2</td>\n",
       "      <td>0.053267</td>\n",
       "      <td>4951.656017</td>\n",
       "      <td>20.128097</td>\n",
       "    </tr>\n",
       "    <tr>\n",
       "      <td>3</td>\n",
       "      <td>0.057365</td>\n",
       "      <td>5427.482872</td>\n",
       "      <td>17.391959</td>\n",
       "    </tr>\n",
       "    <tr>\n",
       "      <td>4</td>\n",
       "      <td>0.062147</td>\n",
       "      <td>2625.791686</td>\n",
       "      <td>11.464256</td>\n",
       "    </tr>\n",
       "  </tbody>\n",
       "</table>\n",
       "</div>"
      ],
      "text/plain": [
       "          k           Pk        Err\n",
       "0  0.046607  4825.652144  29.492494\n",
       "1  0.049715  4089.138847  17.519286\n",
       "2  0.053267  4951.656017  20.128097\n",
       "3  0.057365  5427.482872  17.391959\n",
       "4  0.062147  2625.791686  11.464256"
      ]
     },
     "execution_count": 27,
     "metadata": {},
     "output_type": "execute_result"
    }
   ],
   "source": [
    "psx=[k,a,b]\n",
    "psd1D_2=pd.DataFrame(psx).T\n",
    "psd1D_2.columns =['k', 'Pk','Err'] \n",
    "psd1D_2.head()"
   ]
  },
  {
   "cell_type": "markdown",
   "metadata": {},
   "source": [
    "Computing the difference between ndimage and this method for corroboration."
   ]
  },
  {
   "cell_type": "code",
   "execution_count": 28,
   "metadata": {},
   "outputs": [
    {
     "data": {
      "text/plain": [
       "0     0.0\n",
       "1     0.0\n",
       "2     0.0\n",
       "3     0.0\n",
       "4     0.0\n",
       "5     0.0\n",
       "6     0.0\n",
       "7     0.0\n",
       "8     0.0\n",
       "9     0.0\n",
       "10    0.0\n",
       "11    0.0\n",
       "12    0.0\n",
       "13    0.0\n",
       "14    0.0\n",
       "Pk    0.0\n",
       "k     0.0\n",
       "dtype: float64"
      ]
     },
     "execution_count": 28,
     "metadata": {},
     "output_type": "execute_result"
    }
   ],
   "source": [
    "Err_12=psd1D_s-psd1D_2.Pk\n",
    "Err_12.sum()"
   ]
  },
  {
   "cell_type": "code",
   "execution_count": 29,
   "metadata": {},
   "outputs": [
    {
     "data": {
      "text/plain": [
       "[Text(0, 0.5, '$ \\\\mathrm{P(k)}$'), Text(0.5, 0, 'wavenumber (k), 1/arcsec')]"
      ]
     },
     "execution_count": 29,
     "metadata": {},
     "output_type": "execute_result"
    },
    {
     "data": {
      "image/png": "[encoded data removed]",
      "text/plain": [
       "<Figure size 432x288 with 1 Axes>"
      ]
     },
     "metadata": {
      "needs_background": "light"
     },
     "output_type": "display_data"
    }
   ],
   "source": [
    "fig, ax=plt.subplots()\n",
    "sgrid = np.logspace(-1.34, -0.45)\n",
    "plt.plot(sgrid, (10**2)*sgrid**(-5/3), color=\"k\", lw=1, label=\"Kolmogorov\", linestyle='dashed')\n",
    "plt.plot(sgrid, (10**2.4)*sgrid**(-0.9), color=\"b\", lw=1, label=\"Power law fit\", linestyle='dashed')\n",
    "ax.errorbar(psd1D_2.k,psd1D_2.Pk, yerr=psd1D_2.Err, fmt=\"o-\", ecolor='k', alpha=0.5, label=\"OBB-sum\")\n",
    "ax.set(xscale='log',yscale='log')\n",
    "ax.grid()\n",
    "ax.set(xlabel='wavenumber (k), 1/arcsec', ylabel=r'$ \\mathrm{P(k)}$')"
   ]
  },
  {
   "cell_type": "markdown",
   "metadata": {},
   "source": [
    "Doing now the average..."
   ]
  },
  {
   "cell_type": "code",
   "execution_count": 30,
   "metadata": {},
   "outputs": [],
   "source": [
    "for i in range(wc+1):\n",
    "    m=(rdf==i)\n",
    "    psm=psdf[m]\n",
    "    s=(psm.mean()).mean()\n",
    "    err=(psm.std()/np.sqrt(len(psm))).mean()\n",
    "    data_ps[i]=[i,s,err]\n",
    "    \n",
    "psd1D_2mx=pd.DataFrame(data_ps).T"
   ]
  },
  {
   "cell_type": "code",
   "execution_count": 31,
   "metadata": {},
   "outputs": [],
   "source": [
    "a=psd1D_2mx[1][2:17]\n",
    "b=psd1D_2mx[2][2:17]"
   ]
  },
  {
   "cell_type": "code",
   "execution_count": 32,
   "metadata": {},
   "outputs": [
    {
     "data": {
      "text/html": [
       "<div>\n",
       "<style scoped>\n",
       "    .dataframe tbody tr th:only-of-type {\n",
       "        vertical-align: middle;\n",
       "    }\n",
       "\n",
       "    .dataframe tbody tr th {\n",
       "        vertical-align: top;\n",
       "    }\n",
       "\n",
       "    .dataframe thead th {\n",
       "        text-align: right;\n",
       "    }\n",
       "</style>\n",
       "<table border=\"1\" class=\"dataframe\">\n",
       "  <thead>\n",
       "    <tr style=\"text-align: right;\">\n",
       "      <th></th>\n",
       "      <th>k</th>\n",
       "      <th>Pk</th>\n",
       "      <th>Err</th>\n",
       "    </tr>\n",
       "  </thead>\n",
       "  <tbody>\n",
       "    <tr>\n",
       "      <td>0</td>\n",
       "      <td>0.046607</td>\n",
       "      <td>261.151336</td>\n",
       "      <td>49.365277</td>\n",
       "    </tr>\n",
       "    <tr>\n",
       "      <td>1</td>\n",
       "      <td>0.049715</td>\n",
       "      <td>201.318305</td>\n",
       "      <td>13.245184</td>\n",
       "    </tr>\n",
       "    <tr>\n",
       "      <td>2</td>\n",
       "      <td>0.053267</td>\n",
       "      <td>188.795583</td>\n",
       "      <td>13.079725</td>\n",
       "    </tr>\n",
       "    <tr>\n",
       "      <td>3</td>\n",
       "      <td>0.057365</td>\n",
       "      <td>180.701296</td>\n",
       "      <td>14.410073</td>\n",
       "    </tr>\n",
       "    <tr>\n",
       "      <td>4</td>\n",
       "      <td>0.062147</td>\n",
       "      <td>128.136769</td>\n",
       "      <td>13.931507</td>\n",
       "    </tr>\n",
       "  </tbody>\n",
       "</table>\n",
       "</div>"
      ],
      "text/plain": [
       "          k          Pk        Err\n",
       "0  0.046607  261.151336  49.365277\n",
       "1  0.049715  201.318305  13.245184\n",
       "2  0.053267  188.795583  13.079725\n",
       "3  0.057365  180.701296  14.410073\n",
       "4  0.062147  128.136769  13.931507"
      ]
     },
     "execution_count": 32,
     "metadata": {},
     "output_type": "execute_result"
    }
   ],
   "source": [
    "psx=[k,a,b]\n",
    "psd1D_2m=pd.DataFrame(psx).T\n",
    "psd1D_2m.columns =['k', 'Pk','Err'] \n",
    "psd1D_2m.head()"
   ]
  },
  {
   "cell_type": "code",
   "execution_count": 33,
   "metadata": {},
   "outputs": [
    {
     "data": {
      "text/plain": [
       "[Text(0, 0.5, '$ \\\\mathrm{P(k)}$'), Text(0.5, 0, 'wavenumber (k), 1/arcsec')]"
      ]
     },
     "execution_count": 33,
     "metadata": {},
     "output_type": "execute_result"
    },
    {
     "data": {
      "image/png": "[encoded data removed]",
      "text/plain": [
       "<Figure size 432x288 with 1 Axes>"
      ]
     },
     "metadata": {
      "needs_background": "light"
     },
     "output_type": "display_data"
    }
   ],
   "source": [
    "fig, ax=plt.subplots()\n",
    "sgrid = np.logspace(-1.34, -0.45)\n",
    "plt.plot(sgrid, (10**0.7)*sgrid**(-5/3), color=\"k\", lw=1, label=\"Kolmogorov\", linestyle='dashed')\n",
    "plt.plot(sgrid, (10**1.2)*sgrid**(-0.9), color=\"b\", lw=1, label=\"Power law fit\", linestyle='dashed')\n",
    "\n",
    "ax.errorbar(psd1D_2m.k,psd1D_2m.Pk, yerr=psd1D_2m.Err, fmt=\"o-\", ecolor='k', alpha=0.5)\n",
    "ax.set(xscale='log',yscale='log')\n",
    "ax.grid()\n",
    "ax.set(xlabel='wavenumber (k), 1/arcsec', ylabel=r'$ \\mathrm{P(k)}$')"
   ]
  },
  {
   "cell_type": "markdown",
   "metadata": {},
   "source": [
    "Implemeneting radialProfile and radial_data for the PSD in 1D, taken from: https://www.astrobetter.com/wiki/tiki-index.php?page=python_image_fft"
   ]
  },
  {
   "cell_type": "code",
   "execution_count": 34,
   "metadata": {},
   "outputs": [],
   "source": [
    " psd1D_x1= radialProfile.azimuthalAverage(power_s)\n",
    " a=psd1D_x1   "
   ]
  },
  {
   "cell_type": "code",
   "execution_count": 35,
   "metadata": {},
   "outputs": [
    {
     "data": {
      "text/html": [
       "<div>\n",
       "<style scoped>\n",
       "    .dataframe tbody tr th:only-of-type {\n",
       "        vertical-align: middle;\n",
       "    }\n",
       "\n",
       "    .dataframe tbody tr th {\n",
       "        vertical-align: top;\n",
       "    }\n",
       "\n",
       "    .dataframe thead th {\n",
       "        text-align: right;\n",
       "    }\n",
       "</style>\n",
       "<table border=\"1\" class=\"dataframe\">\n",
       "  <thead>\n",
       "    <tr style=\"text-align: right;\">\n",
       "      <th></th>\n",
       "      <th>k</th>\n",
       "      <th>Pk</th>\n",
       "    </tr>\n",
       "  </thead>\n",
       "  <tbody>\n",
       "    <tr>\n",
       "      <td>0</td>\n",
       "      <td>0.046607</td>\n",
       "      <td>174.428979</td>\n",
       "    </tr>\n",
       "    <tr>\n",
       "      <td>1</td>\n",
       "      <td>0.049715</td>\n",
       "      <td>157.611030</td>\n",
       "    </tr>\n",
       "    <tr>\n",
       "      <td>2</td>\n",
       "      <td>0.053267</td>\n",
       "      <td>194.544133</td>\n",
       "    </tr>\n",
       "    <tr>\n",
       "      <td>3</td>\n",
       "      <td>0.057365</td>\n",
       "      <td>5089.907160</td>\n",
       "    </tr>\n",
       "    <tr>\n",
       "      <td>4</td>\n",
       "      <td>0.062147</td>\n",
       "      <td>171.189944</td>\n",
       "    </tr>\n",
       "  </tbody>\n",
       "</table>\n",
       "</div>"
      ],
      "text/plain": [
       "          k           Pk\n",
       "0  0.046607   174.428979\n",
       "1  0.049715   157.611030\n",
       "2  0.053267   194.544133\n",
       "3  0.057365  5089.907160\n",
       "4  0.062147   171.189944"
      ]
     },
     "execution_count": 35,
     "metadata": {},
     "output_type": "execute_result"
    }
   ],
   "source": [
    "psx=[k,a]\n",
    "psd1D_x1=pd.DataFrame(psx).T\n",
    "psd1D_x1.columns =['k', 'Pk'] \n",
    "psd1D_x1.head()"
   ]
  },
  {
   "cell_type": "code",
   "execution_count": 36,
   "metadata": {},
   "outputs": [
    {
     "data": {
      "text/plain": [
       "[Text(0, 0.5, '$ \\\\mathrm{P(k)}$'), Text(0.5, 0, 'wavenumber (k), 1/arcsec')]"
      ]
     },
     "execution_count": 36,
     "metadata": {},
     "output_type": "execute_result"
    },
    {
     "data": {
      "image/png": "[encoded data removed]",
      "text/plain": [
       "<Figure size 432x288 with 1 Axes>"
      ]
     },
     "metadata": {
      "needs_background": "light"
     },
     "output_type": "display_data"
    }
   ],
   "source": [
    "fig, ax=plt.subplots()\n",
    "sgrid = np.logspace(-1.34, -0.45)\n",
    "plt.plot(sgrid, (10**0.7)*sgrid**(-5/3), color=\"k\", lw=1, label=\"Kolmogorov\", linestyle='dashed')\n",
    "plt.plot(sgrid, (10**1.2)*sgrid**(-0.9), color=\"b\", lw=1, label=\"Power law fit\", linestyle='dashed')\n",
    "\n",
    "ax.errorbar(psd1D_x1.k,psd1D_x1.Pk, fmt=\"o-\", ecolor='k', alpha=0.5)\n",
    "ax.set(xscale='log',yscale='log')\n",
    "ax.grid()\n",
    "ax.set(xlabel='wavenumber (k), 1/arcsec', ylabel=r'$ \\mathrm{P(k)}$')"
   ]
  },
  {
   "cell_type": "markdown",
   "metadata": {},
   "source": [
    "In the case of radial_data, for some reason the library import doesn't work, so the code is used here."
   ]
  },
  {
   "cell_type": "code",
   "execution_count": 37,
   "metadata": {},
   "outputs": [],
   "source": [
    "def radial_data(data,annulus_width=1,working_mask=None,x=None,y=None,rmax=None):\n",
    "    \"\"\"\n",
    "    r = radial_data(data,annulus_width,working_mask,x,y)\n",
    "    \n",
    "    A function to reduce an image to a radial cross-section.\n",
    "    \n",
    "    INPUT:\n",
    "    ------\n",
    "    data   - whatever data you are radially averaging.  Data is\n",
    "            binned into a series of annuli of width 'annulus_width'\n",
    "            pixels.\n",
    "    annulus_width - width of each annulus.  Default is 1.\n",
    "    working_mask - array of same size as 'data', with zeros at\n",
    "                      whichever 'data' points you don't want included\n",
    "                      in the radial data computations.\n",
    "      x,y - coordinate system in which the data exists (used to set\n",
    "             the center of the data).  By default, these are set to\n",
    "             integer meshgrids\n",
    "      rmax -- maximum radial value over which to compute statistics\n",
    "    \n",
    "     OUTPUT:\n",
    "     -------\n",
    "      r - a data structure containing the following\n",
    "                   statistics, computed across each annulus:\n",
    "          .r      - the radial coordinate used (outer edge of annulus)\n",
    "          .mean   - mean of the data in the annulus\n",
    "          .std    - standard deviation of the data in the annulus\n",
    "          .median - median value in the annulus\n",
    "          .max    - maximum value in the annulus\n",
    "          .min    - minimum value in the annulus\n",
    "          .numel  - number of elements in the annulus\n",
    "    \"\"\"\n",
    "    \n",
    "# 2010-03-10 19:22 IJC: Ported to python from Matlab\n",
    "# 2005/12/19 Added 'working_region' option (IJC)\n",
    "# 2005/12/15 Switched order of outputs (IJC)\n",
    "# 2005/12/12 IJC: Removed decifact, changed name, wrote comments.\n",
    "# 2005/11/04 by Ian Crossfield at the Jet Propulsion Laboratory\n",
    " \n",
    "    import numpy as ny\n",
    "\n",
    "    class radialDat:\n",
    "        \"\"\"Empty object container.\n",
    "        \"\"\"\n",
    "        def __init__(self): \n",
    "            self.mean = None\n",
    "            self.std = None\n",
    "            self.median = None\n",
    "            self.numel = None\n",
    "            self.max = None\n",
    "            self.min = None\n",
    "            self.r = None\n",
    "\n",
    "    #---------------------\n",
    "    # Set up input parameters\n",
    "    #---------------------\n",
    "    data = ny.array(data)\n",
    "    \n",
    "    if working_mask==None:\n",
    "        working_mask = ny.ones(data.shape,bool)\n",
    "    \n",
    "    npix, npiy = data.shape\n",
    "    if x==None or y==None:\n",
    "        x1 = ny.arange(-npix/2.,npix/2.)\n",
    "        y1 = ny.arange(-npiy/2.,npiy/2.)\n",
    "        x,y = ny.meshgrid(y1,x1)\n",
    "\n",
    "    r = abs(x+1j*y)\n",
    "\n",
    "    if rmax==None:\n",
    "        rmax = r[working_mask].max()\n",
    "\n",
    "    #---------------------\n",
    "    # Prepare the data container\n",
    "    #---------------------\n",
    "    dr = ny.abs([x[0,0] - x[0,1]]) * annulus_width\n",
    "    radial = ny.arange(rmax/dr)*dr + dr/2.\n",
    "    nrad = len(radial)\n",
    "    radialdata = radialDat()\n",
    "    radialdata.mean = ny.zeros(nrad)\n",
    "    radialdata.std = ny.zeros(nrad)\n",
    "    radialdata.median = ny.zeros(nrad)\n",
    "    radialdata.numel = ny.zeros(nrad)\n",
    "    radialdata.max = ny.zeros(nrad)\n",
    "    radialdata.min = ny.zeros(nrad)\n",
    "    radialdata.r = radial\n",
    "    \n",
    "    #---------------------\n",
    "    # Loop through the bins\n",
    "    #---------------------\n",
    "    for irad in range(nrad): #= 1:numel(radial)\n",
    "      minrad = irad*dr\n",
    "      maxrad = minrad + dr\n",
    "      thisindex = (r>=minrad) * (r<maxrad) * working_mask\n",
    "      if not thisindex.ravel().any():\n",
    "        radialdata.mean[irad] = ny.nan\n",
    "        radialdata.std[irad]  = ny.nan\n",
    "        radialdata.median[irad] = ny.nan\n",
    "        radialdata.numel[irad] = ny.nan\n",
    "        radialdata.max[irad] = ny.nan\n",
    "        radialdata.min[irad] = ny.nan\n",
    "      else:\n",
    "        radialdata.mean[irad] = data[thisindex].mean()\n",
    "        radialdata.std[irad]  = data[thisindex].std()\n",
    "        radialdata.median[irad] = ny.median(data[thisindex])\n",
    "        radialdata.numel[irad] = data[thisindex].size\n",
    "        radialdata.max[irad] = data[thisindex].max()\n",
    "        radialdata.min[irad] = data[thisindex].min()\n",
    "    \n",
    "    #---------------------\n",
    "    # Return with data\n",
    "    #---------------------\n",
    "    \n",
    "    return radialdata"
   ]
  },
  {
   "cell_type": "code",
   "execution_count": 38,
   "metadata": {},
   "outputs": [],
   "source": [
    "psd1D_x2=radial_data(power_s)"
   ]
  },
  {
   "cell_type": "code",
   "execution_count": 39,
   "metadata": {},
   "outputs": [
    {
     "data": {
      "text/plain": [
       "array([4.59006802e+04, 4.59354263e+02, 2.59280129e+02, 2.17063223e+02,\n",
       "       1.84613682e+02, 1.67625249e+02, 1.33716167e+02, 1.09238837e+02,\n",
       "       7.56935276e+01, 6.12302430e+01, 7.27626605e+01, 7.41323111e+01,\n",
       "       7.33681832e+01, 6.89584085e+01, 5.31666786e+01, 4.25082332e+01,\n",
       "       4.31594414e+01, 1.15298579e+01])"
      ]
     },
     "execution_count": 39,
     "metadata": {},
     "output_type": "execute_result"
    }
   ],
   "source": [
    "psd1D_x2.mean"
   ]
  },
  {
   "cell_type": "code",
   "execution_count": 40,
   "metadata": {},
   "outputs": [],
   "source": [
    "a=psd1D_x2.mean[3:18]"
   ]
  },
  {
   "cell_type": "code",
   "execution_count": 41,
   "metadata": {},
   "outputs": [
    {
     "data": {
      "text/html": [
       "<div>\n",
       "<style scoped>\n",
       "    .dataframe tbody tr th:only-of-type {\n",
       "        vertical-align: middle;\n",
       "    }\n",
       "\n",
       "    .dataframe tbody tr th {\n",
       "        vertical-align: top;\n",
       "    }\n",
       "\n",
       "    .dataframe thead th {\n",
       "        text-align: right;\n",
       "    }\n",
       "</style>\n",
       "<table border=\"1\" class=\"dataframe\">\n",
       "  <thead>\n",
       "    <tr style=\"text-align: right;\">\n",
       "      <th></th>\n",
       "      <th>k</th>\n",
       "      <th>Pk</th>\n",
       "    </tr>\n",
       "  </thead>\n",
       "  <tbody>\n",
       "    <tr>\n",
       "      <td>0</td>\n",
       "      <td>0.046607</td>\n",
       "      <td>217.063223</td>\n",
       "    </tr>\n",
       "    <tr>\n",
       "      <td>1</td>\n",
       "      <td>0.049715</td>\n",
       "      <td>184.613682</td>\n",
       "    </tr>\n",
       "    <tr>\n",
       "      <td>2</td>\n",
       "      <td>0.053267</td>\n",
       "      <td>167.625249</td>\n",
       "    </tr>\n",
       "    <tr>\n",
       "      <td>3</td>\n",
       "      <td>0.057365</td>\n",
       "      <td>133.716167</td>\n",
       "    </tr>\n",
       "    <tr>\n",
       "      <td>4</td>\n",
       "      <td>0.062147</td>\n",
       "      <td>109.238837</td>\n",
       "    </tr>\n",
       "  </tbody>\n",
       "</table>\n",
       "</div>"
      ],
      "text/plain": [
       "          k          Pk\n",
       "0  0.046607  217.063223\n",
       "1  0.049715  184.613682\n",
       "2  0.053267  167.625249\n",
       "3  0.057365  133.716167\n",
       "4  0.062147  109.238837"
      ]
     },
     "execution_count": 41,
     "metadata": {},
     "output_type": "execute_result"
    }
   ],
   "source": [
    "psx=[k,a]\n",
    "psd1D_x2=pd.DataFrame(psx).T\n",
    "psd1D_x2.columns =['k', 'Pk'] \n",
    "psd1D_x2.head()"
   ]
  },
  {
   "cell_type": "code",
   "execution_count": 42,
   "metadata": {},
   "outputs": [
    {
     "data": {
      "text/plain": [
       "[Text(0, 0.5, '$ \\\\mathrm{P(k)}$'), Text(0.5, 0, 'wavenumber (k), 1/arcsec')]"
      ]
     },
     "execution_count": 42,
     "metadata": {},
     "output_type": "execute_result"
    },
    {
     "data": {
      "image/png": "[encoded data removed]",
      "text/plain": [
       "<Figure size 432x288 with 1 Axes>"
      ]
     },
     "metadata": {
      "needs_background": "light"
     },
     "output_type": "display_data"
    }
   ],
   "source": [
    "fig, ax=plt.subplots()\n",
    "sgrid = np.logspace(-1.34, -0.45)\n",
    "plt.plot(sgrid, (10**0.3)*sgrid**(-5/3), color=\"k\", lw=1, label=\"Kolmogorov\", linestyle='dashed')\n",
    "plt.plot(sgrid, (10**1.0)*sgrid**(-0.9), color=\"b\", lw=1, label=\"Power law fit\", linestyle='dashed')\n",
    "\n",
    "ax.errorbar(psd1D_x2.k,psd1D_x2.Pk, fmt=\"o-\", ecolor='k', alpha=0.5)\n",
    "ax.set(xscale='log',yscale='log')\n",
    "ax.grid()\n",
    "ax.set(xlabel='wavenumber (k), 1/arcsec', ylabel=r'$ \\mathrm{P(k)}$')"
   ]
  },
  {
   "cell_type": "markdown",
   "metadata": {},
   "source": [
    "The values below were obtaied with the the Turbustat code, using the radial velocty map. \\\n",
    "from turbustat.statistics import PowerSpectrum"
   ]
  },
  {
   "cell_type": "code",
   "execution_count": 43,
   "metadata": {},
   "outputs": [],
   "source": [
    "TS=[148536.11369865,  82717.41336635,  45850.75929248,  15111.00265915,\n",
    "        38361.31818442,  71282.00632571,  32228.69163749,  27635.93777926,\n",
    "        10588.51842271,  28300.66687279,  18535.35958634,   3976.58132317,\n",
    "         5891.33242062,  18845.06306528,  13757.14931646,   5622.48329691,\n",
    "         3167.61986153,   4839.82875265]"
   ]
  },
  {
   "cell_type": "code",
   "execution_count": 44,
   "metadata": {},
   "outputs": [],
   "source": [
    "a=TS[3:18]"
   ]
  },
  {
   "cell_type": "code",
   "execution_count": 45,
   "metadata": {},
   "outputs": [
    {
     "data": {
      "text/html": [
       "<div>\n",
       "<style scoped>\n",
       "    .dataframe tbody tr th:only-of-type {\n",
       "        vertical-align: middle;\n",
       "    }\n",
       "\n",
       "    .dataframe tbody tr th {\n",
       "        vertical-align: top;\n",
       "    }\n",
       "\n",
       "    .dataframe thead th {\n",
       "        text-align: right;\n",
       "    }\n",
       "</style>\n",
       "<table border=\"1\" class=\"dataframe\">\n",
       "  <thead>\n",
       "    <tr style=\"text-align: right;\">\n",
       "      <th></th>\n",
       "      <th>k</th>\n",
       "      <th>Pk</th>\n",
       "    </tr>\n",
       "  </thead>\n",
       "  <tbody>\n",
       "    <tr>\n",
       "      <td>0</td>\n",
       "      <td>0.046607</td>\n",
       "      <td>15111.002659</td>\n",
       "    </tr>\n",
       "    <tr>\n",
       "      <td>1</td>\n",
       "      <td>0.049715</td>\n",
       "      <td>38361.318184</td>\n",
       "    </tr>\n",
       "    <tr>\n",
       "      <td>2</td>\n",
       "      <td>0.053267</td>\n",
       "      <td>71282.006326</td>\n",
       "    </tr>\n",
       "    <tr>\n",
       "      <td>3</td>\n",
       "      <td>0.057365</td>\n",
       "      <td>32228.691637</td>\n",
       "    </tr>\n",
       "    <tr>\n",
       "      <td>4</td>\n",
       "      <td>0.062147</td>\n",
       "      <td>27635.937779</td>\n",
       "    </tr>\n",
       "  </tbody>\n",
       "</table>\n",
       "</div>"
      ],
      "text/plain": [
       "          k            Pk\n",
       "0  0.046607  15111.002659\n",
       "1  0.049715  38361.318184\n",
       "2  0.053267  71282.006326\n",
       "3  0.057365  32228.691637\n",
       "4  0.062147  27635.937779"
      ]
     },
     "execution_count": 45,
     "metadata": {},
     "output_type": "execute_result"
    }
   ],
   "source": [
    "psx=[k,a]\n",
    "psd1D_ts=pd.DataFrame(psx).T\n",
    "psd1D_ts.columns =['k', 'Pk'] \n",
    "psd1D_ts.head()"
   ]
  },
  {
   "cell_type": "code",
   "execution_count": 46,
   "metadata": {},
   "outputs": [
    {
     "data": {
      "text/plain": [
       "[Text(0, 0.5, '$ \\\\mathrm{P(k)}$'), Text(0.5, 0, 'wavenumber (k), 1/arcsec')]"
      ]
     },
     "execution_count": 46,
     "metadata": {},
     "output_type": "execute_result"
    },
    {
     "data": {
      "image/png": "[encoded data removed]",
      "text/plain": [
       "<Figure size 432x288 with 1 Axes>"
      ]
     },
     "metadata": {
      "needs_background": "light"
     },
     "output_type": "display_data"
    }
   ],
   "source": [
    "fig, ax=plt.subplots()\n",
    "sgrid = np.logspace(-1.34, -0.45)\n",
    "plt.plot(sgrid, (10**2.6)*sgrid**(-5/3), color=\"k\", lw=1, label=\"Kolmogorov\", linestyle='dashed')\n",
    "plt.plot(sgrid, (10**3.2)*sgrid**(-0.9), color=\"r\", lw=1, label=\"Power law fit\", linestyle='dashed')\n",
    "\n",
    "ax.errorbar(psd1D_ts.k,psd1D_ts.Pk, fmt=\"o-\", ecolor='k', alpha=0.5)\n",
    "ax.set(xscale='log',yscale='log')\n",
    "ax.grid()\n",
    "ax.set(xlabel='wavenumber (k), 1/arcsec', ylabel=r'$ \\mathrm{P(k)}$')"
   ]
  },
  {
   "cell_type": "markdown",
   "metadata": {},
   "source": [
    "A comparison between methods would give more insight of the behaviour between them."
   ]
  },
  {
   "cell_type": "code",
   "execution_count": 47,
   "metadata": {
    "scrolled": false
   },
   "outputs": [
    {
     "data": {
      "text/plain": [
       "<matplotlib.legend.Legend at 0x7f9c5496a810>"
      ]
     },
     "execution_count": 47,
     "metadata": {},
     "output_type": "execute_result"
    },
    {
     "data": {
      "image/png": "[encoded data removed]",
      "text/plain": [
       "<Figure size 360x504 with 1 Axes>"
      ]
     },
     "metadata": {
      "needs_background": "light"
     },
     "output_type": "display_data"
    }
   ],
   "source": [
    "fig, ax = plt.subplots(figsize=(5, 7))\n",
    "ax.errorbar(psd1D_ts.k,psd1D_ts.Pk, fmt=\"o-\", color=\"black\", alpha=0.5, label=\"Turbustat\")\n",
    "ax.errorbar(psd1D_2.k,psd1D_2.Pk, yerr=psd1D_2.Err, fmt=\"o:\", ecolor='k', alpha=0.5, label=\"OBB-sum\")\n",
    "ax.errorbar(psd1D_2m.k,psd1D_2m.Pk, fmt=\"o:\", color='b', alpha=0.9, label=\"OBB-mean\")\n",
    "ax.errorbar(psd1D_s.k,psd1D_s.Pk, fmt=\"-.\", color='k', alpha=0.5, label=\"ndimage.sum\")\n",
    "ax.errorbar(psd1D_m.k,psd1D_m.Pk, fmt=\"-.\", color='b', alpha=0.9, label=\"ndimage.mean\")\n",
    "ax.errorbar(psd1D_x1.k,psd1D_x1.Pk, color=\"orange\", alpha=0.9, label=\"radialProfile\")\n",
    "ax.errorbar(psd1D_x2.k,psd1D_x2.Pk, color=\"green\", alpha=0.9, label=\"radial_data\")\n",
    "\n",
    "sgrid= np.logspace(-1.34, -0.45)\n",
    "plt.plot(sgrid, (10**2.5)*sgrid**(-5/3), color=\"red\", label=\"K -5/3 law Fit\")\n",
    "plt.plot(sgrid, (10**2.7)*sgrid**(-0.5), color=\"red\",linestyle='--', label=\"-1/2 Fit\")\n",
    "plt.plot(sgrid, (10**1.4)*sgrid**(-5/3), color=\"red\" )\n",
    "plt.plot(sgrid, (10**-.55)*sgrid**(-2.2), color=\"blue\",label=\"-1.9 Fit\" )\n",
    "plt.plot(sgrid, (10**1.4)*sgrid**(-0.5), color=\"red\",linestyle='--')\n",
    "\n",
    "ax.axvline(x=0.085, color='k', linestyle='-', label=\"11 arc sec\")\n",
    "\n",
    "ax.set(xscale='log',yscale='log')\n",
    "ax.grid()\n",
    "ax.set(xlabel='wavenumber (k), 1/arcsec', ylabel=r'$ \\mathrm{P(k)}$')\n",
    "plt.legend(bbox_to_anchor=(1.05, 1), loc=2, borderaxespad=0.)\n"
   ]
  },
  {
   "cell_type": "markdown",
   "metadata": {},
   "source": [
    "We can see that the OBB (dotted line) and ndimage (dashed point line) practically gave the same results for sum (black) and mean (blue), not a surprise. The radialProfile (solid orange) and radial_data (solid green) also correspond to a similar behaviour as the mean procedure (probably because they do essentially the same thing), except for a weird peak in the radialProfile. The turbustat package shows the gratest difference of all, but also a similar behaviour. Also the turbustat option gives a different range of values. The Kolmogorov fit do not apply precisley but it is shown as a first approach to study the problem and compare. Also we can see different power law fits can be made following different criteria. "
   ]
  },
  {
   "cell_type": "markdown",
   "metadata": {},
   "source": [
    "As conclusion for the comparison, we see that we have many methods to do the same thing with a good degree of coincidence, except for the values of P(k). One idea to resolve this issue is to relate (if possible) the energy in th velocity to a p(k) value."
   ]
  }
 ],
 "metadata": {
  "kernelspec": {
   "display_name": "Python 3",
   "language": "python",
   "name": "python3"
  },
  "language_info": {
   "codemirror_mode": {
    "name": "ipython",
    "version": 3
   },
   "file_extension": ".py",
   "mimetype": "text/x-python",
   "name": "python",
   "nbconvert_exporter": "python",
   "pygments_lexer": "ipython3",
   "version": "3.7.4"
  }
 },
 "nbformat": 4,
 "nbformat_minor": 2
}
