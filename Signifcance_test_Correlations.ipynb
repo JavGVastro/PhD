{
 "cells": [
  {
   "cell_type": "markdown",
   "metadata": {
    "id": "K7jaxBz1-k7o"
   },
   "source": [
    "This is Will's edit of a notebook originally written by Javier.\n",
    "\n",
    "# Correlations between H II region parameters\n",
    "\n",
    "We look at correlations between 6 principal measurements that fall into two groups: \n",
    "\n",
    "* Basic parameters: \n",
    "    * Size: $L$\n",
    "    * Ionizing luminosity: $Q(\\mathrm{H})$\n",
    "    * Distance: $D$\n",
    "* Velocity structure function parameters:\n",
    "    * Velocity dispersion on plane of sky: $\\sigma$\n",
    "    * Velocity autocorrelation length scale: $\\ell_0$\n",
    "    * Structure function slope in inertial range: $m$\n",
    "\n",
    "Colab's markdown renderer seems to have a bug that requires some math outside of a list in order to trigger latex parsing: $\\alpha$. "
   ]
  },
  {
   "cell_type": "markdown",
   "metadata": {
    "id": "aZa8qfxAAshr"
   },
   "source": [
    "## Original table from Javier"
   ]
  },
  {
   "cell_type": "code",
   "execution_count": 1,
   "metadata": {
    "id": "y_1iISme7_9P"
   },
   "outputs": [],
   "source": [
    "import time\n",
    "start_time=time.time()\n",
    "import numpy as np\n",
    "import seaborn as sns\n",
    "import pandas as pd\n",
    "import matplotlib.pyplot as plt\n",
    "import os\n",
    "import lmfit\n",
    "\n",
    "#import sys"
   ]
  },
  {
   "cell_type": "code",
   "execution_count": 2,
   "metadata": {},
   "outputs": [],
   "source": [
    "Region=[\"NGC 604\",\"NGC 595\",\"Hubble X\",\"Hubble V\",\"30Dor\",\"Carina\",\"NGC 346\",\"M8\"   ,\"Orion\"]\n",
    "LHa=[    4.46e39 ,2.29e39  ,3.98e38   ,7.41e38  ,5.74e39 ,3.98e39 ,4.67e38  ,2.95e37,1e37   ]\n",
    "SFR=[    5.3e-3  ,2.6e-3   ,3.1e-4    ,1.5e-4   ,1.3e-2  ,1.0e-2  ,0.0021   ,1.0e-4 ,5.3e-5 ]\n",
    "n=[      3       ,  4      ,       5  ,   8     ,250     ,500     ,100      ,60     ,150    ] \n",
    "Diam=[   400     ,    400  ,      160 ,   130   ,   98.9 ,   15   , 64      ,   25  ,   5   ]\n",
    "R=[   200     ,    200  ,      80 ,   65   ,   49.4 ,   7.5   , 32      ,   12.5  ,   2.5   ]\n",
    "Dist=[   840     ,840      ,   500    ,   500   ,    50  , 2.35   , 61.7    ,1.25   ,0.4    ]\n",
    "m=[       1.7    ,  1.55   ,  1.4    ,   1.5    ,   1.22 ,  1     ,   1.05  ,  1.15 ,0.75]\n",
    "r0=[      9.09   ,  8.82   ,  2.78   ,   3.55   ,  2.7   ,  0.55  ,  1.5    , 1.5   ,0.65]\n",
    "sig=[     7.39   ,  6.64   ,  2.8    ,   3.59   ,  15.8  ,  4.22  ,  5.6    ,   2.7, 3.23]\n",
    "siglos=[ 7.69    ,  5.74   ,  0      ,   0      ,  0     ,   2.7  , 0      ,   0     ,  6]"
   ]
  },
  {
   "cell_type": "markdown",
   "metadata": {
    "id": "rs6r9a_-Fqtm"
   },
   "source": [
    "Cambié la manera de especificar el dataframe porque tu método dejó las columnas con `dtype` de `object` en lugar de `float`, por ejemplo.  Entonces, no fue posible operar sobre las columnas después. "
   ]
  },
  {
   "cell_type": "code",
   "execution_count": 3,
   "metadata": {
    "id": "gqiJOHtcDqBL"
   },
   "outputs": [],
   "source": [
    "data = pd.DataFrame(\n",
    "    {\n",
    "       \"Region\": Region,\n",
    "       \"LHa\": LHa,\n",
    "       \"SFR\": SFR,\n",
    "       \"n\": n,\n",
    "       \"L [pc]\": Diam,\n",
    "       \"R [pc]\": R,\n",
    "       \"Dist [kpc]\": Dist,\n",
    "       \"m\": m,\n",
    "       \"r0 [pc]\": r0,\n",
    "       \"sig [km/s]\": sig,\n",
    "       \"siglos [km/s]\": siglos,\n",
    "    },\n",
    ")"
   ]
  },
  {
   "cell_type": "markdown",
   "metadata": {
    "id": "gcZdCZEeGOjq"
   },
   "source": [
    "Checar que los tipos de las columnas sean adecuadas:"
   ]
  },
  {
   "cell_type": "code",
   "execution_count": 4,
   "metadata": {
    "colab": {
     "base_uri": "https://localhost:8080/"
    },
    "id": "qHpUNclsFR7r",
    "outputId": "6c5d205c-8b4f-46f7-b1be-4d683e51a18f"
   },
   "outputs": [
    {
     "data": {
      "text/plain": [
       "Region            object\n",
       "LHa              float64\n",
       "SFR              float64\n",
       "n                  int64\n",
       "L [pc]           float64\n",
       "R [pc]           float64\n",
       "Dist [kpc]       float64\n",
       "m                float64\n",
       "r0 [pc]          float64\n",
       "sig [km/s]       float64\n",
       "siglos [km/s]    float64\n",
       "dtype: object"
      ]
     },
     "execution_count": 4,
     "metadata": {},
     "output_type": "execute_result"
    }
   ],
   "source": [
    "data.dtypes"
   ]
  },
  {
   "cell_type": "code",
   "execution_count": 5,
   "metadata": {
    "colab": {
     "base_uri": "https://localhost:8080/",
     "height": 394
    },
    "id": "K7q-Sf257_9S",
    "outputId": "ebb1d04d-40e4-46f1-8239-bfac59542a8a"
   },
   "outputs": [
    {
     "data": {
      "text/html": [
       "<div>\n",
       "<style scoped>\n",
       "    .dataframe tbody tr th:only-of-type {\n",
       "        vertical-align: middle;\n",
       "    }\n",
       "\n",
       "    .dataframe tbody tr th {\n",
       "        vertical-align: top;\n",
       "    }\n",
       "\n",
       "    .dataframe thead th {\n",
       "        text-align: right;\n",
       "    }\n",
       "</style>\n",
       "<table border=\"1\" class=\"dataframe\">\n",
       "  <thead>\n",
       "    <tr style=\"text-align: right;\">\n",
       "      <th></th>\n",
       "      <th>Region</th>\n",
       "      <th>LHa</th>\n",
       "      <th>SFR</th>\n",
       "      <th>n</th>\n",
       "      <th>L [pc]</th>\n",
       "      <th>R [pc]</th>\n",
       "      <th>Dist [kpc]</th>\n",
       "      <th>m</th>\n",
       "      <th>r0 [pc]</th>\n",
       "      <th>sig [km/s]</th>\n",
       "      <th>siglos [km/s]</th>\n",
       "    </tr>\n",
       "  </thead>\n",
       "  <tbody>\n",
       "    <tr>\n",
       "      <th>0</th>\n",
       "      <td>NGC 604</td>\n",
       "      <td>4.460000e+39</td>\n",
       "      <td>0.005300</td>\n",
       "      <td>3</td>\n",
       "      <td>400.0</td>\n",
       "      <td>200.0</td>\n",
       "      <td>840.00</td>\n",
       "      <td>1.70</td>\n",
       "      <td>9.09</td>\n",
       "      <td>7.39</td>\n",
       "      <td>7.69</td>\n",
       "    </tr>\n",
       "    <tr>\n",
       "      <th>1</th>\n",
       "      <td>NGC 595</td>\n",
       "      <td>2.290000e+39</td>\n",
       "      <td>0.002600</td>\n",
       "      <td>4</td>\n",
       "      <td>400.0</td>\n",
       "      <td>200.0</td>\n",
       "      <td>840.00</td>\n",
       "      <td>1.55</td>\n",
       "      <td>8.82</td>\n",
       "      <td>6.64</td>\n",
       "      <td>5.74</td>\n",
       "    </tr>\n",
       "    <tr>\n",
       "      <th>2</th>\n",
       "      <td>Hubble X</td>\n",
       "      <td>3.980000e+38</td>\n",
       "      <td>0.000310</td>\n",
       "      <td>5</td>\n",
       "      <td>160.0</td>\n",
       "      <td>80.0</td>\n",
       "      <td>500.00</td>\n",
       "      <td>1.40</td>\n",
       "      <td>2.78</td>\n",
       "      <td>2.80</td>\n",
       "      <td>0.00</td>\n",
       "    </tr>\n",
       "    <tr>\n",
       "      <th>3</th>\n",
       "      <td>Hubble V</td>\n",
       "      <td>7.410000e+38</td>\n",
       "      <td>0.000150</td>\n",
       "      <td>8</td>\n",
       "      <td>130.0</td>\n",
       "      <td>65.0</td>\n",
       "      <td>500.00</td>\n",
       "      <td>1.50</td>\n",
       "      <td>3.55</td>\n",
       "      <td>3.59</td>\n",
       "      <td>0.00</td>\n",
       "    </tr>\n",
       "    <tr>\n",
       "      <th>4</th>\n",
       "      <td>30Dor</td>\n",
       "      <td>5.740000e+39</td>\n",
       "      <td>0.013000</td>\n",
       "      <td>250</td>\n",
       "      <td>98.9</td>\n",
       "      <td>49.4</td>\n",
       "      <td>50.00</td>\n",
       "      <td>1.22</td>\n",
       "      <td>2.70</td>\n",
       "      <td>15.80</td>\n",
       "      <td>0.00</td>\n",
       "    </tr>\n",
       "    <tr>\n",
       "      <th>5</th>\n",
       "      <td>Carina</td>\n",
       "      <td>3.980000e+39</td>\n",
       "      <td>0.010000</td>\n",
       "      <td>500</td>\n",
       "      <td>15.0</td>\n",
       "      <td>7.5</td>\n",
       "      <td>2.35</td>\n",
       "      <td>1.00</td>\n",
       "      <td>0.55</td>\n",
       "      <td>4.22</td>\n",
       "      <td>2.70</td>\n",
       "    </tr>\n",
       "    <tr>\n",
       "      <th>6</th>\n",
       "      <td>NGC 346</td>\n",
       "      <td>4.670000e+38</td>\n",
       "      <td>0.002100</td>\n",
       "      <td>100</td>\n",
       "      <td>64.0</td>\n",
       "      <td>32.0</td>\n",
       "      <td>61.70</td>\n",
       "      <td>1.05</td>\n",
       "      <td>1.50</td>\n",
       "      <td>5.60</td>\n",
       "      <td>0.00</td>\n",
       "    </tr>\n",
       "    <tr>\n",
       "      <th>7</th>\n",
       "      <td>M8</td>\n",
       "      <td>2.950000e+37</td>\n",
       "      <td>0.000100</td>\n",
       "      <td>60</td>\n",
       "      <td>25.0</td>\n",
       "      <td>12.5</td>\n",
       "      <td>1.25</td>\n",
       "      <td>1.15</td>\n",
       "      <td>1.50</td>\n",
       "      <td>2.70</td>\n",
       "      <td>0.00</td>\n",
       "    </tr>\n",
       "    <tr>\n",
       "      <th>8</th>\n",
       "      <td>Orion</td>\n",
       "      <td>1.000000e+37</td>\n",
       "      <td>0.000053</td>\n",
       "      <td>150</td>\n",
       "      <td>5.0</td>\n",
       "      <td>2.5</td>\n",
       "      <td>0.40</td>\n",
       "      <td>0.75</td>\n",
       "      <td>0.65</td>\n",
       "      <td>3.23</td>\n",
       "      <td>6.00</td>\n",
       "    </tr>\n",
       "  </tbody>\n",
       "</table>\n",
       "</div>"
      ],
      "text/plain": [
       "     Region           LHa       SFR    n  L [pc]  R [pc]  Dist [kpc]     m  \\\n",
       "0   NGC 604  4.460000e+39  0.005300    3   400.0   200.0      840.00  1.70   \n",
       "1   NGC 595  2.290000e+39  0.002600    4   400.0   200.0      840.00  1.55   \n",
       "2  Hubble X  3.980000e+38  0.000310    5   160.0    80.0      500.00  1.40   \n",
       "3  Hubble V  7.410000e+38  0.000150    8   130.0    65.0      500.00  1.50   \n",
       "4     30Dor  5.740000e+39  0.013000  250    98.9    49.4       50.00  1.22   \n",
       "5    Carina  3.980000e+39  0.010000  500    15.0     7.5        2.35  1.00   \n",
       "6   NGC 346  4.670000e+38  0.002100  100    64.0    32.0       61.70  1.05   \n",
       "7        M8  2.950000e+37  0.000100   60    25.0    12.5        1.25  1.15   \n",
       "8     Orion  1.000000e+37  0.000053  150     5.0     2.5        0.40  0.75   \n",
       "\n",
       "   r0 [pc]  sig [km/s]  siglos [km/s]  \n",
       "0     9.09        7.39           7.69  \n",
       "1     8.82        6.64           5.74  \n",
       "2     2.78        2.80           0.00  \n",
       "3     3.55        3.59           0.00  \n",
       "4     2.70       15.80           0.00  \n",
       "5     0.55        4.22           2.70  \n",
       "6     1.50        5.60           0.00  \n",
       "7     1.50        2.70           0.00  \n",
       "8     0.65        3.23           6.00  "
      ]
     },
     "execution_count": 5,
     "metadata": {},
     "output_type": "execute_result"
    }
   ],
   "source": [
    "data"
   ]
  },
  {
   "cell_type": "markdown",
   "metadata": {
    "id": "0jU-WFLzI7BN"
   },
   "source": [
    "## Change to log scale for most parameters\n",
    "\n",
    "El analisis de la mayoría de las columnas sería mejor en escala logarítmica porque varían por varios ordenes de magnitud.  Entonces, hacemos una nueva versión de la tabla así. Dejamos la $m$ en escala lineal porque no varía mucho."
   ]
  },
  {
   "cell_type": "code",
   "execution_count": 6,
   "metadata": {
    "colab": {
     "base_uri": "https://localhost:8080/",
     "height": 430
    },
    "id": "ikpoilaIeOCK",
    "outputId": "a174005b-3d15-4cbe-a86e-2794486756ac"
   },
   "outputs": [
    {
     "name": "stderr",
     "output_type": "stream",
     "text": [
      "C:\\Users\\ZAINTEL2\\anaconda3\\lib\\site-packages\\pandas\\core\\series.py:679: RuntimeWarning: divide by zero encountered in log10\n",
      "  result = getattr(ufunc, method)(*inputs, **kwargs)\n"
     ]
    },
    {
     "data": {
      "text/html": [
       "<div>\n",
       "<style scoped>\n",
       "    .dataframe tbody tr th:only-of-type {\n",
       "        vertical-align: middle;\n",
       "    }\n",
       "\n",
       "    .dataframe tbody tr th {\n",
       "        vertical-align: top;\n",
       "    }\n",
       "\n",
       "    .dataframe thead th {\n",
       "        text-align: right;\n",
       "    }\n",
       "</style>\n",
       "<table border=\"1\" class=\"dataframe\">\n",
       "  <thead>\n",
       "    <tr style=\"text-align: right;\">\n",
       "      <th></th>\n",
       "      <th>Region</th>\n",
       "      <th>log L(H) [erg s^-1]</th>\n",
       "      <th>log SFR</th>\n",
       "      <th>log n</th>\n",
       "      <th>log L [pc]</th>\n",
       "      <th>log R [pc]</th>\n",
       "      <th>log Dist [kpc]</th>\n",
       "      <th>m</th>\n",
       "      <th>log r0 [pc]</th>\n",
       "      <th>log sig [km/s]</th>\n",
       "      <th>log siglos [km/s]</th>\n",
       "    </tr>\n",
       "  </thead>\n",
       "  <tbody>\n",
       "    <tr>\n",
       "      <th>0</th>\n",
       "      <td>NGC 604</td>\n",
       "      <td>39.65</td>\n",
       "      <td>-2.28</td>\n",
       "      <td>0.48</td>\n",
       "      <td>2.60</td>\n",
       "      <td>2.30</td>\n",
       "      <td>2.92</td>\n",
       "      <td>1.70</td>\n",
       "      <td>0.96</td>\n",
       "      <td>0.87</td>\n",
       "      <td>0.89</td>\n",
       "    </tr>\n",
       "    <tr>\n",
       "      <th>1</th>\n",
       "      <td>NGC 595</td>\n",
       "      <td>39.36</td>\n",
       "      <td>-2.59</td>\n",
       "      <td>0.60</td>\n",
       "      <td>2.60</td>\n",
       "      <td>2.30</td>\n",
       "      <td>2.92</td>\n",
       "      <td>1.55</td>\n",
       "      <td>0.95</td>\n",
       "      <td>0.82</td>\n",
       "      <td>0.76</td>\n",
       "    </tr>\n",
       "    <tr>\n",
       "      <th>2</th>\n",
       "      <td>Hubble X</td>\n",
       "      <td>38.60</td>\n",
       "      <td>-3.51</td>\n",
       "      <td>0.70</td>\n",
       "      <td>2.20</td>\n",
       "      <td>1.90</td>\n",
       "      <td>2.70</td>\n",
       "      <td>1.40</td>\n",
       "      <td>0.44</td>\n",
       "      <td>0.45</td>\n",
       "      <td>-inf</td>\n",
       "    </tr>\n",
       "    <tr>\n",
       "      <th>3</th>\n",
       "      <td>Hubble V</td>\n",
       "      <td>38.87</td>\n",
       "      <td>-3.82</td>\n",
       "      <td>0.90</td>\n",
       "      <td>2.11</td>\n",
       "      <td>1.81</td>\n",
       "      <td>2.70</td>\n",
       "      <td>1.50</td>\n",
       "      <td>0.55</td>\n",
       "      <td>0.56</td>\n",
       "      <td>-inf</td>\n",
       "    </tr>\n",
       "    <tr>\n",
       "      <th>4</th>\n",
       "      <td>30Dor</td>\n",
       "      <td>39.76</td>\n",
       "      <td>-1.89</td>\n",
       "      <td>2.40</td>\n",
       "      <td>2.00</td>\n",
       "      <td>1.69</td>\n",
       "      <td>1.70</td>\n",
       "      <td>1.22</td>\n",
       "      <td>0.43</td>\n",
       "      <td>1.20</td>\n",
       "      <td>-inf</td>\n",
       "    </tr>\n",
       "    <tr>\n",
       "      <th>5</th>\n",
       "      <td>Carina</td>\n",
       "      <td>39.60</td>\n",
       "      <td>-2.00</td>\n",
       "      <td>2.70</td>\n",
       "      <td>1.18</td>\n",
       "      <td>0.88</td>\n",
       "      <td>0.37</td>\n",
       "      <td>1.00</td>\n",
       "      <td>-0.26</td>\n",
       "      <td>0.63</td>\n",
       "      <td>0.43</td>\n",
       "    </tr>\n",
       "    <tr>\n",
       "      <th>6</th>\n",
       "      <td>NGC 346</td>\n",
       "      <td>38.67</td>\n",
       "      <td>-2.68</td>\n",
       "      <td>2.00</td>\n",
       "      <td>1.81</td>\n",
       "      <td>1.51</td>\n",
       "      <td>1.79</td>\n",
       "      <td>1.05</td>\n",
       "      <td>0.18</td>\n",
       "      <td>0.75</td>\n",
       "      <td>-inf</td>\n",
       "    </tr>\n",
       "    <tr>\n",
       "      <th>7</th>\n",
       "      <td>M8</td>\n",
       "      <td>37.47</td>\n",
       "      <td>-4.00</td>\n",
       "      <td>1.78</td>\n",
       "      <td>1.40</td>\n",
       "      <td>1.10</td>\n",
       "      <td>0.10</td>\n",
       "      <td>1.15</td>\n",
       "      <td>0.18</td>\n",
       "      <td>0.43</td>\n",
       "      <td>-inf</td>\n",
       "    </tr>\n",
       "    <tr>\n",
       "      <th>8</th>\n",
       "      <td>Orion</td>\n",
       "      <td>37.00</td>\n",
       "      <td>-4.28</td>\n",
       "      <td>2.18</td>\n",
       "      <td>0.70</td>\n",
       "      <td>0.40</td>\n",
       "      <td>-0.40</td>\n",
       "      <td>0.75</td>\n",
       "      <td>-0.19</td>\n",
       "      <td>0.51</td>\n",
       "      <td>0.78</td>\n",
       "    </tr>\n",
       "  </tbody>\n",
       "</table>\n",
       "</div>"
      ],
      "text/plain": [
       "     Region  log L(H) [erg s^-1]  log SFR  log n  log L [pc]  log R [pc]  \\\n",
       "0   NGC 604                39.65    -2.28   0.48        2.60        2.30   \n",
       "1   NGC 595                39.36    -2.59   0.60        2.60        2.30   \n",
       "2  Hubble X                38.60    -3.51   0.70        2.20        1.90   \n",
       "3  Hubble V                38.87    -3.82   0.90        2.11        1.81   \n",
       "4     30Dor                39.76    -1.89   2.40        2.00        1.69   \n",
       "5    Carina                39.60    -2.00   2.70        1.18        0.88   \n",
       "6   NGC 346                38.67    -2.68   2.00        1.81        1.51   \n",
       "7        M8                37.47    -4.00   1.78        1.40        1.10   \n",
       "8     Orion                37.00    -4.28   2.18        0.70        0.40   \n",
       "\n",
       "   log Dist [kpc]     m  log r0 [pc]  log sig [km/s]  log siglos [km/s]  \n",
       "0            2.92  1.70         0.96            0.87               0.89  \n",
       "1            2.92  1.55         0.95            0.82               0.76  \n",
       "2            2.70  1.40         0.44            0.45               -inf  \n",
       "3            2.70  1.50         0.55            0.56               -inf  \n",
       "4            1.70  1.22         0.43            1.20               -inf  \n",
       "5            0.37  1.00        -0.26            0.63               0.43  \n",
       "6            1.79  1.05         0.18            0.75               -inf  \n",
       "7            0.10  1.15         0.18            0.43               -inf  \n",
       "8           -0.40  0.75        -0.19            0.51               0.78  "
      ]
     },
     "execution_count": 6,
     "metadata": {},
     "output_type": "execute_result"
    }
   ],
   "source": [
    "cols = data.columns\n",
    "logdata = data.copy()\n",
    "for col in cols:\n",
    "    if col not in [\"Region\", \"m\"]:\n",
    "        logdata[col] = np.round(np.log10(logdata[col]), 2)\n",
    "        logdata.rename(columns={col: f\"log {col}\"}, inplace=True)\n",
    "# Some minor changes to column names\n",
    "logdata.rename(\n",
    "    columns={\n",
    "        \"log LHa\": \"log L(H) [erg s^-1]\",\n",
    "        }, \n",
    "    inplace=True)\n",
    "logdata"
   ]
  },
  {
   "cell_type": "markdown",
   "metadata": {
    "id": "RsZZVwFdjtCZ"
   },
   "source": [
    "Make the label text bigger on the figures"
   ]
  },
  {
   "cell_type": "code",
   "execution_count": 7,
   "metadata": {
    "id": "xglVwYE0VFBr"
   },
   "outputs": [],
   "source": [
    "sns.set_context(\"talk\")"
   ]
  },
  {
   "cell_type": "markdown",
   "metadata": {
    "id": "GBbSKFIgj61F"
   },
   "source": [
    "Repeat the pair plot of correlations between columns with the log-scale quantities. Use color to indicate the distance to the regions."
   ]
  },
  {
   "cell_type": "code",
   "execution_count": 8,
   "metadata": {
    "colab": {
     "base_uri": "https://localhost:8080/",
     "height": 895
    },
    "id": "3bNPqA-OeWoV",
    "outputId": "9701fc58-faab-4ff4-bb86-54717aed1f1d"
   },
   "outputs": [
    {
     "data": {
      "image/png": "[encoded data removed]",
      "text/plain": [
       "<Figure size 1029.04x900 with 30 Axes>"
      ]
     },
     "metadata": {
      "needs_background": "light"
     },
     "output_type": "display_data"
    }
   ],
   "source": [
    "selected_vars = [ \"log L [pc]\",\"log L(H) [erg s^-1]\", \"log Dist [kpc]\", \"m\", \"log r0 [pc]\", \"log sig [km/s]\"]\n",
    "plotdata = logdata[selected_vars].rename(\n",
    "    columns={\n",
    "        # Switch column names to use latex formatting to improve axis labels\n",
    "        \"log L [pc]\": r\"$\\log_{10}\\ L$ [pc]\", \n",
    "        \"log L(H) [erg s^-1]\": r\"$\\log_{10}\\ L(\\mathrm{H})$ [erg s$^{-1}$]\", \n",
    "        \"m\": \"$m$\", \n",
    "        \"log r0 [pc]\": r\"$\\log_{10}\\ r_0$ [pc]\", \n",
    "        \"log sig [km/s]\": r\"$\\log_{10}\\ \\sigma$ [km/s]\", \n",
    "        \"log Dist [kpc]\": r\"$\\log_{10}\\ D$ [kpc]\",\n",
    "    },\n",
    ")\n",
    "\n",
    "sns.pairplot(plotdata, \n",
    "             hue=r\"$\\log_{10}\\ D$ [kpc]\",\n",
    "             plot_kws=dict(alpha=0.75, s=200, edgecolor=\"k\"), \n",
    "             diag_kind='hist',\n",
    "             diag_kws= dict(multiple='stack'),\n",
    "             );\n",
    "\n",
    "figname = \"strucfunc-correlations\"\n",
    "# Save PDF and JPG versions of the figure\n",
    "#plt.gcf().savefig(f\"{figname}.pdf\")\n",
    "#plt.gcf().savefig(f\"{figname}.jpg\")"
   ]
  },
  {
   "cell_type": "markdown",
   "metadata": {
    "id": "gnKxFarT-GMc"
   },
   "source": [
    "## Correlation coefficients\n",
    "\n",
    "Calculate [Pearson correlation coefficient](https://en.wikipedia.org/wiki/Pearson_correlation_coefficient), $r$, between each pair of variables:"
   ]
  },
  {
   "cell_type": "code",
   "execution_count": 9,
   "metadata": {
    "colab": {
     "base_uri": "https://localhost:8080/",
     "height": 258
    },
    "id": "2-J9Q8ynDJVg",
    "outputId": "8a59f000-d9fb-4a22-bbcb-29259cc2f200"
   },
   "outputs": [
    {
     "data": {
      "text/html": [
       "<div>\n",
       "<style scoped>\n",
       "    .dataframe tbody tr th:only-of-type {\n",
       "        vertical-align: middle;\n",
       "    }\n",
       "\n",
       "    .dataframe tbody tr th {\n",
       "        vertical-align: top;\n",
       "    }\n",
       "\n",
       "    .dataframe thead th {\n",
       "        text-align: right;\n",
       "    }\n",
       "</style>\n",
       "<table border=\"1\" class=\"dataframe\">\n",
       "  <thead>\n",
       "    <tr style=\"text-align: right;\">\n",
       "      <th></th>\n",
       "      <th>log L [pc]</th>\n",
       "      <th>log L(H) [erg s^-1]</th>\n",
       "      <th>log Dist [kpc]</th>\n",
       "      <th>m</th>\n",
       "      <th>log r0 [pc]</th>\n",
       "      <th>log sig [km/s]</th>\n",
       "    </tr>\n",
       "  </thead>\n",
       "  <tbody>\n",
       "    <tr>\n",
       "      <th>log L [pc]</th>\n",
       "      <td>1.000000</td>\n",
       "      <td>0.652217</td>\n",
       "      <td>0.958998</td>\n",
       "      <td>0.939525</td>\n",
       "      <td>0.947183</td>\n",
       "      <td>0.433600</td>\n",
       "    </tr>\n",
       "    <tr>\n",
       "      <th>log L(H) [erg s^-1]</th>\n",
       "      <td>0.652217</td>\n",
       "      <td>1.000000</td>\n",
       "      <td>0.625719</td>\n",
       "      <td>0.575138</td>\n",
       "      <td>0.488953</td>\n",
       "      <td>0.705470</td>\n",
       "    </tr>\n",
       "    <tr>\n",
       "      <th>log Dist [kpc]</th>\n",
       "      <td>0.958998</td>\n",
       "      <td>0.625719</td>\n",
       "      <td>1.000000</td>\n",
       "      <td>0.892933</td>\n",
       "      <td>0.874496</td>\n",
       "      <td>0.342384</td>\n",
       "    </tr>\n",
       "    <tr>\n",
       "      <th>m</th>\n",
       "      <td>0.939525</td>\n",
       "      <td>0.575138</td>\n",
       "      <td>0.892933</td>\n",
       "      <td>1.000000</td>\n",
       "      <td>0.935680</td>\n",
       "      <td>0.257261</td>\n",
       "    </tr>\n",
       "    <tr>\n",
       "      <th>log r0 [pc]</th>\n",
       "      <td>0.947183</td>\n",
       "      <td>0.488953</td>\n",
       "      <td>0.874496</td>\n",
       "      <td>0.935680</td>\n",
       "      <td>1.000000</td>\n",
       "      <td>0.405309</td>\n",
       "    </tr>\n",
       "    <tr>\n",
       "      <th>log sig [km/s]</th>\n",
       "      <td>0.433600</td>\n",
       "      <td>0.705470</td>\n",
       "      <td>0.342384</td>\n",
       "      <td>0.257261</td>\n",
       "      <td>0.405309</td>\n",
       "      <td>1.000000</td>\n",
       "    </tr>\n",
       "  </tbody>\n",
       "</table>\n",
       "</div>"
      ],
      "text/plain": [
       "                     log L [pc]  log L(H) [erg s^-1]  log Dist [kpc]  \\\n",
       "log L [pc]             1.000000             0.652217        0.958998   \n",
       "log L(H) [erg s^-1]    0.652217             1.000000        0.625719   \n",
       "log Dist [kpc]         0.958998             0.625719        1.000000   \n",
       "m                      0.939525             0.575138        0.892933   \n",
       "log r0 [pc]            0.947183             0.488953        0.874496   \n",
       "log sig [km/s]         0.433600             0.705470        0.342384   \n",
       "\n",
       "                            m  log r0 [pc]  log sig [km/s]  \n",
       "log L [pc]           0.939525     0.947183        0.433600  \n",
       "log L(H) [erg s^-1]  0.575138     0.488953        0.705470  \n",
       "log Dist [kpc]       0.892933     0.874496        0.342384  \n",
       "m                    1.000000     0.935680        0.257261  \n",
       "log r0 [pc]          0.935680     1.000000        0.405309  \n",
       "log sig [km/s]       0.257261     0.405309        1.000000  "
      ]
     },
     "execution_count": 9,
     "metadata": {},
     "output_type": "execute_result"
    }
   ],
   "source": [
    "logdata[selected_vars].corr()"
   ]
  },
  {
   "cell_type": "markdown",
   "metadata": {
    "id": "zfEKMEmaBm3C"
   },
   "source": [
    "So the results for correlations between the basic parameters are what we would expect:\n",
    "\n",
    "- Size is moderately correlated with luminosity ($r = 0.65$).  The correlation is only weak because size will also depend on ambient density and the age of the region. \n",
    "- Size is highly correlated with distance ($r = 0.95$).  This is just a selection effect due to the fact that we tend to choose regions that have an angular size that matches our instruments. \n",
    "- Luminosity–distance correlation is the weakest ($r = 0.65$), and can be explained as being due to the previous two.\n",
    "\n"
   ]
  },
  {
   "cell_type": "markdown",
   "metadata": {
    "id": "ibTtRHF9Ev-D"
   },
   "source": [
    "The correlations of the structure function parameters with the basic parameters are very interesting:\n",
    "- Autocorrelation length scale, $r_0$, is *highly* correlated ($r = 0.947$) with region size, $L$.  Looking at the graph, the relation seems to be approximately linear with $\\ell_0 \\approx 0.1 L$.  How much of this correlation is real and how much is down to selection effects is something we need to consider carefully.\n",
    "- Velocity dispersion, $\\sigma$, is well correlated ($r = 0.70$) with luminosity, $L(\\mathrm{Ha})$.  \n",
    "- The structure function slope $m$ is very well correlated ($r = 0.89$) with distance.  This is mainly because $m \\approx 1.6$ for all the distant regions observed with TAURUS and ISIS, but is around $m = 1$ for all the nearby regions.  I suspect that this is mainly a data quality issue: we observe very little of the inertial range in the distant regions, so the determination of $m$ is probably not so reliable.  But I am not sure why this would tend to bias $m$ towards high values.  "
   ]
  },
  {
   "cell_type": "markdown",
   "metadata": {
    "id": "3HVCWiNtLIMB"
   },
   "source": [
    "## Significance tests\n",
    "\n",
    "We can calculate the statistical significance of the correlations by using the Student t-statistic.  We test the null hypothesis that a given pair of variables is truly uncorrelated ($r = 0$) for the underlying population and that the observed $r$ for our sample of $N = 9$ sources arises solely by chance.  We want to calculate the $p$-value, which is the probability of obtaining $r$ greater than or equal to the observed value, given that there is no true correlation.  A small value of $p$ means that the null hypothesis can be rejected at a certain confidence level.  "
   ]
  },
  {
   "cell_type": "markdown",
   "metadata": {
    "id": "7msUNnoEWFCt"
   },
   "source": [
    "First we calculate the t-statistic from the Pearson correlation coefficient:\n",
    "$$\n",
    "t = r \\, \\left(\\frac{N - 2}{1 - r^2}\\right)^{1/2}\n",
    "$$\n",
    "Then, we use the cumulative distribution function (CDF) of the t-distribution with $N - 1$ degrees of freedom to find the p-value. "
   ]
  },
  {
   "cell_type": "code",
   "execution_count": 10,
   "metadata": {
    "id": "XpmIkg1GYh_V"
   },
   "outputs": [],
   "source": [
    "def tstatistic(r, n):\n",
    "    \"\"\"Compute Student t statistic for null hypothesis of no correlation\n",
    "    for an observed Pearson correlation of `r` from `n` samples\n",
    "    \"\"\"\n",
    "    return r*np.sqrt((n - 2) / (1 - r**2))"
   ]
  },
  {
   "cell_type": "code",
   "execution_count": 11,
   "metadata": {
    "id": "8jnDPwdlaAUz"
   },
   "outputs": [],
   "source": [
    "import scipy.stats"
   ]
  },
  {
   "cell_type": "code",
   "execution_count": 12,
   "metadata": {
    "id": "FH9_8fHjbPAF"
   },
   "outputs": [],
   "source": [
    "def p_from_t(t, n):\n",
    "    \"\"\"Compute 1-sided p-value from Student statistic `t` with `n` observations\"\"\"\n",
    "    # sf is survival function: 1 - CDF\n",
    "    return scipy.stats.t.sf(t, n-1)\n",
    "    "
   ]
  },
  {
   "cell_type": "code",
   "execution_count": 13,
   "metadata": {
    "colab": {
     "base_uri": "https://localhost:8080/",
     "height": 446
    },
    "id": "ru4y0bC_cAk8",
    "outputId": "429694eb-fbfe-4356-9fc7-c8823bf3d33d"
   },
   "outputs": [
    {
     "data": {
      "text/html": [
       "<div>\n",
       "<style scoped>\n",
       "    .dataframe tbody tr th:only-of-type {\n",
       "        vertical-align: middle;\n",
       "    }\n",
       "\n",
       "    .dataframe tbody tr th {\n",
       "        vertical-align: top;\n",
       "    }\n",
       "\n",
       "    .dataframe thead th {\n",
       "        text-align: right;\n",
       "    }\n",
       "</style>\n",
       "<table border=\"1\" class=\"dataframe\">\n",
       "  <thead>\n",
       "    <tr style=\"text-align: right;\">\n",
       "      <th></th>\n",
       "      <th>r</th>\n",
       "      <th>t</th>\n",
       "      <th>p</th>\n",
       "    </tr>\n",
       "  </thead>\n",
       "  <tbody>\n",
       "    <tr>\n",
       "      <th>0</th>\n",
       "      <td>0.000</td>\n",
       "      <td>0.000000</td>\n",
       "      <td>0.500000</td>\n",
       "    </tr>\n",
       "    <tr>\n",
       "      <th>1</th>\n",
       "      <td>0.200</td>\n",
       "      <td>0.500000</td>\n",
       "      <td>0.316204</td>\n",
       "    </tr>\n",
       "    <tr>\n",
       "      <th>2</th>\n",
       "      <td>0.400</td>\n",
       "      <td>1.069045</td>\n",
       "      <td>0.160261</td>\n",
       "    </tr>\n",
       "    <tr>\n",
       "      <th>3</th>\n",
       "      <td>0.500</td>\n",
       "      <td>1.414214</td>\n",
       "      <td>0.100100</td>\n",
       "    </tr>\n",
       "    <tr>\n",
       "      <th>4</th>\n",
       "      <td>0.600</td>\n",
       "      <td>1.837117</td>\n",
       "      <td>0.054402</td>\n",
       "    </tr>\n",
       "    <tr>\n",
       "      <th>5</th>\n",
       "      <td>0.700</td>\n",
       "      <td>2.400980</td>\n",
       "      <td>0.023699</td>\n",
       "    </tr>\n",
       "    <tr>\n",
       "      <th>6</th>\n",
       "      <td>0.779</td>\n",
       "      <td>3.043189</td>\n",
       "      <td>0.009381</td>\n",
       "    </tr>\n",
       "    <tr>\n",
       "      <th>7</th>\n",
       "      <td>0.800</td>\n",
       "      <td>3.265986</td>\n",
       "      <td>0.006875</td>\n",
       "    </tr>\n",
       "    <tr>\n",
       "      <th>8</th>\n",
       "      <td>0.900</td>\n",
       "      <td>5.057563</td>\n",
       "      <td>0.000734</td>\n",
       "    </tr>\n",
       "    <tr>\n",
       "      <th>9</th>\n",
       "      <td>0.908</td>\n",
       "      <td>5.308580</td>\n",
       "      <td>0.000556</td>\n",
       "    </tr>\n",
       "    <tr>\n",
       "      <th>10</th>\n",
       "      <td>0.950</td>\n",
       "      <td>7.452413</td>\n",
       "      <td>0.000071</td>\n",
       "    </tr>\n",
       "    <tr>\n",
       "      <th>11</th>\n",
       "      <td>0.981</td>\n",
       "      <td>12.385844</td>\n",
       "      <td>0.000003</td>\n",
       "    </tr>\n",
       "  </tbody>\n",
       "</table>\n",
       "</div>"
      ],
      "text/plain": [
       "        r          t         p\n",
       "0   0.000   0.000000  0.500000\n",
       "1   0.200   0.500000  0.316204\n",
       "2   0.400   1.069045  0.160261\n",
       "3   0.500   1.414214  0.100100\n",
       "4   0.600   1.837117  0.054402\n",
       "5   0.700   2.400980  0.023699\n",
       "6   0.779   3.043189  0.009381\n",
       "7   0.800   3.265986  0.006875\n",
       "8   0.900   5.057563  0.000734\n",
       "9   0.908   5.308580  0.000556\n",
       "10  0.950   7.452413  0.000071\n",
       "11  0.981  12.385844  0.000003"
      ]
     },
     "execution_count": 13,
     "metadata": {},
     "output_type": "execute_result"
    }
   ],
   "source": [
    "N = 8\n",
    "rvals = np.array([0.0, 0.2, 0.4, 0.5, 0.6, 0.7, 0.779, 0.8, 0.9, 0.908, 0.95, 0.981])\n",
    "tvals = tstatistic(rvals, N)\n",
    "pvals = p_from_t(tvals, N)\n",
    "pd.DataFrame(\n",
    "    {\"r\": rvals, \"t\": tvals, \"p\": pvals}\n",
    ")"
   ]
  },
  {
   "cell_type": "code",
   "execution_count": 14,
   "metadata": {
    "colab": {
     "base_uri": "https://localhost:8080/",
     "height": 332
    },
    "id": "LOdQN93OdF-w",
    "outputId": "b8f2ecc1-f0b2-491f-ac34-b537f25b8735"
   },
   "outputs": [
    {
     "data": {
      "image/png": "[encoded data removed]",
      "text/plain": [
       "<Figure size 432x288 with 1 Axes>"
      ]
     },
     "metadata": {
      "needs_background": "light"
     },
     "output_type": "display_data"
    }
   ],
   "source": [
    "fig, ax = plt.subplots()\n",
    "for N in 3, 5, 8:\n",
    "    rvals = np.linspace(0.0, 1.0, 100, endpoint=False)\n",
    "    tvals = tstatistic(rvals, N)\n",
    "    pvals = p_from_t(tvals, N)\n",
    "    ax.plot(rvals, pvals, label=f\"N = {N}\")\n",
    "for p0 in 0.05, 0.01, 0.001:\n",
    "    ax.axhline(p0, color=\"k\", ls=\"--\", lw=0.5)\n",
    "    ax.text(1.07, p0, f\"{100*(1-p0):.1f}%\", \n",
    "            va=\"center\", ha=\"center\", fontsize=\"xx-small\", \n",
    "            bbox={\"color\": \"w\"})\n",
    "ax.legend(title=\"# of samples\")\n",
    "ax.set(\n",
    "    xlabel=\"Sample Pearson correlation, $r$\",\n",
    "    ylabel=\"$p$-value\",\n",
    "    yscale=\"log\",\n",
    "    xlim=[-0.05, 1.15],\n",
    "    ylim=[1.1e-5, 1.1],\n",
    ");"
   ]
  },
  {
   "cell_type": "markdown",
   "metadata": {
    "id": "Pv_EECxBvyeg"
   },
   "source": [
    "I have marked confidence levels for nominal $p$-values of 0.05, 0.01, and 0.001, which are often used to judge significance.   This implies that all the correlations that we listed above are highly significant.  For instance, the correlation of $\\sigma$ with luminosity, with $r=0.77$, has $p = 0.011$, so close to the 99% confidence level. \n",
    "\n",
    "Despite the good correlation, there is a factor of 4 difference in $\\sigma$ between Carina and 30~Dor, despite similar luminosities.  **Need to check these luminostiy values**. "
   ]
  },
  {
   "cell_type": "code",
   "execution_count": 15,
   "metadata": {},
   "outputs": [
    {
     "data": {
      "text/html": [
       "<div>\n",
       "<style scoped>\n",
       "    .dataframe tbody tr th:only-of-type {\n",
       "        vertical-align: middle;\n",
       "    }\n",
       "\n",
       "    .dataframe tbody tr th {\n",
       "        vertical-align: top;\n",
       "    }\n",
       "\n",
       "    .dataframe thead th {\n",
       "        text-align: right;\n",
       "    }\n",
       "</style>\n",
       "<table border=\"1\" class=\"dataframe\">\n",
       "  <thead>\n",
       "    <tr style=\"text-align: right;\">\n",
       "      <th></th>\n",
       "      <th>Region</th>\n",
       "      <th>log L(H) [erg s^-1]</th>\n",
       "      <th>log SFR</th>\n",
       "      <th>log n</th>\n",
       "      <th>log L [pc]</th>\n",
       "      <th>log R [pc]</th>\n",
       "      <th>log Dist [kpc]</th>\n",
       "      <th>m</th>\n",
       "      <th>log r0 [pc]</th>\n",
       "      <th>log sig [km/s]</th>\n",
       "      <th>log siglos [km/s]</th>\n",
       "    </tr>\n",
       "  </thead>\n",
       "  <tbody>\n",
       "    <tr>\n",
       "      <th>0</th>\n",
       "      <td>NGC 604</td>\n",
       "      <td>39.65</td>\n",
       "      <td>-2.28</td>\n",
       "      <td>0.48</td>\n",
       "      <td>2.60</td>\n",
       "      <td>2.30</td>\n",
       "      <td>2.92</td>\n",
       "      <td>1.70</td>\n",
       "      <td>0.96</td>\n",
       "      <td>0.87</td>\n",
       "      <td>0.89</td>\n",
       "    </tr>\n",
       "    <tr>\n",
       "      <th>1</th>\n",
       "      <td>NGC 595</td>\n",
       "      <td>39.36</td>\n",
       "      <td>-2.59</td>\n",
       "      <td>0.60</td>\n",
       "      <td>2.60</td>\n",
       "      <td>2.30</td>\n",
       "      <td>2.92</td>\n",
       "      <td>1.55</td>\n",
       "      <td>0.95</td>\n",
       "      <td>0.82</td>\n",
       "      <td>0.76</td>\n",
       "    </tr>\n",
       "    <tr>\n",
       "      <th>2</th>\n",
       "      <td>Hubble X</td>\n",
       "      <td>38.60</td>\n",
       "      <td>-3.51</td>\n",
       "      <td>0.70</td>\n",
       "      <td>2.20</td>\n",
       "      <td>1.90</td>\n",
       "      <td>2.70</td>\n",
       "      <td>1.40</td>\n",
       "      <td>0.44</td>\n",
       "      <td>0.45</td>\n",
       "      <td>-inf</td>\n",
       "    </tr>\n",
       "    <tr>\n",
       "      <th>3</th>\n",
       "      <td>Hubble V</td>\n",
       "      <td>38.87</td>\n",
       "      <td>-3.82</td>\n",
       "      <td>0.90</td>\n",
       "      <td>2.11</td>\n",
       "      <td>1.81</td>\n",
       "      <td>2.70</td>\n",
       "      <td>1.50</td>\n",
       "      <td>0.55</td>\n",
       "      <td>0.56</td>\n",
       "      <td>-inf</td>\n",
       "    </tr>\n",
       "    <tr>\n",
       "      <th>4</th>\n",
       "      <td>30Dor</td>\n",
       "      <td>39.76</td>\n",
       "      <td>-1.89</td>\n",
       "      <td>2.40</td>\n",
       "      <td>2.00</td>\n",
       "      <td>1.69</td>\n",
       "      <td>1.70</td>\n",
       "      <td>1.22</td>\n",
       "      <td>0.43</td>\n",
       "      <td>1.20</td>\n",
       "      <td>-inf</td>\n",
       "    </tr>\n",
       "    <tr>\n",
       "      <th>5</th>\n",
       "      <td>Carina</td>\n",
       "      <td>39.60</td>\n",
       "      <td>-2.00</td>\n",
       "      <td>2.70</td>\n",
       "      <td>1.18</td>\n",
       "      <td>0.88</td>\n",
       "      <td>0.37</td>\n",
       "      <td>1.00</td>\n",
       "      <td>-0.26</td>\n",
       "      <td>0.63</td>\n",
       "      <td>0.43</td>\n",
       "    </tr>\n",
       "    <tr>\n",
       "      <th>6</th>\n",
       "      <td>NGC 346</td>\n",
       "      <td>38.67</td>\n",
       "      <td>-2.68</td>\n",
       "      <td>2.00</td>\n",
       "      <td>1.81</td>\n",
       "      <td>1.51</td>\n",
       "      <td>1.79</td>\n",
       "      <td>1.05</td>\n",
       "      <td>0.18</td>\n",
       "      <td>0.75</td>\n",
       "      <td>-inf</td>\n",
       "    </tr>\n",
       "    <tr>\n",
       "      <th>7</th>\n",
       "      <td>M8</td>\n",
       "      <td>37.47</td>\n",
       "      <td>-4.00</td>\n",
       "      <td>1.78</td>\n",
       "      <td>1.40</td>\n",
       "      <td>1.10</td>\n",
       "      <td>0.10</td>\n",
       "      <td>1.15</td>\n",
       "      <td>0.18</td>\n",
       "      <td>0.43</td>\n",
       "      <td>-inf</td>\n",
       "    </tr>\n",
       "    <tr>\n",
       "      <th>8</th>\n",
       "      <td>Orion</td>\n",
       "      <td>37.00</td>\n",
       "      <td>-4.28</td>\n",
       "      <td>2.18</td>\n",
       "      <td>0.70</td>\n",
       "      <td>0.40</td>\n",
       "      <td>-0.40</td>\n",
       "      <td>0.75</td>\n",
       "      <td>-0.19</td>\n",
       "      <td>0.51</td>\n",
       "      <td>0.78</td>\n",
       "    </tr>\n",
       "  </tbody>\n",
       "</table>\n",
       "</div>"
      ],
      "text/plain": [
       "     Region  log L(H) [erg s^-1]  log SFR  log n  log L [pc]  log R [pc]  \\\n",
       "0   NGC 604                39.65    -2.28   0.48        2.60        2.30   \n",
       "1   NGC 595                39.36    -2.59   0.60        2.60        2.30   \n",
       "2  Hubble X                38.60    -3.51   0.70        2.20        1.90   \n",
       "3  Hubble V                38.87    -3.82   0.90        2.11        1.81   \n",
       "4     30Dor                39.76    -1.89   2.40        2.00        1.69   \n",
       "5    Carina                39.60    -2.00   2.70        1.18        0.88   \n",
       "6   NGC 346                38.67    -2.68   2.00        1.81        1.51   \n",
       "7        M8                37.47    -4.00   1.78        1.40        1.10   \n",
       "8     Orion                37.00    -4.28   2.18        0.70        0.40   \n",
       "\n",
       "   log Dist [kpc]     m  log r0 [pc]  log sig [km/s]  log siglos [km/s]  \n",
       "0            2.92  1.70         0.96            0.87               0.89  \n",
       "1            2.92  1.55         0.95            0.82               0.76  \n",
       "2            2.70  1.40         0.44            0.45               -inf  \n",
       "3            2.70  1.50         0.55            0.56               -inf  \n",
       "4            1.70  1.22         0.43            1.20               -inf  \n",
       "5            0.37  1.00        -0.26            0.63               0.43  \n",
       "6            1.79  1.05         0.18            0.75               -inf  \n",
       "7            0.10  1.15         0.18            0.43               -inf  \n",
       "8           -0.40  0.75        -0.19            0.51               0.78  "
      ]
     },
     "execution_count": 15,
     "metadata": {},
     "output_type": "execute_result"
    }
   ],
   "source": [
    "logdata"
   ]
  },
  {
   "cell_type": "code",
   "execution_count": null,
   "metadata": {},
   "outputs": [],
   "source": []
  },
  {
   "cell_type": "code",
   "execution_count": 16,
   "metadata": {},
   "outputs": [
    {
     "data": {
      "text/plain": [
       "<matplotlib.collections.PathCollection at 0x2b8c69e3c70>"
      ]
     },
     "execution_count": 16,
     "metadata": {},
     "output_type": "execute_result"
    },
    {
     "data": {
      "image/png": "[encoded data removed]",
      "text/plain": [
       "<Figure size 432x288 with 1 Axes>"
      ]
     },
     "metadata": {
      "needs_background": "light"
     },
     "output_type": "display_data"
    }
   ],
   "source": [
    "plt.scatter( logdata['log r0 [pc]'],logdata['log sig [km/s]']  )"
   ]
  },
  {
   "cell_type": "code",
   "execution_count": null,
   "metadata": {},
   "outputs": [],
   "source": []
  },
  {
   "cell_type": "code",
   "execution_count": 17,
   "metadata": {},
   "outputs": [],
   "source": [
    "pars = lmfit.Parameters()"
   ]
  },
  {
   "cell_type": "code",
   "execution_count": null,
   "metadata": {},
   "outputs": [],
   "source": []
  },
  {
   "cell_type": "code",
   "execution_count": null,
   "metadata": {},
   "outputs": [],
   "source": []
  },
  {
   "cell_type": "code",
   "execution_count": 18,
   "metadata": {
    "id": "ktZZMIJNgkz8"
   },
   "outputs": [
    {
     "name": "stdout",
     "output_type": "stream",
     "text": [
      "--- 19.221041679382324 seconds ---\n"
     ]
    }
   ],
   "source": [
    "print(\"--- %s seconds ---\" % (time.time()-start_time))"
   ]
  }
 ],
 "metadata": {
  "colab": {
   "name": "Structure function correlations",
   "provenance": []
  },
  "kernelspec": {
   "display_name": "Python 3",
   "language": "python",
   "name": "python3"
  },
  "language_info": {
   "codemirror_mode": {
    "name": "ipython",
    "version": 3
   },
   "file_extension": ".py",
   "mimetype": "text/x-python",
   "name": "python",
   "nbconvert_exporter": "python",
   "pygments_lexer": "ipython3",
   "version": "3.8.3"
  }
 },
 "nbformat": 4,
 "nbformat_minor": 1
}
