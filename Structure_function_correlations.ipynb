{
 "cells": [
  {
   "cell_type": "markdown",
   "metadata": {
    "id": "K7jaxBz1-k7o"
   },
   "source": [
    "This is Will's edit of a notebook originally written by Javier.\n",
    "\n",
    "# Correlations between H II region parameters\n",
    "\n",
    "We look at correlations between 6 principal measurements that fall into two groups: \n",
    "\n",
    "* Basic parameters: \n",
    "    * Size: $L$\n",
    "    * Ionizing luminosity: $Q(\\mathrm{H})$\n",
    "    * Distance: $D$\n",
    "* Velocity structure function parameters:\n",
    "    * Velocity dispersion on plane of sky: $\\sigma$\n",
    "    * Velocity autocorrelation length scale: $\\ell_0$\n",
    "    * Structure function slope in inertial range: $m$\n",
    "\n",
    "Colab's markdown renderer seems to have a bug that requires some math outside of a list in order to trigger latex parsing: $\\alpha$. "
   ]
  },
  {
   "cell_type": "markdown",
   "metadata": {
    "id": "aZa8qfxAAshr"
   },
   "source": [
    "## Original table from Javier"
   ]
  },
  {
   "cell_type": "code",
   "execution_count": 1,
   "metadata": {
    "id": "y_1iISme7_9P"
   },
   "outputs": [],
   "source": [
    "import time\n",
    "start_time=time.time()\n",
    "import numpy as np\n",
    "import seaborn as sns\n",
    "import pandas as pd\n",
    "import matplotlib.pyplot as plt\n",
    "import os\n",
    "#import sys"
   ]
  },
  {
   "cell_type": "code",
   "execution_count": 2,
   "metadata": {
    "id": "pzFCKrPY7_9R"
   },
   "outputs": [],
   "source": [
    "Region=[\"Orion\",\"Orion large\",\n",
    "        \"M8 small\",\"M8 large\",\n",
    "        \"Carina\",\"30Dor\",\n",
    "        \"NGC 604 I\",\"NGC 604 T\",\"NGC 595 T\",\n",
    "        \"Hubble V\",\"Hubble X\"]\n",
    "\n",
    "QH=[1.02e49,1.02e49,\n",
    "    1.94e49,1.94e49,\n",
    "    1.94e51,8.51e51,\n",
    "    1e51,1e51,7.5e50,\n",
    "    1.69e50,1.3e50]\n",
    "\n",
    "LHa =[1.2e37,1.2e37,\n",
    "      2.3e37,2.3e37,\n",
    "      2.3e39,2.9e39,\n",
    "      2.63e39, 2.63e39,8.91e38,\n",
    "      1.99e38,1.62e38]\n",
    "\n",
    "SFR=[5.3e-5,5.3e-5,\n",
    "     1.0e-4,1.0e-4,\n",
    "     1.0e-2,1.3e-2,\n",
    "     5.3e-3,5.3e-3,2.6e-3,\n",
    "     1.5e-4,3.1e-4]\n",
    "\n",
    "SSFR=[46.862,1.054,\n",
    "      0.080,0.080,\n",
    "      14.147,4.598,\n",
    "      0.011,0.011,0.009,\n",
    "      0.005,0.004]\n",
    "\n",
    "n=[1e4,100,\n",
    "   600,60,\n",
    "   500,500,\n",
    "   50,50,50,\n",
    "   90,30]\n",
    "\n",
    "L=[0.6,4,\n",
    "   20,20,\n",
    "   15,30,\n",
    "   400,400,200,\n",
    "   100,150]\n",
    "\n",
    "Dist=[0.4,0.4,\n",
    "      1.3,1.3,\n",
    "      2,50,\n",
    "      840,840,840,\n",
    "      500,500]\n",
    "\n",
    "Rs=[0.101,2.184,\n",
    "    0.833,3.868,\n",
    "    4.368,4.705,\n",
    "    16.092,10.137,12.772,\n",
    "    3.379,8.856]\n",
    "\n",
    "m=[1.1,0.75,\n",
    "   0.75,0.8,\n",
    "   0.7,1.2,\n",
    "   1.7,1.7,1.7,\n",
    "   1.8,1.7]\n",
    "\n",
    "lo=[0.05,0.28,\n",
    "    1.3,1.05,\n",
    "    1,2.7,\n",
    "    11,11,11,\n",
    "    4,5]\n",
    "\n",
    "sig=[3.1,2.1,\n",
    "     3,4,\n",
    "     4,16,\n",
    "     8,7,7,\n",
    "     3,4]\n",
    "\n",
    "Lb=[0,4,\n",
    "    20,0,\n",
    "    20,20,\n",
    "    170,170,200,\n",
    "    68,62]\n",
    "\n",
    "siglos=[6,0,\n",
    "        0.78,0,\n",
    "        2.7,0,\n",
    "        0,7.69,5.74,\n",
    "        0,0]\n",
    "\n",
    "siglosm=[0,0,\n",
    "         13.66,0,\n",
    "         22.46,0,\n",
    "         0,16.21,18.33,\n",
    "         13.4,12.3]\n",
    "\n",
    "siglglb=[0,0,\n",
    "        0,0,\n",
    "        0,0,\n",
    "        23.1,23.1,27,\n",
    "        14.7,13.4]"
   ]
  },
  {
   "cell_type": "markdown",
   "metadata": {
    "id": "rs6r9a_-Fqtm"
   },
   "source": [
    "Cambié la manera de especificar el dataframe porque tu método dejó las columnas con `dtype` de `object` en lugar de `float`, por ejemplo.  Entonces, no fue posible operar sobre las columnas después. "
   ]
  },
  {
   "cell_type": "code",
   "execution_count": 3,
   "metadata": {
    "id": "gqiJOHtcDqBL"
   },
   "outputs": [],
   "source": [
    "data = pd.DataFrame(\n",
    "    {\n",
    "       \"Region\": Region,\n",
    "       \"Q(H)\": QH,\n",
    "       \"L(Ha)\": LHa,\n",
    "       \"SFR\": SFR,\n",
    "       \"S_SFR\": SSFR,\n",
    "       \"n\": n,\n",
    "       \"L [pc]\": L,\n",
    "       \"Lb [pc]\": Lb,\n",
    "       \"Dist [kpc]\": Dist,\n",
    "       \"Rs [pc]\": Rs,\n",
    "       \"m\": m,\n",
    "       \"lo [pc]\": lo,\n",
    "       \"sig [km/s]\": sig,\n",
    "       \"siglos [km/s]\": siglos,\n",
    "       \"siglosm [km/s]\": siglosm,\n",
    "    },\n",
    ")"
   ]
  },
  {
   "cell_type": "markdown",
   "metadata": {
    "id": "gcZdCZEeGOjq"
   },
   "source": [
    "Checar que los tipos de las columnas sean adecuadas:"
   ]
  },
  {
   "cell_type": "code",
   "execution_count": 4,
   "metadata": {
    "colab": {
     "base_uri": "https://localhost:8080/"
    },
    "id": "qHpUNclsFR7r",
    "outputId": "6c5d205c-8b4f-46f7-b1be-4d683e51a18f"
   },
   "outputs": [
    {
     "data": {
      "text/plain": [
       "Region             object\n",
       "Q(H)              float64\n",
       "L(Ha)             float64\n",
       "SFR               float64\n",
       "S_SFR             float64\n",
       "n                 float64\n",
       "L [pc]            float64\n",
       "Lb [pc]             int64\n",
       "Dist [kpc]        float64\n",
       "Rs [pc]           float64\n",
       "m                 float64\n",
       "lo [pc]           float64\n",
       "sig [km/s]        float64\n",
       "siglos [km/s]     float64\n",
       "siglosm [km/s]    float64\n",
       "dtype: object"
      ]
     },
     "execution_count": 4,
     "metadata": {},
     "output_type": "execute_result"
    }
   ],
   "source": [
    "data.dtypes"
   ]
  },
  {
   "cell_type": "code",
   "execution_count": 5,
   "metadata": {
    "colab": {
     "base_uri": "https://localhost:8080/",
     "height": 394
    },
    "id": "K7q-Sf257_9S",
    "outputId": "ebb1d04d-40e4-46f1-8239-bfac59542a8a"
   },
   "outputs": [
    {
     "data": {
      "text/html": [
       "<div>\n",
       "<style scoped>\n",
       "    .dataframe tbody tr th:only-of-type {\n",
       "        vertical-align: middle;\n",
       "    }\n",
       "\n",
       "    .dataframe tbody tr th {\n",
       "        vertical-align: top;\n",
       "    }\n",
       "\n",
       "    .dataframe thead th {\n",
       "        text-align: right;\n",
       "    }\n",
       "</style>\n",
       "<table border=\"1\" class=\"dataframe\">\n",
       "  <thead>\n",
       "    <tr style=\"text-align: right;\">\n",
       "      <th></th>\n",
       "      <th>Region</th>\n",
       "      <th>Q(H)</th>\n",
       "      <th>L(Ha)</th>\n",
       "      <th>SFR</th>\n",
       "      <th>S_SFR</th>\n",
       "      <th>n</th>\n",
       "      <th>L [pc]</th>\n",
       "      <th>Lb [pc]</th>\n",
       "      <th>Dist [kpc]</th>\n",
       "      <th>Rs [pc]</th>\n",
       "      <th>m</th>\n",
       "      <th>lo [pc]</th>\n",
       "      <th>sig [km/s]</th>\n",
       "      <th>siglos [km/s]</th>\n",
       "      <th>siglosm [km/s]</th>\n",
       "    </tr>\n",
       "  </thead>\n",
       "  <tbody>\n",
       "    <tr>\n",
       "      <th>0</th>\n",
       "      <td>Orion</td>\n",
       "      <td>1.020000e+49</td>\n",
       "      <td>1.200000e+37</td>\n",
       "      <td>0.000053</td>\n",
       "      <td>46.862</td>\n",
       "      <td>10000.0</td>\n",
       "      <td>0.6</td>\n",
       "      <td>0</td>\n",
       "      <td>0.4</td>\n",
       "      <td>0.101</td>\n",
       "      <td>1.10</td>\n",
       "      <td>0.05</td>\n",
       "      <td>3.1</td>\n",
       "      <td>6.00</td>\n",
       "      <td>0.00</td>\n",
       "    </tr>\n",
       "    <tr>\n",
       "      <th>1</th>\n",
       "      <td>Orion large</td>\n",
       "      <td>1.020000e+49</td>\n",
       "      <td>1.200000e+37</td>\n",
       "      <td>0.000053</td>\n",
       "      <td>1.054</td>\n",
       "      <td>100.0</td>\n",
       "      <td>4.0</td>\n",
       "      <td>4</td>\n",
       "      <td>0.4</td>\n",
       "      <td>2.184</td>\n",
       "      <td>0.75</td>\n",
       "      <td>0.28</td>\n",
       "      <td>2.1</td>\n",
       "      <td>0.00</td>\n",
       "      <td>0.00</td>\n",
       "    </tr>\n",
       "    <tr>\n",
       "      <th>2</th>\n",
       "      <td>M8 small</td>\n",
       "      <td>1.940000e+49</td>\n",
       "      <td>2.300000e+37</td>\n",
       "      <td>0.000100</td>\n",
       "      <td>0.080</td>\n",
       "      <td>600.0</td>\n",
       "      <td>20.0</td>\n",
       "      <td>20</td>\n",
       "      <td>1.3</td>\n",
       "      <td>0.833</td>\n",
       "      <td>0.75</td>\n",
       "      <td>1.30</td>\n",
       "      <td>3.0</td>\n",
       "      <td>0.78</td>\n",
       "      <td>13.66</td>\n",
       "    </tr>\n",
       "    <tr>\n",
       "      <th>3</th>\n",
       "      <td>M8 large</td>\n",
       "      <td>1.940000e+49</td>\n",
       "      <td>2.300000e+37</td>\n",
       "      <td>0.000100</td>\n",
       "      <td>0.080</td>\n",
       "      <td>60.0</td>\n",
       "      <td>20.0</td>\n",
       "      <td>0</td>\n",
       "      <td>1.3</td>\n",
       "      <td>3.868</td>\n",
       "      <td>0.80</td>\n",
       "      <td>1.05</td>\n",
       "      <td>4.0</td>\n",
       "      <td>0.00</td>\n",
       "      <td>0.00</td>\n",
       "    </tr>\n",
       "    <tr>\n",
       "      <th>4</th>\n",
       "      <td>Carina</td>\n",
       "      <td>1.940000e+51</td>\n",
       "      <td>2.300000e+39</td>\n",
       "      <td>0.010000</td>\n",
       "      <td>14.147</td>\n",
       "      <td>500.0</td>\n",
       "      <td>15.0</td>\n",
       "      <td>20</td>\n",
       "      <td>2.0</td>\n",
       "      <td>4.368</td>\n",
       "      <td>0.70</td>\n",
       "      <td>1.00</td>\n",
       "      <td>4.0</td>\n",
       "      <td>2.70</td>\n",
       "      <td>22.46</td>\n",
       "    </tr>\n",
       "    <tr>\n",
       "      <th>5</th>\n",
       "      <td>30Dor</td>\n",
       "      <td>8.510000e+51</td>\n",
       "      <td>2.900000e+39</td>\n",
       "      <td>0.013000</td>\n",
       "      <td>4.598</td>\n",
       "      <td>500.0</td>\n",
       "      <td>30.0</td>\n",
       "      <td>20</td>\n",
       "      <td>50.0</td>\n",
       "      <td>4.705</td>\n",
       "      <td>1.20</td>\n",
       "      <td>2.70</td>\n",
       "      <td>16.0</td>\n",
       "      <td>0.00</td>\n",
       "      <td>0.00</td>\n",
       "    </tr>\n",
       "    <tr>\n",
       "      <th>6</th>\n",
       "      <td>NGC 604 I</td>\n",
       "      <td>1.000000e+51</td>\n",
       "      <td>2.630000e+39</td>\n",
       "      <td>0.005300</td>\n",
       "      <td>0.011</td>\n",
       "      <td>50.0</td>\n",
       "      <td>400.0</td>\n",
       "      <td>170</td>\n",
       "      <td>840.0</td>\n",
       "      <td>16.092</td>\n",
       "      <td>1.70</td>\n",
       "      <td>11.00</td>\n",
       "      <td>8.0</td>\n",
       "      <td>0.00</td>\n",
       "      <td>0.00</td>\n",
       "    </tr>\n",
       "    <tr>\n",
       "      <th>7</th>\n",
       "      <td>NGC 604 T</td>\n",
       "      <td>1.000000e+51</td>\n",
       "      <td>2.630000e+39</td>\n",
       "      <td>0.005300</td>\n",
       "      <td>0.011</td>\n",
       "      <td>50.0</td>\n",
       "      <td>400.0</td>\n",
       "      <td>170</td>\n",
       "      <td>840.0</td>\n",
       "      <td>10.137</td>\n",
       "      <td>1.70</td>\n",
       "      <td>11.00</td>\n",
       "      <td>7.0</td>\n",
       "      <td>7.69</td>\n",
       "      <td>16.21</td>\n",
       "    </tr>\n",
       "    <tr>\n",
       "      <th>8</th>\n",
       "      <td>NGC 595 T</td>\n",
       "      <td>7.500000e+50</td>\n",
       "      <td>8.910000e+38</td>\n",
       "      <td>0.002600</td>\n",
       "      <td>0.009</td>\n",
       "      <td>50.0</td>\n",
       "      <td>200.0</td>\n",
       "      <td>200</td>\n",
       "      <td>840.0</td>\n",
       "      <td>12.772</td>\n",
       "      <td>1.70</td>\n",
       "      <td>11.00</td>\n",
       "      <td>7.0</td>\n",
       "      <td>5.74</td>\n",
       "      <td>18.33</td>\n",
       "    </tr>\n",
       "    <tr>\n",
       "      <th>9</th>\n",
       "      <td>Hubble V</td>\n",
       "      <td>1.690000e+50</td>\n",
       "      <td>1.990000e+38</td>\n",
       "      <td>0.000150</td>\n",
       "      <td>0.005</td>\n",
       "      <td>90.0</td>\n",
       "      <td>100.0</td>\n",
       "      <td>68</td>\n",
       "      <td>500.0</td>\n",
       "      <td>3.379</td>\n",
       "      <td>1.80</td>\n",
       "      <td>4.00</td>\n",
       "      <td>3.0</td>\n",
       "      <td>0.00</td>\n",
       "      <td>13.40</td>\n",
       "    </tr>\n",
       "    <tr>\n",
       "      <th>10</th>\n",
       "      <td>Hubble X</td>\n",
       "      <td>1.300000e+50</td>\n",
       "      <td>1.620000e+38</td>\n",
       "      <td>0.000310</td>\n",
       "      <td>0.004</td>\n",
       "      <td>30.0</td>\n",
       "      <td>150.0</td>\n",
       "      <td>62</td>\n",
       "      <td>500.0</td>\n",
       "      <td>8.856</td>\n",
       "      <td>1.70</td>\n",
       "      <td>5.00</td>\n",
       "      <td>4.0</td>\n",
       "      <td>0.00</td>\n",
       "      <td>12.30</td>\n",
       "    </tr>\n",
       "  </tbody>\n",
       "</table>\n",
       "</div>"
      ],
      "text/plain": [
       "         Region          Q(H)         L(Ha)       SFR   S_SFR        n  \\\n",
       "0         Orion  1.020000e+49  1.200000e+37  0.000053  46.862  10000.0   \n",
       "1   Orion large  1.020000e+49  1.200000e+37  0.000053   1.054    100.0   \n",
       "2      M8 small  1.940000e+49  2.300000e+37  0.000100   0.080    600.0   \n",
       "3      M8 large  1.940000e+49  2.300000e+37  0.000100   0.080     60.0   \n",
       "4        Carina  1.940000e+51  2.300000e+39  0.010000  14.147    500.0   \n",
       "5         30Dor  8.510000e+51  2.900000e+39  0.013000   4.598    500.0   \n",
       "6     NGC 604 I  1.000000e+51  2.630000e+39  0.005300   0.011     50.0   \n",
       "7     NGC 604 T  1.000000e+51  2.630000e+39  0.005300   0.011     50.0   \n",
       "8     NGC 595 T  7.500000e+50  8.910000e+38  0.002600   0.009     50.0   \n",
       "9      Hubble V  1.690000e+50  1.990000e+38  0.000150   0.005     90.0   \n",
       "10     Hubble X  1.300000e+50  1.620000e+38  0.000310   0.004     30.0   \n",
       "\n",
       "    L [pc]  Lb [pc]  Dist [kpc]  Rs [pc]     m  lo [pc]  sig [km/s]  \\\n",
       "0      0.6        0         0.4    0.101  1.10     0.05         3.1   \n",
       "1      4.0        4         0.4    2.184  0.75     0.28         2.1   \n",
       "2     20.0       20         1.3    0.833  0.75     1.30         3.0   \n",
       "3     20.0        0         1.3    3.868  0.80     1.05         4.0   \n",
       "4     15.0       20         2.0    4.368  0.70     1.00         4.0   \n",
       "5     30.0       20        50.0    4.705  1.20     2.70        16.0   \n",
       "6    400.0      170       840.0   16.092  1.70    11.00         8.0   \n",
       "7    400.0      170       840.0   10.137  1.70    11.00         7.0   \n",
       "8    200.0      200       840.0   12.772  1.70    11.00         7.0   \n",
       "9    100.0       68       500.0    3.379  1.80     4.00         3.0   \n",
       "10   150.0       62       500.0    8.856  1.70     5.00         4.0   \n",
       "\n",
       "    siglos [km/s]  siglosm [km/s]  \n",
       "0            6.00            0.00  \n",
       "1            0.00            0.00  \n",
       "2            0.78           13.66  \n",
       "3            0.00            0.00  \n",
       "4            2.70           22.46  \n",
       "5            0.00            0.00  \n",
       "6            0.00            0.00  \n",
       "7            7.69           16.21  \n",
       "8            5.74           18.33  \n",
       "9            0.00           13.40  \n",
       "10           0.00           12.30  "
      ]
     },
     "execution_count": 5,
     "metadata": {},
     "output_type": "execute_result"
    }
   ],
   "source": [
    "data"
   ]
  },
  {
   "cell_type": "code",
   "execution_count": 6,
   "metadata": {
    "colab": {
     "base_uri": "https://localhost:8080/"
    },
    "id": "jxwJLnNe7_9S",
    "outputId": "8f49564e-b5b0-4e70-af58-2a78f2527f5b"
   },
   "outputs": [
    {
     "data": {
      "text/plain": [
       "Region            Hubble V\n",
       "Q(H)              1.69e+50\n",
       "L(Ha)             1.99e+38\n",
       "SFR                0.00015\n",
       "S_SFR                0.005\n",
       "n                       90\n",
       "L [pc]                 100\n",
       "Lb [pc]                 68\n",
       "Dist [kpc]             500\n",
       "Rs [pc]              3.379\n",
       "m                      1.8\n",
       "lo [pc]                  4\n",
       "sig [km/s]               3\n",
       "siglos [km/s]            0\n",
       "siglosm [km/s]        13.4\n",
       "Name: 9, dtype: object"
      ]
     },
     "execution_count": 6,
     "metadata": {},
     "output_type": "execute_result"
    }
   ],
   "source": [
    "data.iloc[9]"
   ]
  },
  {
   "cell_type": "code",
   "execution_count": 7,
   "metadata": {
    "colab": {
     "base_uri": "https://localhost:8080/",
     "height": 921
    },
    "id": "F8EKezDv7_9T",
    "outputId": "3ce3ef90-7a99-4af8-f401-c0491ba6336e"
   },
   "outputs": [
    {
     "data": {
      "text/plain": [
       "<seaborn.axisgrid.PairGrid at 0x19a9f683190>"
      ]
     },
     "execution_count": 7,
     "metadata": {},
     "output_type": "execute_result"
    },
    {
     "data": {
      "image/png": "[encoded data removed]",
      "text/plain": [
       "<Figure size 900x900 with 30 Axes>"
      ]
     },
     "metadata": {
      "needs_background": "light"
     },
     "output_type": "display_data"
    }
   ],
   "source": [
    "sns.pairplot(data, \n",
    "             vars=[\"L [pc]\", \"Q(H)\", \"m\", \"lo [pc]\", \"sig [km/s]\"],\n",
    "             plot_kws=dict(alpha=0.75, s=35, color='blue'), \n",
    "             diag_kind='hist',            )\n",
    "\n",
    "#g.map_lower(sns.kdeplot, levels=4, color=\".2\")"
   ]
  },
  {
   "cell_type": "code",
   "execution_count": null,
   "metadata": {
    "colab": {
     "base_uri": "https://localhost:8080/"
    },
    "id": "_p46ChvC7_9T",
    "outputId": "19690c65-8b11-4c22-ff98-ccc990e46007"
   },
   "outputs": [],
   "source": []
  },
  {
   "cell_type": "markdown",
   "metadata": {
    "id": "0jU-WFLzI7BN"
   },
   "source": [
    "## Change to log scale for most parameters\n",
    "\n",
    "El analisis de la mayoría de las columnas sería mejor en escala logarítmica porque varían por varios ordenes de magnitud.  Entonces, hacemos una nueva versión de la tabla así. Dejamos la $m$ en escala lineal porque no varía mucho."
   ]
  },
  {
   "cell_type": "code",
   "execution_count": 8,
   "metadata": {
    "colab": {
     "base_uri": "https://localhost:8080/",
     "height": 430
    },
    "id": "ikpoilaIeOCK",
    "outputId": "a174005b-3d15-4cbe-a86e-2794486756ac"
   },
   "outputs": [
    {
     "name": "stderr",
     "output_type": "stream",
     "text": [
      "C:\\Users\\ZAINTEL2\\anaconda3\\lib\\site-packages\\pandas\\core\\series.py:679: RuntimeWarning: divide by zero encountered in log10\n",
      "  result = getattr(ufunc, method)(*inputs, **kwargs)\n"
     ]
    },
    {
     "data": {
      "text/html": [
       "<div>\n",
       "<style scoped>\n",
       "    .dataframe tbody tr th:only-of-type {\n",
       "        vertical-align: middle;\n",
       "    }\n",
       "\n",
       "    .dataframe tbody tr th {\n",
       "        vertical-align: top;\n",
       "    }\n",
       "\n",
       "    .dataframe thead th {\n",
       "        text-align: right;\n",
       "    }\n",
       "</style>\n",
       "<table border=\"1\" class=\"dataframe\">\n",
       "  <thead>\n",
       "    <tr style=\"text-align: right;\">\n",
       "      <th></th>\n",
       "      <th>Region</th>\n",
       "      <th>log Q(H) [s^-1]</th>\n",
       "      <th>log L(Ha)</th>\n",
       "      <th>log SFR</th>\n",
       "      <th>log S_SFR</th>\n",
       "      <th>log n</th>\n",
       "      <th>log L [pc]</th>\n",
       "      <th>log Lb [pc]</th>\n",
       "      <th>log Dist [kpc]</th>\n",
       "      <th>log Rs [pc]</th>\n",
       "      <th>m</th>\n",
       "      <th>log l0 [pc]</th>\n",
       "      <th>log sig [km/s]</th>\n",
       "      <th>log siglos [km/s]</th>\n",
       "      <th>log siglosm [km/s]</th>\n",
       "    </tr>\n",
       "  </thead>\n",
       "  <tbody>\n",
       "    <tr>\n",
       "      <th>0</th>\n",
       "      <td>Orion</td>\n",
       "      <td>49.01</td>\n",
       "      <td>37.08</td>\n",
       "      <td>-4.28</td>\n",
       "      <td>1.67</td>\n",
       "      <td>4.00</td>\n",
       "      <td>-0.22</td>\n",
       "      <td>-inf</td>\n",
       "      <td>-0.40</td>\n",
       "      <td>-1.00</td>\n",
       "      <td>1.10</td>\n",
       "      <td>-1.30</td>\n",
       "      <td>0.49</td>\n",
       "      <td>0.78</td>\n",
       "      <td>-inf</td>\n",
       "    </tr>\n",
       "    <tr>\n",
       "      <th>1</th>\n",
       "      <td>Orion large</td>\n",
       "      <td>49.01</td>\n",
       "      <td>37.08</td>\n",
       "      <td>-4.28</td>\n",
       "      <td>0.02</td>\n",
       "      <td>2.00</td>\n",
       "      <td>0.60</td>\n",
       "      <td>0.60</td>\n",
       "      <td>-0.40</td>\n",
       "      <td>0.34</td>\n",
       "      <td>0.75</td>\n",
       "      <td>-0.55</td>\n",
       "      <td>0.32</td>\n",
       "      <td>-inf</td>\n",
       "      <td>-inf</td>\n",
       "    </tr>\n",
       "    <tr>\n",
       "      <th>2</th>\n",
       "      <td>M8 small</td>\n",
       "      <td>49.29</td>\n",
       "      <td>37.36</td>\n",
       "      <td>-4.00</td>\n",
       "      <td>-1.10</td>\n",
       "      <td>2.78</td>\n",
       "      <td>1.30</td>\n",
       "      <td>1.30</td>\n",
       "      <td>0.11</td>\n",
       "      <td>-0.08</td>\n",
       "      <td>0.75</td>\n",
       "      <td>0.11</td>\n",
       "      <td>0.48</td>\n",
       "      <td>-0.11</td>\n",
       "      <td>1.14</td>\n",
       "    </tr>\n",
       "    <tr>\n",
       "      <th>3</th>\n",
       "      <td>M8 large</td>\n",
       "      <td>49.29</td>\n",
       "      <td>37.36</td>\n",
       "      <td>-4.00</td>\n",
       "      <td>-1.10</td>\n",
       "      <td>1.78</td>\n",
       "      <td>1.30</td>\n",
       "      <td>-inf</td>\n",
       "      <td>0.11</td>\n",
       "      <td>0.59</td>\n",
       "      <td>0.80</td>\n",
       "      <td>0.02</td>\n",
       "      <td>0.60</td>\n",
       "      <td>-inf</td>\n",
       "      <td>-inf</td>\n",
       "    </tr>\n",
       "    <tr>\n",
       "      <th>4</th>\n",
       "      <td>Carina</td>\n",
       "      <td>51.29</td>\n",
       "      <td>39.36</td>\n",
       "      <td>-2.00</td>\n",
       "      <td>1.15</td>\n",
       "      <td>2.70</td>\n",
       "      <td>1.18</td>\n",
       "      <td>1.30</td>\n",
       "      <td>0.30</td>\n",
       "      <td>0.64</td>\n",
       "      <td>0.70</td>\n",
       "      <td>0.00</td>\n",
       "      <td>0.60</td>\n",
       "      <td>0.43</td>\n",
       "      <td>1.35</td>\n",
       "    </tr>\n",
       "    <tr>\n",
       "      <th>5</th>\n",
       "      <td>30Dor</td>\n",
       "      <td>51.93</td>\n",
       "      <td>39.46</td>\n",
       "      <td>-1.89</td>\n",
       "      <td>0.66</td>\n",
       "      <td>2.70</td>\n",
       "      <td>1.48</td>\n",
       "      <td>1.30</td>\n",
       "      <td>1.70</td>\n",
       "      <td>0.67</td>\n",
       "      <td>1.20</td>\n",
       "      <td>0.43</td>\n",
       "      <td>1.20</td>\n",
       "      <td>-inf</td>\n",
       "      <td>-inf</td>\n",
       "    </tr>\n",
       "    <tr>\n",
       "      <th>6</th>\n",
       "      <td>NGC 604 I</td>\n",
       "      <td>51.00</td>\n",
       "      <td>39.42</td>\n",
       "      <td>-2.28</td>\n",
       "      <td>-1.96</td>\n",
       "      <td>1.70</td>\n",
       "      <td>2.60</td>\n",
       "      <td>2.23</td>\n",
       "      <td>2.92</td>\n",
       "      <td>1.21</td>\n",
       "      <td>1.70</td>\n",
       "      <td>1.04</td>\n",
       "      <td>0.90</td>\n",
       "      <td>-inf</td>\n",
       "      <td>-inf</td>\n",
       "    </tr>\n",
       "    <tr>\n",
       "      <th>7</th>\n",
       "      <td>NGC 604 T</td>\n",
       "      <td>51.00</td>\n",
       "      <td>39.42</td>\n",
       "      <td>-2.28</td>\n",
       "      <td>-1.96</td>\n",
       "      <td>1.70</td>\n",
       "      <td>2.60</td>\n",
       "      <td>2.23</td>\n",
       "      <td>2.92</td>\n",
       "      <td>1.01</td>\n",
       "      <td>1.70</td>\n",
       "      <td>1.04</td>\n",
       "      <td>0.85</td>\n",
       "      <td>0.89</td>\n",
       "      <td>1.21</td>\n",
       "    </tr>\n",
       "    <tr>\n",
       "      <th>8</th>\n",
       "      <td>NGC 595 T</td>\n",
       "      <td>50.88</td>\n",
       "      <td>38.95</td>\n",
       "      <td>-2.59</td>\n",
       "      <td>-2.05</td>\n",
       "      <td>1.70</td>\n",
       "      <td>2.30</td>\n",
       "      <td>2.30</td>\n",
       "      <td>2.92</td>\n",
       "      <td>1.11</td>\n",
       "      <td>1.70</td>\n",
       "      <td>1.04</td>\n",
       "      <td>0.85</td>\n",
       "      <td>0.76</td>\n",
       "      <td>1.26</td>\n",
       "    </tr>\n",
       "    <tr>\n",
       "      <th>9</th>\n",
       "      <td>Hubble V</td>\n",
       "      <td>50.23</td>\n",
       "      <td>38.30</td>\n",
       "      <td>-3.82</td>\n",
       "      <td>-2.30</td>\n",
       "      <td>1.95</td>\n",
       "      <td>2.00</td>\n",
       "      <td>1.83</td>\n",
       "      <td>2.70</td>\n",
       "      <td>0.53</td>\n",
       "      <td>1.80</td>\n",
       "      <td>0.60</td>\n",
       "      <td>0.48</td>\n",
       "      <td>-inf</td>\n",
       "      <td>1.13</td>\n",
       "    </tr>\n",
       "    <tr>\n",
       "      <th>10</th>\n",
       "      <td>Hubble X</td>\n",
       "      <td>50.11</td>\n",
       "      <td>38.21</td>\n",
       "      <td>-3.51</td>\n",
       "      <td>-2.40</td>\n",
       "      <td>1.48</td>\n",
       "      <td>2.18</td>\n",
       "      <td>1.79</td>\n",
       "      <td>2.70</td>\n",
       "      <td>0.95</td>\n",
       "      <td>1.70</td>\n",
       "      <td>0.70</td>\n",
       "      <td>0.60</td>\n",
       "      <td>-inf</td>\n",
       "      <td>1.09</td>\n",
       "    </tr>\n",
       "  </tbody>\n",
       "</table>\n",
       "</div>"
      ],
      "text/plain": [
       "         Region  log Q(H) [s^-1]  log L(Ha)  log SFR  log S_SFR  log n  \\\n",
       "0         Orion            49.01      37.08    -4.28       1.67   4.00   \n",
       "1   Orion large            49.01      37.08    -4.28       0.02   2.00   \n",
       "2      M8 small            49.29      37.36    -4.00      -1.10   2.78   \n",
       "3      M8 large            49.29      37.36    -4.00      -1.10   1.78   \n",
       "4        Carina            51.29      39.36    -2.00       1.15   2.70   \n",
       "5         30Dor            51.93      39.46    -1.89       0.66   2.70   \n",
       "6     NGC 604 I            51.00      39.42    -2.28      -1.96   1.70   \n",
       "7     NGC 604 T            51.00      39.42    -2.28      -1.96   1.70   \n",
       "8     NGC 595 T            50.88      38.95    -2.59      -2.05   1.70   \n",
       "9      Hubble V            50.23      38.30    -3.82      -2.30   1.95   \n",
       "10     Hubble X            50.11      38.21    -3.51      -2.40   1.48   \n",
       "\n",
       "    log L [pc]  log Lb [pc]  log Dist [kpc]  log Rs [pc]     m  log l0 [pc]  \\\n",
       "0        -0.22         -inf           -0.40        -1.00  1.10        -1.30   \n",
       "1         0.60         0.60           -0.40         0.34  0.75        -0.55   \n",
       "2         1.30         1.30            0.11        -0.08  0.75         0.11   \n",
       "3         1.30         -inf            0.11         0.59  0.80         0.02   \n",
       "4         1.18         1.30            0.30         0.64  0.70         0.00   \n",
       "5         1.48         1.30            1.70         0.67  1.20         0.43   \n",
       "6         2.60         2.23            2.92         1.21  1.70         1.04   \n",
       "7         2.60         2.23            2.92         1.01  1.70         1.04   \n",
       "8         2.30         2.30            2.92         1.11  1.70         1.04   \n",
       "9         2.00         1.83            2.70         0.53  1.80         0.60   \n",
       "10        2.18         1.79            2.70         0.95  1.70         0.70   \n",
       "\n",
       "    log sig [km/s]  log siglos [km/s]  log siglosm [km/s]  \n",
       "0             0.49               0.78                -inf  \n",
       "1             0.32               -inf                -inf  \n",
       "2             0.48              -0.11                1.14  \n",
       "3             0.60               -inf                -inf  \n",
       "4             0.60               0.43                1.35  \n",
       "5             1.20               -inf                -inf  \n",
       "6             0.90               -inf                -inf  \n",
       "7             0.85               0.89                1.21  \n",
       "8             0.85               0.76                1.26  \n",
       "9             0.48               -inf                1.13  \n",
       "10            0.60               -inf                1.09  "
      ]
     },
     "execution_count": 8,
     "metadata": {},
     "output_type": "execute_result"
    }
   ],
   "source": [
    "cols = data.columns\n",
    "logdata = data.copy()\n",
    "for col in cols:\n",
    "    if col not in [\"Region\", \"m\"]:\n",
    "        logdata[col] = np.round(np.log10(logdata[col]), 2)\n",
    "        logdata.rename(columns={col: f\"log {col}\"}, inplace=True)\n",
    "# Some minor changes to column names\n",
    "logdata.rename(\n",
    "    columns={\n",
    "        \"log Q(H)\": \"log Q(H) [s^-1]\",\n",
    "        \"log lo [pc]\": \"log l0 [pc]\",\n",
    "        }, \n",
    "    inplace=True)\n",
    "logdata"
   ]
  },
  {
   "cell_type": "markdown",
   "metadata": {
    "id": "5icxkm41Lcja"
   },
   "source": [
    "Remove \"Orion large\" item since it has no valid $\\ell_0$ and remove \"NGC 604 I\" because it is redundant. Also remove \"M8 large\" since we shouldn't have 2 M8 values"
   ]
  },
  {
   "cell_type": "code",
   "execution_count": 9,
   "metadata": {
    "id": "D4v6zRLTKrTp"
   },
   "outputs": [],
   "source": [
    "logdata.drop(index=[1, 3, 6], inplace=True)"
   ]
  },
  {
   "cell_type": "markdown",
   "metadata": {
    "id": "RsZZVwFdjtCZ"
   },
   "source": [
    "Make the label text bigger on the figures"
   ]
  },
  {
   "cell_type": "code",
   "execution_count": 10,
   "metadata": {
    "id": "xglVwYE0VFBr"
   },
   "outputs": [],
   "source": [
    "sns.set_context(\"talk\")"
   ]
  },
  {
   "cell_type": "markdown",
   "metadata": {
    "id": "GBbSKFIgj61F"
   },
   "source": [
    "Repeat the pair plot of correlations between columns with the log-scale quantities. Use color to indicate the distance to the regions."
   ]
  },
  {
   "cell_type": "code",
   "execution_count": 11,
   "metadata": {
    "colab": {
     "base_uri": "https://localhost:8080/",
     "height": 895
    },
    "id": "3bNPqA-OeWoV",
    "outputId": "9701fc58-faab-4ff4-bb86-54717aed1f1d"
   },
   "outputs": [
    {
     "data": {
      "image/png": "[encoded data removed]",
      "text/plain": [
       "<Figure size 1029.04x900 with 30 Axes>"
      ]
     },
     "metadata": {
      "needs_background": "light"
     },
     "output_type": "display_data"
    }
   ],
   "source": [
    "selected_vars = [\"log L [pc]\", \"log Q(H) [s^-1]\", \"log Dist [kpc]\", \"m\", \"log l0 [pc]\", \"log sig [km/s]\"]\n",
    "plotdata = logdata[selected_vars].rename(\n",
    "    columns={\n",
    "        # Switch column names to use latex formatting to improve axis labels\n",
    "        \"log L [pc]\": r\"$\\log_{10}\\ L$ [pc]\", \n",
    "        \"log Q(H) [s^-1]\": r\"$\\log_{10}\\ Q(\\mathrm{H})$ [s$^{-1}$]\", \n",
    "        \"m\": \"$m$\", \n",
    "        \"log l0 [pc]\": r\"$\\log_{10}\\ \\ell_0$ [pc]\", \n",
    "        \"log sig [km/s]\": r\"$\\log_{10}\\ \\sigma$ [km/s]\", \n",
    "        \"log Dist [kpc]\": r\"$\\log_{10}\\ D$ [kpc]\",\n",
    "    },\n",
    ")\n",
    "\n",
    "sns.pairplot(plotdata, \n",
    "             hue=r\"$\\log_{10}\\ D$ [kpc]\",\n",
    "             plot_kws=dict(alpha=0.75, s=200, edgecolor=\"k\"), \n",
    "             diag_kind='hist',\n",
    "             diag_kws= dict(multiple='stack'),\n",
    "             );\n",
    "\n",
    "figname = \"strucfunc-correlations\"\n",
    "# Save PDF and JPG versions of the figure\n",
    "plt.gcf().savefig(f\"{figname}.pdf\")\n",
    "plt.gcf().savefig(f\"{figname}.jpg\")"
   ]
  },
  {
   "cell_type": "markdown",
   "metadata": {
    "id": "gnKxFarT-GMc"
   },
   "source": [
    "## Correlation coefficients\n",
    "\n",
    "Calculate [Pearson correlation coefficient](https://en.wikipedia.org/wiki/Pearson_correlation_coefficient), $r$, between each pair of variables:"
   ]
  },
  {
   "cell_type": "code",
   "execution_count": 12,
   "metadata": {
    "colab": {
     "base_uri": "https://localhost:8080/",
     "height": 258
    },
    "id": "2-J9Q8ynDJVg",
    "outputId": "8a59f000-d9fb-4a22-bbcb-29259cc2f200"
   },
   "outputs": [
    {
     "data": {
      "text/html": [
       "<div>\n",
       "<style scoped>\n",
       "    .dataframe tbody tr th:only-of-type {\n",
       "        vertical-align: middle;\n",
       "    }\n",
       "\n",
       "    .dataframe tbody tr th {\n",
       "        vertical-align: top;\n",
       "    }\n",
       "\n",
       "    .dataframe thead th {\n",
       "        text-align: right;\n",
       "    }\n",
       "</style>\n",
       "<table border=\"1\" class=\"dataframe\">\n",
       "  <thead>\n",
       "    <tr style=\"text-align: right;\">\n",
       "      <th></th>\n",
       "      <th>log L [pc]</th>\n",
       "      <th>log Q(H) [s^-1]</th>\n",
       "      <th>log Dist [kpc]</th>\n",
       "      <th>m</th>\n",
       "      <th>log l0 [pc]</th>\n",
       "      <th>log sig [km/s]</th>\n",
       "    </tr>\n",
       "  </thead>\n",
       "  <tbody>\n",
       "    <tr>\n",
       "      <th>log L [pc]</th>\n",
       "      <td>1.000000</td>\n",
       "      <td>0.481886</td>\n",
       "      <td>0.904436</td>\n",
       "      <td>0.673092</td>\n",
       "      <td>0.987326</td>\n",
       "      <td>0.338271</td>\n",
       "    </tr>\n",
       "    <tr>\n",
       "      <th>log Q(H) [s^-1]</th>\n",
       "      <td>0.481886</td>\n",
       "      <td>1.000000</td>\n",
       "      <td>0.442289</td>\n",
       "      <td>0.131489</td>\n",
       "      <td>0.562445</td>\n",
       "      <td>0.810606</td>\n",
       "    </tr>\n",
       "    <tr>\n",
       "      <th>log Dist [kpc]</th>\n",
       "      <td>0.904436</td>\n",
       "      <td>0.442289</td>\n",
       "      <td>1.000000</td>\n",
       "      <td>0.905164</td>\n",
       "      <td>0.883726</td>\n",
       "      <td>0.387635</td>\n",
       "    </tr>\n",
       "    <tr>\n",
       "      <th>m</th>\n",
       "      <td>0.673092</td>\n",
       "      <td>0.131489</td>\n",
       "      <td>0.905164</td>\n",
       "      <td>1.000000</td>\n",
       "      <td>0.617329</td>\n",
       "      <td>0.178810</td>\n",
       "    </tr>\n",
       "    <tr>\n",
       "      <th>log l0 [pc]</th>\n",
       "      <td>0.987326</td>\n",
       "      <td>0.562445</td>\n",
       "      <td>0.883726</td>\n",
       "      <td>0.617329</td>\n",
       "      <td>1.000000</td>\n",
       "      <td>0.434899</td>\n",
       "    </tr>\n",
       "    <tr>\n",
       "      <th>log sig [km/s]</th>\n",
       "      <td>0.338271</td>\n",
       "      <td>0.810606</td>\n",
       "      <td>0.387635</td>\n",
       "      <td>0.178810</td>\n",
       "      <td>0.434899</td>\n",
       "      <td>1.000000</td>\n",
       "    </tr>\n",
       "  </tbody>\n",
       "</table>\n",
       "</div>"
      ],
      "text/plain": [
       "                 log L [pc]  log Q(H) [s^-1]  log Dist [kpc]         m  \\\n",
       "log L [pc]         1.000000         0.481886        0.904436  0.673092   \n",
       "log Q(H) [s^-1]    0.481886         1.000000        0.442289  0.131489   \n",
       "log Dist [kpc]     0.904436         0.442289        1.000000  0.905164   \n",
       "m                  0.673092         0.131489        0.905164  1.000000   \n",
       "log l0 [pc]        0.987326         0.562445        0.883726  0.617329   \n",
       "log sig [km/s]     0.338271         0.810606        0.387635  0.178810   \n",
       "\n",
       "                 log l0 [pc]  log sig [km/s]  \n",
       "log L [pc]          0.987326        0.338271  \n",
       "log Q(H) [s^-1]     0.562445        0.810606  \n",
       "log Dist [kpc]      0.883726        0.387635  \n",
       "m                   0.617329        0.178810  \n",
       "log l0 [pc]         1.000000        0.434899  \n",
       "log sig [km/s]      0.434899        1.000000  "
      ]
     },
     "execution_count": 12,
     "metadata": {},
     "output_type": "execute_result"
    }
   ],
   "source": [
    "logdata[selected_vars].corr()"
   ]
  },
  {
   "cell_type": "markdown",
   "metadata": {
    "id": "zfEKMEmaBm3C"
   },
   "source": [
    "So the results for correlations between the basic parameters are what we would expect:\n",
    "\n",
    "- Size is moderately correlated with luminosity ($r = 0.42$).  The correlation is only weak because size will also depend on ambient density and the age of the region. \n",
    "- Size is highly correlated with distance ($r = 0.88$).  This is just a selection effect due to the fact that we tend to choose regions that have an angular size that matches our instruments. \n",
    "- Luminosity–distance correlation is the weakest, and can be explained as being due to the previous two.\n",
    "\n"
   ]
  },
  {
   "cell_type": "markdown",
   "metadata": {
    "id": "ibTtRHF9Ev-D"
   },
   "source": [
    "The correlations of the structure function parameters with the basic parameters are very interesting:\n",
    "- Autocorrelation length scale, $\\ell_0$, is *highly* correlated ($r = 0.925$) with region size, $L$.  Looking at the graph, the relation seems to be approximately linear with $\\ell_0 \\approx 0.1 L$.  How much of this correlation is real and how much is down to selection effects is something we need to consider carefully.\n",
    "- Velocity dispersion, $\\sigma$, is well correlated ($r = 0.77$) with luminosity, $Q(\\mathrm{H})$.  *Note that it may be better to switch to using the Hα luminosity instead of ionizing luminosity, since that is more common in extragalactic literature.  In that case, we should use $R$ instead of $L$ for the region size.* From the graph it looks like $\\sigma^4 \\propto Q(\\mathrm{H})$ would fit the correlation, which is consistent with the linewidth–size relation seen in more luminous systems.  \n",
    "- The structure function slope $m$ is very well correlated ($r = 0.91$) with distance.  This is mainly because $m \\approx 1.7$ for all the distant regions observed with TAURUS and ISIS, but is around $m = 1$ for all the nearby regions.  I suspect that this is mainly a data quality issue: we observe very little of the inertial range in the distant regions, so the determination of $m$ is probably not so reliable.  But I am not sure why this would tend to bias $m$ towards high values.  "
   ]
  },
  {
   "cell_type": "markdown",
   "metadata": {
    "id": "3HVCWiNtLIMB"
   },
   "source": [
    "## Significance tests\n",
    "\n",
    "We can calculate the statistical significance of the correlations by using the Student t-statistic.  We test the null hypothesis that a given pair of variables is truly uncorrelated ($r = 0$) for the underlying population and that the observed $r$ for our sample of $N = 8$ sources arises solely by chance.  We want to calculate the $p$-value, which is the probability of obtaining $r$ greater than or equal to the observed value, given that there is no true correlation.  A small value of $p$ means that the null hypothesis can be rejected at a certain confidence level.  "
   ]
  },
  {
   "cell_type": "markdown",
   "metadata": {
    "id": "7msUNnoEWFCt"
   },
   "source": [
    "First we calculate the t-statistic from the Pearson correlation coefficient:\n",
    "$$\n",
    "t = r \\, \\left(\\frac{N - 2}{1 - r^2}\\right)^{1/2}\n",
    "$$\n",
    "Then, we use the cumulative distribution function (CDF) of the t-distribution with $N - 1$ degrees of freedom to find the p-value. "
   ]
  },
  {
   "cell_type": "code",
   "execution_count": 13,
   "metadata": {
    "id": "XpmIkg1GYh_V"
   },
   "outputs": [],
   "source": [
    "def tstatistic(r, n):\n",
    "    \"\"\"Compute Student t statistic for null hypothesis of no correlation\n",
    "    for an observed Pearson correlation of `r` from `n` samples\n",
    "    \"\"\"\n",
    "    return r*np.sqrt((n - 2) / (1 - r**2))"
   ]
  },
  {
   "cell_type": "code",
   "execution_count": 14,
   "metadata": {
    "id": "8jnDPwdlaAUz"
   },
   "outputs": [],
   "source": [
    "import scipy.stats"
   ]
  },
  {
   "cell_type": "code",
   "execution_count": 15,
   "metadata": {
    "id": "FH9_8fHjbPAF"
   },
   "outputs": [],
   "source": [
    "def p_from_t(t, n):\n",
    "    \"\"\"Compute 1-sided p-value from Student statistic `t` with `n` observations\"\"\"\n",
    "    # sf is survival function: 1 - CDF\n",
    "    return scipy.stats.t.sf(t, n-1)\n",
    "    "
   ]
  },
  {
   "cell_type": "code",
   "execution_count": 16,
   "metadata": {
    "colab": {
     "base_uri": "https://localhost:8080/",
     "height": 446
    },
    "id": "ru4y0bC_cAk8",
    "outputId": "429694eb-fbfe-4356-9fc7-c8823bf3d33d"
   },
   "outputs": [
    {
     "data": {
      "text/html": [
       "<div>\n",
       "<style scoped>\n",
       "    .dataframe tbody tr th:only-of-type {\n",
       "        vertical-align: middle;\n",
       "    }\n",
       "\n",
       "    .dataframe tbody tr th {\n",
       "        vertical-align: top;\n",
       "    }\n",
       "\n",
       "    .dataframe thead th {\n",
       "        text-align: right;\n",
       "    }\n",
       "</style>\n",
       "<table border=\"1\" class=\"dataframe\">\n",
       "  <thead>\n",
       "    <tr style=\"text-align: right;\">\n",
       "      <th></th>\n",
       "      <th>r</th>\n",
       "      <th>t</th>\n",
       "      <th>p</th>\n",
       "    </tr>\n",
       "  </thead>\n",
       "  <tbody>\n",
       "    <tr>\n",
       "      <th>0</th>\n",
       "      <td>0.000</td>\n",
       "      <td>0.000000</td>\n",
       "      <td>0.500000</td>\n",
       "    </tr>\n",
       "    <tr>\n",
       "      <th>1</th>\n",
       "      <td>0.200</td>\n",
       "      <td>0.456435</td>\n",
       "      <td>0.332067</td>\n",
       "    </tr>\n",
       "    <tr>\n",
       "      <th>2</th>\n",
       "      <td>0.400</td>\n",
       "      <td>0.975900</td>\n",
       "      <td>0.183401</td>\n",
       "    </tr>\n",
       "    <tr>\n",
       "      <th>3</th>\n",
       "      <td>0.500</td>\n",
       "      <td>1.290994</td>\n",
       "      <td>0.122106</td>\n",
       "    </tr>\n",
       "    <tr>\n",
       "      <th>4</th>\n",
       "      <td>0.600</td>\n",
       "      <td>1.677051</td>\n",
       "      <td>0.072273</td>\n",
       "    </tr>\n",
       "    <tr>\n",
       "      <th>5</th>\n",
       "      <td>0.700</td>\n",
       "      <td>2.191785</td>\n",
       "      <td>0.035450</td>\n",
       "    </tr>\n",
       "    <tr>\n",
       "      <th>6</th>\n",
       "      <td>0.779</td>\n",
       "      <td>2.778039</td>\n",
       "      <td>0.016040</td>\n",
       "    </tr>\n",
       "    <tr>\n",
       "      <th>7</th>\n",
       "      <td>0.800</td>\n",
       "      <td>2.981424</td>\n",
       "      <td>0.012296</td>\n",
       "    </tr>\n",
       "    <tr>\n",
       "      <th>8</th>\n",
       "      <td>0.900</td>\n",
       "      <td>4.616903</td>\n",
       "      <td>0.001814</td>\n",
       "    </tr>\n",
       "    <tr>\n",
       "      <th>9</th>\n",
       "      <td>0.908</td>\n",
       "      <td>4.846048</td>\n",
       "      <td>0.001432</td>\n",
       "    </tr>\n",
       "    <tr>\n",
       "      <th>10</th>\n",
       "      <td>0.950</td>\n",
       "      <td>6.803091</td>\n",
       "      <td>0.000247</td>\n",
       "    </tr>\n",
       "    <tr>\n",
       "      <th>11</th>\n",
       "      <td>0.981</td>\n",
       "      <td>11.306677</td>\n",
       "      <td>0.000014</td>\n",
       "    </tr>\n",
       "  </tbody>\n",
       "</table>\n",
       "</div>"
      ],
      "text/plain": [
       "        r          t         p\n",
       "0   0.000   0.000000  0.500000\n",
       "1   0.200   0.456435  0.332067\n",
       "2   0.400   0.975900  0.183401\n",
       "3   0.500   1.290994  0.122106\n",
       "4   0.600   1.677051  0.072273\n",
       "5   0.700   2.191785  0.035450\n",
       "6   0.779   2.778039  0.016040\n",
       "7   0.800   2.981424  0.012296\n",
       "8   0.900   4.616903  0.001814\n",
       "9   0.908   4.846048  0.001432\n",
       "10  0.950   6.803091  0.000247\n",
       "11  0.981  11.306677  0.000014"
      ]
     },
     "execution_count": 16,
     "metadata": {},
     "output_type": "execute_result"
    }
   ],
   "source": [
    "N = 7\n",
    "rvals = np.array([0.0, 0.2, 0.4, 0.5, 0.6, 0.7, 0.779, 0.8, 0.9, 0.908, 0.95, 0.981])\n",
    "tvals = tstatistic(rvals, N)\n",
    "pvals = p_from_t(tvals, N)\n",
    "pd.DataFrame(\n",
    "    {\"r\": rvals, \"t\": tvals, \"p\": pvals}\n",
    ")"
   ]
  },
  {
   "cell_type": "code",
   "execution_count": 17,
   "metadata": {
    "colab": {
     "base_uri": "https://localhost:8080/",
     "height": 332
    },
    "id": "LOdQN93OdF-w",
    "outputId": "b8f2ecc1-f0b2-491f-ac34-b537f25b8735"
   },
   "outputs": [
    {
     "data": {
      "image/png": "[encoded data removed]",
      "text/plain": [
       "<Figure size 432x288 with 1 Axes>"
      ]
     },
     "metadata": {
      "needs_background": "light"
     },
     "output_type": "display_data"
    }
   ],
   "source": [
    "fig, ax = plt.subplots()\n",
    "for N in 3, 5, 7:\n",
    "    rvals = np.linspace(0.0, 1.0, 100, endpoint=False)\n",
    "    tvals = tstatistic(rvals, N)\n",
    "    pvals = p_from_t(tvals, N)\n",
    "    ax.plot(rvals, pvals, label=f\"N = {N}\")\n",
    "for p0 in 0.05, 0.01, 0.001:\n",
    "    ax.axhline(p0, color=\"k\", ls=\"--\", lw=0.5)\n",
    "    ax.text(1.07, p0, f\"{100*(1-p0):.1f}%\", \n",
    "            va=\"center\", ha=\"center\", fontsize=\"xx-small\", \n",
    "            bbox={\"color\": \"w\"})\n",
    "ax.legend(title=\"# of samples\")\n",
    "ax.set(\n",
    "    xlabel=\"Sample Pearson correlation, $r$\",\n",
    "    ylabel=\"$p$-value\",\n",
    "    yscale=\"log\",\n",
    "    xlim=[-0.05, 1.15],\n",
    "    ylim=[1.1e-5, 1.1],\n",
    ");"
   ]
  },
  {
   "cell_type": "markdown",
   "metadata": {
    "id": "Pv_EECxBvyeg"
   },
   "source": [
    "I have marked confidence levels for nominal $p$-values of 0.05, 0.01, and 0.001, which are often used to judge significance.   This implies that all the correlations that we listed above are highly significant.  For instance, the correlation of $\\sigma$ with luminosity, with $r=0.77$, has $p = 0.011$, so close to the 99% confidence level. \n",
    "\n",
    "Despite the good correlation, there is a factor of 4 difference in $\\sigma$ between Carina and 30~Dor, despite similar luminosities.  **Need to check these luminostiy values**. "
   ]
  },
  {
   "cell_type": "code",
   "execution_count": null,
   "metadata": {},
   "outputs": [],
   "source": []
  },
  {
   "cell_type": "code",
   "execution_count": 18,
   "metadata": {},
   "outputs": [],
   "source": [
    "sigma=[15.8,2.1,\n",
    "2.74,\n",
    "2.8,\n",
    "3.59,\n",
    "6.64,\n",
    "8.4,\n",
    "8.1,7.1]\n"
   ]
  },
  {
   "cell_type": "code",
   "execution_count": 19,
   "metadata": {},
   "outputs": [],
   "source": [
    "r0=[2.7,0.28,\n",
    "1.05,\n",
    "3.58,\n",
    "4.65,\n",
    "11.17,\n",
    "11.23,\n",
    "1.2,0.5]"
   ]
  },
  {
   "cell_type": "code",
   "execution_count": 20,
   "metadata": {},
   "outputs": [
    {
     "data": {
      "image/png": "[encoded data removed]",
      "text/plain": [
       "<Figure size 432x288 with 1 Axes>"
      ]
     },
     "metadata": {
      "needs_background": "light"
     },
     "output_type": "display_data"
    }
   ],
   "source": [
    "\n",
    "plt.scatter(r0,sigma)\n",
    "\n",
    "sgrid = np.logspace(-1, 1.2)\n",
    "plt.plot(sgrid, 2.1278*np.exp(0.111*sgrid), color=\"k\", lw=2, linestyle='--')\n",
    "\n",
    "plt.yscale('log')\n",
    "plt.xscale('log')"
   ]
  },
  {
   "cell_type": "code",
   "execution_count": null,
   "metadata": {},
   "outputs": [],
   "source": []
  },
  {
   "cell_type": "code",
   "execution_count": 21,
   "metadata": {
    "id": "ktZZMIJNgkz8"
   },
   "outputs": [
    {
     "name": "stdout",
     "output_type": "stream",
     "text": [
      "--- 20.48961067199707 seconds ---\n"
     ]
    }
   ],
   "source": [
    "print(\"--- %s seconds ---\" % (time.time()-start_time))"
   ]
  }
 ],
 "metadata": {
  "colab": {
   "name": "Structure function correlations",
   "provenance": []
  },
  "kernelspec": {
   "display_name": "Python 3",
   "language": "python",
   "name": "python3"
  },
  "language_info": {
   "codemirror_mode": {
    "name": "ipython",
    "version": 3
   },
   "file_extension": ".py",
   "mimetype": "text/x-python",
   "name": "python",
   "nbconvert_exporter": "python",
   "pygments_lexer": "ipython3",
   "version": "3.8.3"
  }
 },
 "nbformat": 4,
 "nbformat_minor": 1
}
