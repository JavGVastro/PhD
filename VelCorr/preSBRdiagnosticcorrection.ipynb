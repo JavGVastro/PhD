{
 "cells": [
  {
   "cell_type": "code",
   "execution_count": 1,
   "metadata": {},
   "outputs": [],
   "source": [
    "import time\n",
    "start_time=time.time()"
   ]
  },
  {
   "cell_type": "code",
   "execution_count": 2,
   "metadata": {},
   "outputs": [],
   "source": [
    "import numpy as np\n",
    "import seaborn as sns\n",
    "import pandas as pd\n",
    "import matplotlib.pyplot as plt\n",
    "import os\n",
    "import sys\n",
    "import pickle\n",
    "\n",
    "from CorrPol import CPV,CPH"
   ]
  },
  {
   "cell_type": "code",
   "execution_count": 3,
   "metadata": {},
   "outputs": [],
   "source": [
    "reg=['604','595']\n",
    "inst=['I','T']\n",
    "lin=['H','N','O','S']\n",
    "sam=['A','B','C']"
   ]
  },
  {
   "cell_type": "code",
   "execution_count": 4,
   "metadata": {},
   "outputs": [
    {
     "data": {
      "text/plain": [
       "'595ISC'"
      ]
     },
     "execution_count": 4,
     "metadata": {},
     "output_type": "execute_result"
    }
   ],
   "source": [
    "r=1\n",
    "i=0\n",
    "l=3\n",
    "s=2\n",
    "\n",
    "datat=reg[r]+inst[i]+lin[l]+sam[s]\n",
    "datat"
   ]
  },
  {
   "cell_type": "code",
   "execution_count": 5,
   "metadata": {},
   "outputs": [
    {
     "data": {
      "text/html": [
       "<div>\n",
       "<style scoped>\n",
       "    .dataframe tbody tr th:only-of-type {\n",
       "        vertical-align: middle;\n",
       "    }\n",
       "\n",
       "    .dataframe tbody tr th {\n",
       "        vertical-align: top;\n",
       "    }\n",
       "\n",
       "    .dataframe thead th {\n",
       "        text-align: right;\n",
       "    }\n",
       "</style>\n",
       "<table border=\"1\" class=\"dataframe\">\n",
       "  <thead>\n",
       "    <tr style=\"text-align: right;\">\n",
       "      <th></th>\n",
       "      <th>X</th>\n",
       "      <th>Y</th>\n",
       "      <th>Center</th>\n",
       "      <th>Peak</th>\n",
       "      <th>Width</th>\n",
       "      <th>RV</th>\n",
       "      <th>Sig</th>\n",
       "    </tr>\n",
       "  </thead>\n",
       "  <tbody>\n",
       "    <tr>\n",
       "      <th>count</th>\n",
       "      <td>116.000000</td>\n",
       "      <td>116.000000</td>\n",
       "      <td>116.000000</td>\n",
       "      <td>116.000000</td>\n",
       "      <td>116.000000</td>\n",
       "      <td>116.000000</td>\n",
       "      <td>79.000000</td>\n",
       "    </tr>\n",
       "    <tr>\n",
       "      <th>mean</th>\n",
       "      <td>100.864009</td>\n",
       "      <td>7.931034</td>\n",
       "      <td>6726.302776</td>\n",
       "      <td>157.560793</td>\n",
       "      <td>0.866526</td>\n",
       "      <td>-183.306075</td>\n",
       "      <td>8.670563</td>\n",
       "    </tr>\n",
       "    <tr>\n",
       "      <th>std</th>\n",
       "      <td>7.454437</td>\n",
       "      <td>6.144243</td>\n",
       "      <td>0.158234</td>\n",
       "      <td>203.222759</td>\n",
       "      <td>0.237350</td>\n",
       "      <td>7.047580</td>\n",
       "      <td>5.202018</td>\n",
       "    </tr>\n",
       "    <tr>\n",
       "      <th>min</th>\n",
       "      <td>88.506000</td>\n",
       "      <td>0.000000</td>\n",
       "      <td>6725.811000</td>\n",
       "      <td>1.660000</td>\n",
       "      <td>-0.877000</td>\n",
       "      <td>-205.209313</td>\n",
       "      <td>0.939071</td>\n",
       "    </tr>\n",
       "    <tr>\n",
       "      <th>25%</th>\n",
       "      <td>95.211000</td>\n",
       "      <td>2.000000</td>\n",
       "      <td>6726.175750</td>\n",
       "      <td>56.395000</td>\n",
       "      <td>0.780000</td>\n",
       "      <td>-188.963688</td>\n",
       "      <td>5.198260</td>\n",
       "    </tr>\n",
       "    <tr>\n",
       "      <th>50%</th>\n",
       "      <td>99.904500</td>\n",
       "      <td>8.000000</td>\n",
       "      <td>6726.341000</td>\n",
       "      <td>105.450000</td>\n",
       "      <td>0.843500</td>\n",
       "      <td>-181.603608</td>\n",
       "      <td>7.892785</td>\n",
       "    </tr>\n",
       "    <tr>\n",
       "      <th>75%</th>\n",
       "      <td>106.274250</td>\n",
       "      <td>14.000000</td>\n",
       "      <td>6726.416000</td>\n",
       "      <td>194.050000</td>\n",
       "      <td>0.940250</td>\n",
       "      <td>-178.263178</td>\n",
       "      <td>10.970186</td>\n",
       "    </tr>\n",
       "    <tr>\n",
       "      <th>max</th>\n",
       "      <td>116.667000</td>\n",
       "      <td>22.000000</td>\n",
       "      <td>6726.630000</td>\n",
       "      <td>1937.000000</td>\n",
       "      <td>1.587000</td>\n",
       "      <td>-168.731817</td>\n",
       "      <td>25.957314</td>\n",
       "    </tr>\n",
       "  </tbody>\n",
       "</table>\n",
       "</div>"
      ],
      "text/plain": [
       "                X           Y       Center         Peak       Width  \\\n",
       "count  116.000000  116.000000   116.000000   116.000000  116.000000   \n",
       "mean   100.864009    7.931034  6726.302776   157.560793    0.866526   \n",
       "std      7.454437    6.144243     0.158234   203.222759    0.237350   \n",
       "min     88.506000    0.000000  6725.811000     1.660000   -0.877000   \n",
       "25%     95.211000    2.000000  6726.175750    56.395000    0.780000   \n",
       "50%     99.904500    8.000000  6726.341000   105.450000    0.843500   \n",
       "75%    106.274250   14.000000  6726.416000   194.050000    0.940250   \n",
       "max    116.667000   22.000000  6726.630000  1937.000000    1.587000   \n",
       "\n",
       "               RV        Sig  \n",
       "count  116.000000  79.000000  \n",
       "mean  -183.306075   8.670563  \n",
       "std      7.047580   5.202018  \n",
       "min   -205.209313   0.939071  \n",
       "25%   -188.963688   5.198260  \n",
       "50%   -181.603608   7.892785  \n",
       "75%   -178.263178  10.970186  \n",
       "max   -168.731817  25.957314  "
      ]
     },
     "execution_count": 5,
     "metadata": {},
     "output_type": "execute_result"
    }
   ],
   "source": [
    "data=pd.read_csv('Res\\\\'+datat+'.csv')\n",
    "data=data.rename(columns={'Unnamed: 0':'No'})\n",
    "data=data.drop('No',axis=1)\n",
    "#os.remove(datap)\n",
    "data.describe()"
   ]
  },
  {
   "cell_type": "markdown",
   "metadata": {},
   "source": [
    "ISIS"
   ]
  },
  {
   "cell_type": "code",
   "execution_count": 6,
   "metadata": {},
   "outputs": [
    {
     "data": {
      "text/html": [
       "<div>\n",
       "<style scoped>\n",
       "    .dataframe tbody tr th:only-of-type {\n",
       "        vertical-align: middle;\n",
       "    }\n",
       "\n",
       "    .dataframe tbody tr th {\n",
       "        vertical-align: top;\n",
       "    }\n",
       "\n",
       "    .dataframe thead th {\n",
       "        text-align: right;\n",
       "    }\n",
       "</style>\n",
       "<table border=\"1\" class=\"dataframe\">\n",
       "  <thead>\n",
       "    <tr style=\"text-align: right;\">\n",
       "      <th></th>\n",
       "      <th>X</th>\n",
       "      <th>Y</th>\n",
       "      <th>RV</th>\n",
       "      <th>I</th>\n",
       "    </tr>\n",
       "  </thead>\n",
       "  <tbody>\n",
       "    <tr>\n",
       "      <th>count</th>\n",
       "      <td>116.000000</td>\n",
       "      <td>116.000000</td>\n",
       "      <td>116.000000</td>\n",
       "      <td>116.000000</td>\n",
       "    </tr>\n",
       "    <tr>\n",
       "      <th>mean</th>\n",
       "      <td>100.864009</td>\n",
       "      <td>7.931034</td>\n",
       "      <td>-183.306075</td>\n",
       "      <td>157.560793</td>\n",
       "    </tr>\n",
       "    <tr>\n",
       "      <th>std</th>\n",
       "      <td>7.454437</td>\n",
       "      <td>6.144243</td>\n",
       "      <td>7.047580</td>\n",
       "      <td>203.222759</td>\n",
       "    </tr>\n",
       "    <tr>\n",
       "      <th>min</th>\n",
       "      <td>88.506000</td>\n",
       "      <td>0.000000</td>\n",
       "      <td>-205.209313</td>\n",
       "      <td>1.660000</td>\n",
       "    </tr>\n",
       "    <tr>\n",
       "      <th>25%</th>\n",
       "      <td>95.211000</td>\n",
       "      <td>2.000000</td>\n",
       "      <td>-188.963688</td>\n",
       "      <td>56.395000</td>\n",
       "    </tr>\n",
       "    <tr>\n",
       "      <th>50%</th>\n",
       "      <td>99.904500</td>\n",
       "      <td>8.000000</td>\n",
       "      <td>-181.603608</td>\n",
       "      <td>105.450000</td>\n",
       "    </tr>\n",
       "    <tr>\n",
       "      <th>75%</th>\n",
       "      <td>106.274250</td>\n",
       "      <td>14.000000</td>\n",
       "      <td>-178.263178</td>\n",
       "      <td>194.050000</td>\n",
       "    </tr>\n",
       "    <tr>\n",
       "      <th>max</th>\n",
       "      <td>116.667000</td>\n",
       "      <td>22.000000</td>\n",
       "      <td>-168.731817</td>\n",
       "      <td>1937.000000</td>\n",
       "    </tr>\n",
       "  </tbody>\n",
       "</table>\n",
       "</div>"
      ],
      "text/plain": [
       "                X           Y          RV            I\n",
       "count  116.000000  116.000000  116.000000   116.000000\n",
       "mean   100.864009    7.931034 -183.306075   157.560793\n",
       "std      7.454437    6.144243    7.047580   203.222759\n",
       "min     88.506000    0.000000 -205.209313     1.660000\n",
       "25%     95.211000    2.000000 -188.963688    56.395000\n",
       "50%     99.904500    8.000000 -181.603608   105.450000\n",
       "75%    106.274250   14.000000 -178.263178   194.050000\n",
       "max    116.667000   22.000000 -168.731817  1937.000000"
      ]
     },
     "execution_count": 6,
     "metadata": {},
     "output_type": "execute_result"
    }
   ],
   "source": [
    "dataX=[data.X,data.Y,data.RV,data.Peak]\n",
    "headers=[\"X\",\"Y\",\"RV\",\"I\"]\n",
    "dt=pd.concat(dataX, axis=1, keys=headers)\n",
    "dt.describe()"
   ]
  },
  {
   "cell_type": "markdown",
   "metadata": {},
   "source": [
    "TAURUS"
   ]
  },
  {
   "cell_type": "code",
   "execution_count": 7,
   "metadata": {},
   "outputs": [],
   "source": [
    "#dt=data"
   ]
  },
  {
   "cell_type": "code",
   "execution_count": 8,
   "metadata": {},
   "outputs": [
    {
     "name": "stdout",
     "output_type": "stream",
     "text": [
      " \n",
      "-183.3\n",
      " \n",
      "0.287 x - 212.3\n",
      "           2\n",
      "7.967e-05 x + 0.2708 x - 211.4\n",
      "          3         2\n",
      "0.003495 x - 1.067 x + 108.5 x - 3857\n",
      "           4          3         2\n",
      "0.0003408 x - 0.1357 x + 20.18 x - 1329 x + 3.254e+04\n",
      "           5            4          3         2\n",
      "8.141e-06 x - 0.003818 x + 0.7125 x - 66.11 x + 3051 x - 5.622e+04\n",
      "            6           5          4        3        2\n",
      "-4.354e-06 x + 0.00268 x - 0.6858 x + 93.4 x - 7139 x + 2.904e+05 x - 4.912e+06\n"
     ]
    }
   ],
   "source": [
    "argo1=CPH(dt,7,reg[r],inst[i],lin[l],sam[s])"
   ]
  },
  {
   "cell_type": "code",
   "execution_count": 9,
   "metadata": {},
   "outputs": [
    {
     "name": "stdout",
     "output_type": "stream",
     "text": [
      " \n",
      "-183.3\n",
      " \n",
      "-0.837 x - 176.7\n",
      "          2\n",
      "-0.02084 x - 0.4604 x - 177.6\n",
      "          3          2\n",
      "0.002655 x - 0.1015 x + 0.1585 x - 178.3\n",
      "           4            3           2\n",
      "0.0001641 x - 0.004208 x - 0.01348 x - 0.1925 x - 178.1\n",
      "            5            4          3          2\n",
      "-2.969e-05 x + 0.001714 x - 0.0322 x + 0.1901 x - 0.6932 x - 177.9\n",
      "           6            5           4          3         2\n",
      "2.484e-05 x - 0.001587 x + 0.03794 x - 0.4149 x + 1.968 x - 3.507 x - 177.6\n"
     ]
    }
   ],
   "source": [
    "argo2=CPV(dt,7,reg[r],inst[i],lin[l],sam[s])"
   ]
  },
  {
   "cell_type": "code",
   "execution_count": 10,
   "metadata": {},
   "outputs": [],
   "source": [
    "#pickle_in = open(datat+\"H.pkl\",\"rb\")\n",
    "#example_dict = pickle.load(pickle_in)"
   ]
  },
  {
   "cell_type": "code",
   "execution_count": 11,
   "metadata": {},
   "outputs": [
    {
     "name": "stdout",
     "output_type": "stream",
     "text": [
      "--- 2.802142858505249 seconds ---\n"
     ]
    }
   ],
   "source": [
    "print(\"--- %s seconds ---\" % (time.time()-start_time))"
   ]
  }
 ],
 "metadata": {
  "kernelspec": {
   "display_name": "Python 3",
   "language": "python",
   "name": "python3"
  },
  "language_info": {
   "codemirror_mode": {
    "name": "ipython",
    "version": 3
   },
   "file_extension": ".py",
   "mimetype": "text/x-python",
   "name": "python",
   "nbconvert_exporter": "python",
   "pygments_lexer": "ipython3",
   "version": "3.8.3"
  }
 },
 "nbformat": 4,
 "nbformat_minor": 4
}
