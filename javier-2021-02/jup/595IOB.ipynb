{
 "cells": [
  {
   "cell_type": "code",
   "execution_count": 1,
   "metadata": {},
   "outputs": [],
   "source": [
    "import time\n",
    "start_time=time.time()"
   ]
  },
  {
   "cell_type": "code",
   "execution_count": 2,
   "metadata": {},
   "outputs": [],
   "source": [
    "import numpy as np\n",
    "import seaborn as sns\n",
    "import pandas as pd\n",
    "import matplotlib.pyplot as plt\n",
    "import os\n",
    "#import sys\n",
    "import pickle\n",
    "import itertools\n",
    "import statsmodels.api as sm\n",
    "from scipy import interpolate"
   ]
  },
  {
   "cell_type": "code",
   "execution_count": 3,
   "metadata": {},
   "outputs": [],
   "source": [
    "from sabreMod import sosf,sosfn,acf,sosfh\n",
    "from sabre import sosfw"
   ]
  },
  {
   "cell_type": "code",
   "execution_count": 4,
   "metadata": {},
   "outputs": [],
   "source": [
    "plt.rcParams[\"font.family\"]=\"Times New Roman\"\n",
    "plt.rcParams[\"font.size\"]=\"20\""
   ]
  },
  {
   "cell_type": "code",
   "execution_count": 5,
   "metadata": {},
   "outputs": [],
   "source": [
    "samples=pd.read_csv('Res//listdata.txt',header=None)\n",
    "#samples"
   ]
  },
  {
   "cell_type": "code",
   "execution_count": 6,
   "metadata": {},
   "outputs": [
    {
     "data": {
      "text/plain": [
       "4.074"
      ]
     },
     "execution_count": 6,
     "metadata": {},
     "output_type": "execute_result"
    }
   ],
   "source": [
    "d=840000\n",
    "pc=d*(4.85*10**(-6))\n",
    "pc"
   ]
  },
  {
   "cell_type": "code",
   "execution_count": 7,
   "metadata": {},
   "outputs": [
    {
     "data": {
      "text/plain": [
       "'595IOB'"
      ]
     },
     "execution_count": 7,
     "metadata": {},
     "output_type": "execute_result"
    }
   ],
   "source": [
    "i=5\n",
    "samples[0][i]"
   ]
  },
  {
   "cell_type": "code",
   "execution_count": 8,
   "metadata": {},
   "outputs": [
    {
     "data": {
      "text/html": [
       "<div>\n",
       "<style scoped>\n",
       "    .dataframe tbody tr th:only-of-type {\n",
       "        vertical-align: middle;\n",
       "    }\n",
       "\n",
       "    .dataframe tbody tr th {\n",
       "        vertical-align: top;\n",
       "    }\n",
       "\n",
       "    .dataframe thead th {\n",
       "        text-align: right;\n",
       "    }\n",
       "</style>\n",
       "<table border=\"1\" class=\"dataframe\">\n",
       "  <thead>\n",
       "    <tr style=\"text-align: right;\">\n",
       "      <th></th>\n",
       "      <th>X</th>\n",
       "      <th>Y</th>\n",
       "      <th>Center</th>\n",
       "      <th>Peak</th>\n",
       "      <th>Width</th>\n",
       "      <th>RV</th>\n",
       "      <th>Sig</th>\n",
       "    </tr>\n",
       "  </thead>\n",
       "  <tbody>\n",
       "    <tr>\n",
       "      <th>count</th>\n",
       "      <td>134.000000</td>\n",
       "      <td>134.000000</td>\n",
       "      <td>134.000000</td>\n",
       "      <td>134.000000</td>\n",
       "      <td>134.000000</td>\n",
       "      <td>134.000000</td>\n",
       "      <td>116.000000</td>\n",
       "    </tr>\n",
       "    <tr>\n",
       "      <th>mean</th>\n",
       "      <td>110.973421</td>\n",
       "      <td>10.283582</td>\n",
       "      <td>5003.079612</td>\n",
       "      <td>56.122858</td>\n",
       "      <td>0.938127</td>\n",
       "      <td>-202.845128</td>\n",
       "      <td>19.558528</td>\n",
       "    </tr>\n",
       "    <tr>\n",
       "      <th>std</th>\n",
       "      <td>6.591890</td>\n",
       "      <td>7.025851</td>\n",
       "      <td>0.238262</td>\n",
       "      <td>51.439274</td>\n",
       "      <td>0.505269</td>\n",
       "      <td>14.266130</td>\n",
       "      <td>7.870632</td>\n",
       "    </tr>\n",
       "    <tr>\n",
       "      <th>min</th>\n",
       "      <td>100.128000</td>\n",
       "      <td>0.000000</td>\n",
       "      <td>5002.349000</td>\n",
       "      <td>5.633000</td>\n",
       "      <td>-1.096000</td>\n",
       "      <td>-246.591148</td>\n",
       "      <td>3.324603</td>\n",
       "    </tr>\n",
       "    <tr>\n",
       "      <th>25%</th>\n",
       "      <td>105.849600</td>\n",
       "      <td>5.000000</td>\n",
       "      <td>5002.958250</td>\n",
       "      <td>21.055000</td>\n",
       "      <td>0.889000</td>\n",
       "      <td>-210.111779</td>\n",
       "      <td>14.916126</td>\n",
       "    </tr>\n",
       "    <tr>\n",
       "      <th>50%</th>\n",
       "      <td>110.856000</td>\n",
       "      <td>11.000000</td>\n",
       "      <td>5003.131000</td>\n",
       "      <td>38.805000</td>\n",
       "      <td>1.013000</td>\n",
       "      <td>-199.768223</td>\n",
       "      <td>18.140136</td>\n",
       "    </tr>\n",
       "    <tr>\n",
       "      <th>75%</th>\n",
       "      <td>116.935200</td>\n",
       "      <td>15.000000</td>\n",
       "      <td>5003.231500</td>\n",
       "      <td>69.567500</td>\n",
       "      <td>1.122500</td>\n",
       "      <td>-193.750699</td>\n",
       "      <td>22.254086</td>\n",
       "    </tr>\n",
       "    <tr>\n",
       "      <th>max</th>\n",
       "      <td>121.584000</td>\n",
       "      <td>22.000000</td>\n",
       "      <td>5003.520000</td>\n",
       "      <td>293.000000</td>\n",
       "      <td>2.082000</td>\n",
       "      <td>-176.476512</td>\n",
       "      <td>49.368493</td>\n",
       "    </tr>\n",
       "  </tbody>\n",
       "</table>\n",
       "</div>"
      ],
      "text/plain": [
       "                X           Y       Center        Peak       Width  \\\n",
       "count  134.000000  134.000000   134.000000  134.000000  134.000000   \n",
       "mean   110.973421   10.283582  5003.079612   56.122858    0.938127   \n",
       "std      6.591890    7.025851     0.238262   51.439274    0.505269   \n",
       "min    100.128000    0.000000  5002.349000    5.633000   -1.096000   \n",
       "25%    105.849600    5.000000  5002.958250   21.055000    0.889000   \n",
       "50%    110.856000   11.000000  5003.131000   38.805000    1.013000   \n",
       "75%    116.935200   15.000000  5003.231500   69.567500    1.122500   \n",
       "max    121.584000   22.000000  5003.520000  293.000000    2.082000   \n",
       "\n",
       "               RV         Sig  \n",
       "count  134.000000  116.000000  \n",
       "mean  -202.845128   19.558528  \n",
       "std     14.266130    7.870632  \n",
       "min   -246.591148    3.324603  \n",
       "25%   -210.111779   14.916126  \n",
       "50%   -199.768223   18.140136  \n",
       "75%   -193.750699   22.254086  \n",
       "max   -176.476512   49.368493  "
      ]
     },
     "execution_count": 8,
     "metadata": {},
     "output_type": "execute_result"
    }
   ],
   "source": [
    "dt=pd.read_csv('Res//'+samples[0][i]+'.csv')\n",
    "#dt=pd.read_csv('datos Car.csv')\n",
    "dt=dt.rename(columns={'Unnamed: 0':'No'})\n",
    "dt=dt.drop('No',axis=1)\n",
    "#os.remove(datap)\n",
    "dt.describe()"
   ]
  },
  {
   "cell_type": "code",
   "execution_count": 9,
   "metadata": {},
   "outputs": [
    {
     "data": {
      "text/plain": [
       "(99.0552, 122.6568, -1.1, 23.1)"
      ]
     },
     "execution_count": 9,
     "metadata": {},
     "output_type": "execute_result"
    },
    {
     "data": {
      "image/png": "[encoded data removed]",
      "text/plain": [
       "<Figure size 432x288 with 2 Axes>"
      ]
     },
     "metadata": {
      "needs_background": "light"
     },
     "output_type": "display_data"
    }
   ],
   "source": [
    "plt.scatter(dt.X,dt.Y,c=dt.RV, s=100,marker='s')\n",
    "plt.colorbar()\n",
    "plt.axis('equal')"
   ]
  },
  {
   "cell_type": "code",
   "execution_count": 10,
   "metadata": {},
   "outputs": [
    {
     "data": {
      "text/plain": [
       "(99.0552, 122.6568, -1.1, 23.1)"
      ]
     },
     "execution_count": 10,
     "metadata": {},
     "output_type": "execute_result"
    },
    {
     "data": {
      "image/png": "[encoded data removed]",
      "text/plain": [
       "<Figure size 432x288 with 2 Axes>"
      ]
     },
     "metadata": {
      "needs_background": "light"
     },
     "output_type": "display_data"
    }
   ],
   "source": [
    "plt.scatter(dt.X,dt.Y,c=dt.Peak, s=100,marker='s',cmap='magma')\n",
    "plt.colorbar()\n",
    "plt.axis('equal')"
   ]
  },
  {
   "cell_type": "code",
   "execution_count": 11,
   "metadata": {
    "scrolled": true
   },
   "outputs": [
    {
     "name": "stdout",
     "output_type": "stream",
     "text": [
      "1.0\n"
     ]
    },
    {
     "data": {
      "text/plain": [
       "[None, None]"
      ]
     },
     "execution_count": 11,
     "metadata": {},
     "output_type": "execute_result"
    },
    {
     "data": {
      "image/png": "[encoded data removed]",
      "text/plain": [
       "<Figure size 432x288 with 1 Axes>"
      ]
     },
     "metadata": {
      "needs_background": "light"
     },
     "output_type": "display_data"
    }
   ],
   "source": [
    "SF=sosf(dt)\n",
    "SF.Lag=SF.Lag*pc\n",
    "\n",
    "fig,ax=plt.subplots()\n",
    "\n",
    "ax.errorbar(SF.Lag,SF.Nmqvd, yerr=SF.ErrY, marker='.', fmt=' ',color=\"blue\", ecolor=\"blue\",\n",
    "                     alpha=0.5, markersize=5)\n",
    "\n",
    "ax.set(xscale='log',yscale='log')"
   ]
  },
  {
   "cell_type": "code",
   "execution_count": 12,
   "metadata": {},
   "outputs": [
    {
     "data": {
      "text/plain": [
       "array([41.58320093, 66.64371921, 70.65226947])"
      ]
     },
     "execution_count": 12,
     "metadata": {},
     "output_type": "execute_result"
    }
   ],
   "source": [
    "x=SF['Lag']\n",
    "y=SF['Nmqvd']-2*(dt.RV.std())**2\n",
    "tck=interpolate.splrep(x,y,s=0)\n",
    "grid=np.linspace(x.min(),x.max(),num=len(x))\n",
    "ynew=interpolate.splev(grid,tck,der=0)\n",
    "inter=pd.DataFrame([grid,ynew]).T\n",
    "SFr=interpolate.sproot(tck)\n",
    "SFr"
   ]
  },
  {
   "cell_type": "code",
   "execution_count": 13,
   "metadata": {},
   "outputs": [],
   "source": [
    "s=SFr[0]"
   ]
  },
  {
   "cell_type": "code",
   "execution_count": 14,
   "metadata": {},
   "outputs": [],
   "source": [
    "ss=np.round(2*(dt.RV.std())**2,2)"
   ]
  },
  {
   "cell_type": "code",
   "execution_count": 15,
   "metadata": {},
   "outputs": [
    {
     "data": {
      "image/png": "[encoded data removed]",
      "text/plain": [
       "<Figure size 504x504 with 1 Axes>"
      ]
     },
     "metadata": {
      "needs_background": "light"
     },
     "output_type": "display_data"
    }
   ],
   "source": [
    "fig,ax=plt.subplots(figsize=(7,7))\n",
    "\n",
    "ax.errorbar(SF.Lag,SF.Nmqvd, yerr=SF.ErrY, marker='.', fmt=' ',color=\"blue\", ecolor=\"blue\",\n",
    "                     alpha=0.75, markersize=20)\n",
    "\n",
    "ax.set(xlabel='lag [pc]', ylabel='S$_{2}$(l) [km$^{2}$/s$^{2}$]')\n",
    "\n",
    "plt.axhline(y=2*(dt.RV.std())**2, color='r', linestyle='--')\n",
    "ax.text(0.25, 0.68,'2$σ_{POS}^{2}$ = '+str(ss)+' km/s', ha='center', va='center', transform=ax.transAxes, color='r')\n",
    "\n",
    "\n",
    "plt.axvline(x=s, color='k', linestyle='--')\n",
    "\n",
    "lo=s\n",
    "\n",
    "n=1.6\n",
    "\n",
    "x=np.linspace(8,int(SF.Lag.max()),100)\n",
    "c=1/(1+(x/lo)**n)\n",
    "\n",
    "y=2*(1-c)*2*(dt.RV.std())**2\n",
    "\n",
    "plt.loglog(x,y,color='k', linestyle='-')\n",
    "\n",
    "\n",
    "textstr = '\\n'.join(('NGC 595 ISIS B ' '[OIII]', r'$m=%.2f$'%n, r'$r_{0}=%.2f$' % s+' [pc]',\n",
    "                     r'$σ_{POS}=%.2f$' % (dt.RV.std()) + ' [km/s]' , r'$σ_{LOS}=%.2f$'%(dt.Sig.std()) + ' [km/s]' )) \n",
    "\n",
    "props = dict(boxstyle='round', facecolor='white', alpha=1)\n",
    "ax.text(0.65, .3, textstr, transform=ax.transAxes, fontsize=14,\n",
    "        verticalalignment='top', bbox=props)\n",
    "\n",
    "plt.rcParams[\"font.family\"]=\"Times New Roman\"\n",
    "plt.rcParams[\"font.size\"]=\"20\"\n",
    "\n",
    "fig.savefig('Img//'+samples[0][i]+'.pdf')"
   ]
  },
  {
   "cell_type": "code",
   "execution_count": 16,
   "metadata": {},
   "outputs": [
    {
     "name": "stdout",
     "output_type": "stream",
     "text": [
      "--- 7.022030591964722 seconds ---\n"
     ]
    }
   ],
   "source": [
    "print(\"--- %s seconds ---\" % (time.time()-start_time))"
   ]
  }
 ],
 "metadata": {
  "kernelspec": {
   "display_name": "Python 3",
   "language": "python",
   "name": "python3"
  },
  "language_info": {
   "codemirror_mode": {
    "name": "ipython",
    "version": 3
   },
   "file_extension": ".py",
   "mimetype": "text/x-python",
   "name": "python",
   "nbconvert_exporter": "python",
   "pygments_lexer": "ipython3",
   "version": "3.8.3"
  }
 },
 "nbformat": 4,
 "nbformat_minor": 4
}
