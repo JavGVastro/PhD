{
 "cells": [
  {
   "cell_type": "code",
   "execution_count": 1,
   "metadata": {},
   "outputs": [],
   "source": [
    "import time\n",
    "start_time=time.time()"
   ]
  },
  {
   "cell_type": "code",
   "execution_count": 2,
   "metadata": {},
   "outputs": [],
   "source": [
    "import numpy as np\n",
    "import seaborn as sns\n",
    "import pandas as pd\n",
    "import matplotlib.pyplot as plt\n",
    "import os\n",
    "#import sys\n",
    "import pickle\n",
    "import itertools\n",
    "import statsmodels.api as sm\n",
    "from scipy import interpolate"
   ]
  },
  {
   "cell_type": "code",
   "execution_count": 3,
   "metadata": {},
   "outputs": [],
   "source": [
    "from sabreMod import sosf,sosfn,acf,sosfh\n",
    "from sabre import sosfw"
   ]
  },
  {
   "cell_type": "code",
   "execution_count": 4,
   "metadata": {},
   "outputs": [],
   "source": [
    "plt.rcParams[\"font.family\"]=\"Times New Roman\"\n",
    "plt.rcParams[\"font.size\"]=\"20\""
   ]
  },
  {
   "cell_type": "code",
   "execution_count": 5,
   "metadata": {},
   "outputs": [],
   "source": [
    "samples=pd.read_csv('Res//listdata.txt',header=None)\n",
    "#samples"
   ]
  },
  {
   "cell_type": "code",
   "execution_count": 6,
   "metadata": {},
   "outputs": [
    {
     "data": {
      "text/plain": [
       "4.074"
      ]
     },
     "execution_count": 6,
     "metadata": {},
     "output_type": "execute_result"
    }
   ],
   "source": [
    "d=840000\n",
    "pc=d*(4.85*10**(-6))\n",
    "pc"
   ]
  },
  {
   "cell_type": "code",
   "execution_count": 7,
   "metadata": {},
   "outputs": [
    {
     "data": {
      "text/plain": [
       "'604ISB'"
      ]
     },
     "execution_count": 7,
     "metadata": {},
     "output_type": "execute_result"
    }
   ],
   "source": [
    "i=17\n",
    "samples[0][i]"
   ]
  },
  {
   "cell_type": "code",
   "execution_count": 8,
   "metadata": {},
   "outputs": [
    {
     "data": {
      "text/html": [
       "<div>\n",
       "<style scoped>\n",
       "    .dataframe tbody tr th:only-of-type {\n",
       "        vertical-align: middle;\n",
       "    }\n",
       "\n",
       "    .dataframe tbody tr th {\n",
       "        vertical-align: top;\n",
       "    }\n",
       "\n",
       "    .dataframe thead th {\n",
       "        text-align: right;\n",
       "    }\n",
       "</style>\n",
       "<table border=\"1\" class=\"dataframe\">\n",
       "  <thead>\n",
       "    <tr style=\"text-align: right;\">\n",
       "      <th></th>\n",
       "      <th>X</th>\n",
       "      <th>Y</th>\n",
       "      <th>Center</th>\n",
       "      <th>Peak</th>\n",
       "      <th>Width</th>\n",
       "      <th>RV</th>\n",
       "      <th>Sig</th>\n",
       "    </tr>\n",
       "  </thead>\n",
       "  <tbody>\n",
       "    <tr>\n",
       "      <th>count</th>\n",
       "      <td>285.000000</td>\n",
       "      <td>285.000000</td>\n",
       "      <td>285.000000</td>\n",
       "      <td>285.000000</td>\n",
       "      <td>285.000000</td>\n",
       "      <td>285.000000</td>\n",
       "      <td>244.000000</td>\n",
       "    </tr>\n",
       "    <tr>\n",
       "      <th>mean</th>\n",
       "      <td>109.943649</td>\n",
       "      <td>9.312632</td>\n",
       "      <td>6725.162123</td>\n",
       "      <td>287.437649</td>\n",
       "      <td>0.122035</td>\n",
       "      <td>-225.163823</td>\n",
       "      <td>33.737988</td>\n",
       "    </tr>\n",
       "    <tr>\n",
       "      <th>std</th>\n",
       "      <td>11.335949</td>\n",
       "      <td>6.285853</td>\n",
       "      <td>0.233580</td>\n",
       "      <td>215.872677</td>\n",
       "      <td>15.779914</td>\n",
       "      <td>10.403754</td>\n",
       "      <td>320.561402</td>\n",
       "    </tr>\n",
       "    <tr>\n",
       "      <th>min</th>\n",
       "      <td>91.190000</td>\n",
       "      <td>0.000000</td>\n",
       "      <td>6724.307000</td>\n",
       "      <td>42.180000</td>\n",
       "      <td>-265.259000</td>\n",
       "      <td>-263.251327</td>\n",
       "      <td>0.651997</td>\n",
       "    </tr>\n",
       "    <tr>\n",
       "      <th>25%</th>\n",
       "      <td>100.580000</td>\n",
       "      <td>4.000000</td>\n",
       "      <td>6725.017000</td>\n",
       "      <td>142.500000</td>\n",
       "      <td>0.833000</td>\n",
       "      <td>-231.627650</td>\n",
       "      <td>6.556687</td>\n",
       "    </tr>\n",
       "    <tr>\n",
       "      <th>50%</th>\n",
       "      <td>109.960000</td>\n",
       "      <td>8.000000</td>\n",
       "      <td>6725.131000</td>\n",
       "      <td>230.200000</td>\n",
       "      <td>0.934000</td>\n",
       "      <td>-226.550045</td>\n",
       "      <td>10.358860</td>\n",
       "    </tr>\n",
       "    <tr>\n",
       "      <th>75%</th>\n",
       "      <td>119.350000</td>\n",
       "      <td>15.000000</td>\n",
       "      <td>6725.305000</td>\n",
       "      <td>375.500000</td>\n",
       "      <td>1.138000</td>\n",
       "      <td>-218.800017</td>\n",
       "      <td>16.453360</td>\n",
       "    </tr>\n",
       "    <tr>\n",
       "      <th>max</th>\n",
       "      <td>128.740000</td>\n",
       "      <td>19.600000</td>\n",
       "      <td>6726.060000</td>\n",
       "      <td>1568.000000</td>\n",
       "      <td>3.109000</td>\n",
       "      <td>-185.172023</td>\n",
       "      <td>5018.317077</td>\n",
       "    </tr>\n",
       "  </tbody>\n",
       "</table>\n",
       "</div>"
      ],
      "text/plain": [
       "                X           Y       Center         Peak       Width  \\\n",
       "count  285.000000  285.000000   285.000000   285.000000  285.000000   \n",
       "mean   109.943649    9.312632  6725.162123   287.437649    0.122035   \n",
       "std     11.335949    6.285853     0.233580   215.872677   15.779914   \n",
       "min     91.190000    0.000000  6724.307000    42.180000 -265.259000   \n",
       "25%    100.580000    4.000000  6725.017000   142.500000    0.833000   \n",
       "50%    109.960000    8.000000  6725.131000   230.200000    0.934000   \n",
       "75%    119.350000   15.000000  6725.305000   375.500000    1.138000   \n",
       "max    128.740000   19.600000  6726.060000  1568.000000    3.109000   \n",
       "\n",
       "               RV          Sig  \n",
       "count  285.000000   244.000000  \n",
       "mean  -225.163823    33.737988  \n",
       "std     10.403754   320.561402  \n",
       "min   -263.251327     0.651997  \n",
       "25%   -231.627650     6.556687  \n",
       "50%   -226.550045    10.358860  \n",
       "75%   -218.800017    16.453360  \n",
       "max   -185.172023  5018.317077  "
      ]
     },
     "execution_count": 8,
     "metadata": {},
     "output_type": "execute_result"
    }
   ],
   "source": [
    "dt=pd.read_csv('Res//'+samples[0][i]+'.csv')\n",
    "#dt=pd.read_csv('datos Car.csv')\n",
    "dt=dt.rename(columns={'Unnamed: 0':'No'})\n",
    "dt=dt.drop('No',axis=1)\n",
    "#os.remove(datap)\n",
    "dt.describe()"
   ]
  },
  {
   "cell_type": "code",
   "execution_count": 9,
   "metadata": {},
   "outputs": [
    {
     "data": {
      "text/plain": [
       "(89.3125, 130.6175, -0.9800000000000001, 20.580000000000002)"
      ]
     },
     "execution_count": 9,
     "metadata": {},
     "output_type": "execute_result"
    },
    {
     "data": {
      "image/png": "[encoded data removed]",
      "text/plain": [
       "<Figure size 432x288 with 2 Axes>"
      ]
     },
     "metadata": {
      "needs_background": "light"
     },
     "output_type": "display_data"
    }
   ],
   "source": [
    "plt.scatter(dt.X,dt.Y,c=dt.RV, s=100,marker='s')\n",
    "plt.colorbar()\n",
    "plt.axis('equal')"
   ]
  },
  {
   "cell_type": "code",
   "execution_count": 10,
   "metadata": {},
   "outputs": [
    {
     "data": {
      "text/plain": [
       "(89.3125, 130.6175, -0.9800000000000001, 20.580000000000002)"
      ]
     },
     "execution_count": 10,
     "metadata": {},
     "output_type": "execute_result"
    },
    {
     "data": {
      "image/png": "[encoded data removed]",
      "text/plain": [
       "<Figure size 432x288 with 2 Axes>"
      ]
     },
     "metadata": {
      "needs_background": "light"
     },
     "output_type": "display_data"
    }
   ],
   "source": [
    "plt.scatter(dt.X,dt.Y,c=dt.Peak, s=100,marker='s',cmap='magma')\n",
    "plt.colorbar()\n",
    "plt.axis('equal')"
   ]
  },
  {
   "cell_type": "code",
   "execution_count": 11,
   "metadata": {
    "scrolled": true
   },
   "outputs": [
    {
     "name": "stdout",
     "output_type": "stream",
     "text": [
      "1.3399999999999892\n"
     ]
    },
    {
     "data": {
      "text/plain": [
       "[None, None]"
      ]
     },
     "execution_count": 11,
     "metadata": {},
     "output_type": "execute_result"
    },
    {
     "data": {
      "image/png": "[encoded data removed]",
      "text/plain": [
       "<Figure size 432x288 with 1 Axes>"
      ]
     },
     "metadata": {
      "needs_background": "light"
     },
     "output_type": "display_data"
    }
   ],
   "source": [
    "SF=sosf(dt)\n",
    "SF.Lag=SF.Lag*pc\n",
    "\n",
    "fig,ax=plt.subplots()\n",
    "\n",
    "ax.errorbar(SF.Lag,SF.Nmqvd, yerr=SF.ErrY, marker='.', fmt=' ',color=\"blue\", ecolor=\"blue\",\n",
    "                     alpha=0.5, markersize=5)\n",
    "\n",
    "ax.set(xscale='log',yscale='log')"
   ]
  },
  {
   "cell_type": "code",
   "execution_count": 12,
   "metadata": {},
   "outputs": [
    {
     "data": {
      "text/plain": [
       "array([13.79410472])"
      ]
     },
     "execution_count": 12,
     "metadata": {},
     "output_type": "execute_result"
    }
   ],
   "source": [
    "x=SF['Lag']\n",
    "y=SF['Nmqvd']-(dt.RV.std())**2\n",
    "tck=interpolate.splrep(x,y,s=0)\n",
    "grid=np.linspace(x.min(),x.max(),num=len(x))\n",
    "ynew=interpolate.splev(grid,tck,der=0)\n",
    "inter=pd.DataFrame([grid,ynew]).T\n",
    "SFr=interpolate.sproot(tck)\n",
    "SFr"
   ]
  },
  {
   "cell_type": "code",
   "execution_count": 13,
   "metadata": {},
   "outputs": [],
   "source": [
    "s=SFr[0]"
   ]
  },
  {
   "cell_type": "code",
   "execution_count": 14,
   "metadata": {},
   "outputs": [],
   "source": [
    "ss=np.round((dt.RV.std())**2,2)"
   ]
  },
  {
   "cell_type": "code",
   "execution_count": 15,
   "metadata": {},
   "outputs": [
    {
     "data": {
      "image/png": "[encoded data removed]",
      "text/plain": [
       "<Figure size 504x504 with 1 Axes>"
      ]
     },
     "metadata": {
      "needs_background": "light"
     },
     "output_type": "display_data"
    }
   ],
   "source": [
    "fig,ax=plt.subplots(figsize=(7,7))\n",
    "\n",
    "ax.errorbar(SF.Lag,SF.Nmqvd, yerr=SF.ErrY, marker='.', fmt=' ',color=\"blue\", ecolor=\"blue\",\n",
    "                     alpha=0.75, markersize=20)\n",
    "\n",
    "ax.set(xlabel='lag [pc]', ylabel='S$_{2}$(l) [km$^{2}$/s$^{2}$]')\n",
    "\n",
    "plt.axhline(y=ss, color='r', linestyle='--')\n",
    "ax.text(0.25, 0.8,'$σ_{POS}^{2}$ = '+str(ss)+' km/s', ha='center', va='center', transform=ax.transAxes, color='r')\n",
    "\n",
    "\n",
    "plt.axvline(x=s, color='k', linestyle='--')\n",
    "\n",
    "lo=s\n",
    "\n",
    "n=2\n",
    "\n",
    "x=np.linspace(int(SF.Lag.min()),int(SF.Lag.max()),100)\n",
    "c=1/(1+(x/lo)**n)\n",
    "\n",
    "y=2*(1-c)*(dt.RV.std())**2\n",
    "\n",
    "plt.loglog(x,y,color='k', linestyle='-')\n",
    "\n",
    "\n",
    "textstr = '\\n'.join(('NGC 604 ISIS B ' '[SII]' ,r'$m=%.2f$'%n, r'$r_{0}=%.2f$' % s+' [pc]',\n",
    "                     r'$σ_{POS}=%.2f$' % (dt.RV.std()) + ' [km/s]' , r'$σ_{LOS}=%.2f$'%(dt.Sig.std()) + ' [km/s]' )) \n",
    "\n",
    "props = dict(boxstyle='round', facecolor='wheat', alpha=0.5)\n",
    "ax.text(0.65, .3, textstr, transform=ax.transAxes, fontsize=14,\n",
    "        verticalalignment='top', bbox=props)\n",
    "\n",
    "plt.rcParams[\"font.family\"]=\"Times New Roman\"\n",
    "plt.rcParams[\"font.size\"]=\"20\"\n",
    "\n",
    "#ax.set_xlim(1, 250)\n",
    "#ax.set_ylim(1, 750)\n",
    "\n",
    "fig.savefig('Img//'+samples[0][i]+'.pdf')"
   ]
  },
  {
   "cell_type": "code",
   "execution_count": 16,
   "metadata": {},
   "outputs": [
    {
     "name": "stdout",
     "output_type": "stream",
     "text": [
      "--- 6.669528245925903 seconds ---\n"
     ]
    }
   ],
   "source": [
    "print(\"--- %s seconds ---\" % (time.time()-start_time))"
   ]
  }
 ],
 "metadata": {
  "kernelspec": {
   "display_name": "Python 3",
   "language": "python",
   "name": "python3"
  },
  "language_info": {
   "codemirror_mode": {
    "name": "ipython",
    "version": 3
   },
   "file_extension": ".py",
   "mimetype": "text/x-python",
   "name": "python",
   "nbconvert_exporter": "python",
   "pygments_lexer": "ipython3",
   "version": "3.8.3"
  }
 },
 "nbformat": 4,
 "nbformat_minor": 4
}
